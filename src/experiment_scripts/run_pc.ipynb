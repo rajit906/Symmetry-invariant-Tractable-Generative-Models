{
 "cells": [
  {
   "cell_type": "code",
   "execution_count": 1,
   "metadata": {},
   "outputs": [],
   "source": [
    "import os\n",
    "import random\n",
    "import torch\n",
    "from torch.utils.data import DataLoader\n",
    "import torch.optim.lr_scheduler as lr_scheduler\n",
    "import ssl\n",
    "ssl._create_default_https_context = ssl._create_unverified_context\n",
    "import models\n",
    "import wandb\n",
    "from train_PC import evaluation, training \n",
    "from data import load_data\n",
    "import numpy as np\n",
    "from util import categorical_layer_factory, hadamard_layer_factory, dense_layer_factory, mixing_layer_factory\n",
    "\n",
    "from Cirkits.cirkit.templates.region_graph import QuadTree\n",
    "from Cirkits.cirkit.symbolic.circuit import Circuit\n",
    "from Cirkits.cirkit.pipeline import PipelineContext\n",
    "\n",
    "random.seed(42)\n",
    "np.random.seed(42)\n",
    "device = torch.device(\"cuda\" if torch.cuda.is_available() else \"cpu\")\n",
    "\n",
    "height = 28\n",
    "input_dim = 784\n",
    "batch_size = 256\n",
    "region_graph = QuadTree(shape=(height, height))\n",
    "result_dir = 'model'\n",
    "name = 'pc'\n",
    "max_patience = 20\n",
    "num_epochs = 1\n",
    "lam = 0.\n",
    "lr = 0.1\n",
    "num_input_units = 8\n",
    "num_sum_units = 8\n",
    "\n",
    "hyperparameters = {'input_dim': input_dim, \n",
    "                   'lr': lr,\n",
    "                   'num_epochs': num_epochs,\n",
    "                   'max_patience': max_patience,\n",
    "                   'batch_size': batch_size,\n",
    "                   'lambda': lam,\n",
    "                   'num_input_units': 8,\n",
    "                   'num_sum_units': 8\n",
    "                    }\n",
    "\n",
    "#run = wandb.init(entity=\"rajpal906\")#entity=\"rajpal906\", project=\"MADE\", name=\"unregularized\", id=\"1\", config=hyperparameters, settings=wandb.Settings(start_method=\"fork\"))\n",
    "\n",
    "\n",
    "symbolic_circuit = Circuit.from_region_graph(\n",
    "    region_graph,\n",
    "    num_input_units=num_input_units,\n",
    "    num_sum_units=num_sum_units,\n",
    "    input_factory=categorical_layer_factory,\n",
    "    sum_factory=dense_layer_factory,\n",
    "    prod_factory=hadamard_layer_factory,\n",
    "    mixing_factory=mixing_layer_factory\n",
    ")\n",
    "\n",
    "ctx = PipelineContext(\n",
    "    backend='torch',   # Choose the torch compilation backend\n",
    "    fold=True,         # Fold the circuit, this is a backend-specific compilation flag\n",
    "    semiring='lse-sum' # Use the (R, +, *) semiring, where + is the log-sum-exp and * is the sum\n",
    ")\n",
    "circuit = ctx.compile(symbolic_circuit).to(device)\n",
    "pf_circuit = ctx.integrate(circuit).to(device)\n",
    "model = (circuit, pf_circuit)\n",
    "\n",
    "train_data, val_data, test_data = load_data('mnist', binarize = False)\n",
    "train_loader = DataLoader(train_data, batch_size=batch_size, drop_last=True, shuffle=True, num_workers=os.cpu_count())\n",
    "val_loader = DataLoader(val_data, batch_size=batch_size, shuffle=False, num_workers=os.cpu_count())\n",
    "test_loader = DataLoader(test_data, batch_size=batch_size, shuffle=False, num_workers=os.cpu_count())\n",
    "optimizer = torch.optim.SGD([p for p in circuit.parameters() if p.requires_grad == True], lr=lr, momentum=0.95) #torch.optim.Adam([p for p in circuit.parameters() if p.requires_grad == True], lr = lr)\n",
    "scheduler = lr_scheduler.StepLR(optimizer, step_size=100, gamma=0.5)"
   ]
  },
  {
   "cell_type": "code",
   "execution_count": 2,
   "metadata": {},
   "outputs": [
    {
     "name": "stdout",
     "output_type": "stream",
     "text": [
      "Average test LL: 946.551\n",
      "Bits per dimension: 1.7418177614028865\n",
      "Epoch: 0, train nll=926.1888427734375, val nll=946.5514791666667\n",
      "saved!\n",
      "Average test LL: 947.693\n",
      "Bits per dimension: 1.7439185953654004\n",
      "FINAL LOSS: nll=947.6931298828125\n",
      "Test NLL =947.6931298828125, Test BPD = 1.7439185953654004\n"
     ]
    }
   ],
   "source": [
    "nll_val, bpd_val, model_best = training(name=name, result_dir=result_dir, max_patience=max_patience, num_epochs=num_epochs, \n",
    "                   model=model, optimizer=optimizer, scheduler=scheduler, training_loader=train_loader, \n",
    "                   val_loader=val_loader, device=device, lam=lam, batch_size = batch_size)\n",
    "circuit, pf_circuit = model_best\n",
    "#torch.save(circuit, 'models/pc_test_circuit.pt')\n",
    "#torch.save(pf_circuit, 'models/pc_test_pf_circuit.pt')\n",
    "#circuit = torch.load('models/pc_test_circuit.pt')\n",
    "#pf_circuit = torch.load('models/pc_test_pf_circuit.pt')\n",
    "#model_best = (circuit, pf_circuit)\n",
    "test_nll, test_bpd = evaluation(test_loader, device, model_best=model_best)\n",
    "print(f'Test NLL ={test_nll}, Test BPD = {test_bpd}')\n",
    "#wandb.log({\"test_bpd\": test_bpd, \"test_loss\": test_nll})\n",
    "#run.log_artifact(result_dir + '/' + name + '.model')\n",
    "#run.finish()"
   ]
  },
  {
   "cell_type": "code",
   "execution_count": 3,
   "metadata": {},
   "outputs": [
    {
     "name": "stdout",
     "output_type": "stream",
     "text": [
      "Average test LL: 1020.841\n",
      "Bits per dimension: 1.8785235076299647\n",
      "FINAL LOSS: nll=1020.8411259765625\n"
     ]
    }
   ],
   "source": [
    "_, _, aug_test_data = load_data('mnist', binarize = False, augment = True, val = False)\n",
    "aug_test_loader = DataLoader(aug_test_data, batch_size=batch_size, shuffle=False, num_workers=os.cpu_count())\n",
    "aug_test_val, aug_test_bpd = evaluation(aug_test_loader, device, model_best=model)"
   ]
  },
  {
   "cell_type": "code",
   "execution_count": null,
   "metadata": {},
   "outputs": [],
   "source": []
  }
 ],
 "metadata": {
  "kernelspec": {
   "display_name": "Python 3",
   "language": "python",
   "name": "python3"
  },
  "language_info": {
   "codemirror_mode": {
    "name": "ipython",
    "version": 3
   },
   "file_extension": ".py",
   "mimetype": "text/x-python",
   "name": "python",
   "nbconvert_exporter": "python",
   "pygments_lexer": "ipython3",
   "version": "3.11.4"
  }
 },
 "nbformat": 4,
 "nbformat_minor": 2
}
