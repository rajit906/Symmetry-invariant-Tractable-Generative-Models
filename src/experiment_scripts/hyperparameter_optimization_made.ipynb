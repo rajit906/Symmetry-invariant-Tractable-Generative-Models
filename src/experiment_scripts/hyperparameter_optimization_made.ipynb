{
 "cells": [
  {
   "cell_type": "code",
   "execution_count": 1,
   "metadata": {},
   "outputs": [
    {
     "name": "stdout",
     "output_type": "stream",
     "text": [
      "..running\n"
     ]
    },
    {
     "name": "stderr",
     "output_type": "stream",
     "text": [
      "Failed to detect the name of this notebook, you can set it manually with the WANDB_NOTEBOOK_NAME environment variable to enable code saving.\n"
     ]
    },
    {
     "name": "stdout",
     "output_type": "stream",
     "text": [
      "Create sweep with ID: 96t4czhe\n",
      "Sweep URL: https://wandb.ai/rajpal906/made_hyperparameter_optimization/sweeps/96t4czhe\n"
     ]
    },
    {
     "name": "stderr",
     "output_type": "stream",
     "text": [
      "\u001b[34m\u001b[1mwandb\u001b[0m: Agent Starting Run: tl37k74j with config:\n",
      "\u001b[34m\u001b[1mwandb\u001b[0m: \tD: 784\n",
      "\u001b[34m\u001b[1mwandb\u001b[0m: \tM: 8000\n",
      "\u001b[34m\u001b[1mwandb\u001b[0m: \tbatch_size: 64\n",
      "\u001b[34m\u001b[1mwandb\u001b[0m: \tlam: 10\n",
      "\u001b[34m\u001b[1mwandb\u001b[0m: \tlr: 0.05428654335506235\n",
      "\u001b[34m\u001b[1mwandb\u001b[0m: \tmax_patience: 10\n",
      "\u001b[34m\u001b[1mwandb\u001b[0m: \tn_masks: 1\n",
      "\u001b[34m\u001b[1mwandb\u001b[0m: \tnum_epochs: 1\n",
      "Failed to detect the name of this notebook, you can set it manually with the WANDB_NOTEBOOK_NAME environment variable to enable code saving.\n",
      "\u001b[34m\u001b[1mwandb\u001b[0m: Currently logged in as: \u001b[33ms2592586\u001b[0m (\u001b[33mrajpal906\u001b[0m). Use \u001b[1m`wandb login --relogin`\u001b[0m to force relogin\n"
     ]
    },
    {
     "data": {
      "text/html": [
       "wandb version 0.17.2 is available!  To upgrade, please run:\n",
       " $ pip install wandb --upgrade"
      ],
      "text/plain": [
       "<IPython.core.display.HTML object>"
      ]
     },
     "metadata": {},
     "output_type": "display_data"
    },
    {
     "data": {
      "text/html": [
       "Tracking run with wandb version 0.17.0"
      ],
      "text/plain": [
       "<IPython.core.display.HTML object>"
      ]
     },
     "metadata": {},
     "output_type": "display_data"
    },
    {
     "data": {
      "text/html": [
       "Run data is saved locally in <code>/Users/rajit906/Downloads/Dissertation/Symmetry-invariant-Tractable-Generative-Models/src/wandb/run-20240623_163124-tl37k74j</code>"
      ],
      "text/plain": [
       "<IPython.core.display.HTML object>"
      ]
     },
     "metadata": {},
     "output_type": "display_data"
    },
    {
     "data": {
      "text/html": [
       "Syncing run <strong><a href='https://wandb.ai/rajpal906/made_hyperparameter_optimization/runs/tl37k74j' target=\"_blank\">effortless-sweep-1</a></strong> to <a href='https://wandb.ai/rajpal906/made_hyperparameter_optimization' target=\"_blank\">Weights & Biases</a> (<a href='https://wandb.me/run' target=\"_blank\">docs</a>)<br/>Sweep page: <a href='https://wandb.ai/rajpal906/made_hyperparameter_optimization/sweeps/96t4czhe' target=\"_blank\">https://wandb.ai/rajpal906/made_hyperparameter_optimization/sweeps/96t4czhe</a>"
      ],
      "text/plain": [
       "<IPython.core.display.HTML object>"
      ]
     },
     "metadata": {},
     "output_type": "display_data"
    },
    {
     "data": {
      "text/html": [
       " View project at <a href='https://wandb.ai/rajpal906/made_hyperparameter_optimization' target=\"_blank\">https://wandb.ai/rajpal906/made_hyperparameter_optimization</a>"
      ],
      "text/plain": [
       "<IPython.core.display.HTML object>"
      ]
     },
     "metadata": {},
     "output_type": "display_data"
    },
    {
     "data": {
      "text/html": [
       " View sweep at <a href='https://wandb.ai/rajpal906/made_hyperparameter_optimization/sweeps/96t4czhe' target=\"_blank\">https://wandb.ai/rajpal906/made_hyperparameter_optimization/sweeps/96t4czhe</a>"
      ],
      "text/plain": [
       "<IPython.core.display.HTML object>"
      ]
     },
     "metadata": {},
     "output_type": "display_data"
    },
    {
     "data": {
      "text/html": [
       " View run at <a href='https://wandb.ai/rajpal906/made_hyperparameter_optimization/runs/tl37k74j' target=\"_blank\">https://wandb.ai/rajpal906/made_hyperparameter_optimization/runs/tl37k74j</a>"
      ],
      "text/plain": [
       "<IPython.core.display.HTML object>"
      ]
     },
     "metadata": {},
     "output_type": "display_data"
    },
    {
     "name": "stdout",
     "output_type": "stream",
     "text": [
      "Epoch: 0, train nll=495.46337890625, val nll=3.4369427286783854\n",
      "saved!\n",
      "FINAL LOSS: nll=3.4465126251220704\n"
     ]
    },
    {
     "data": {
      "application/vnd.jupyter.widget-view+json": {
       "model_id": "1774d0d4dbea464181c5765d650c758e",
       "version_major": 2,
       "version_minor": 0
      },
      "text/plain": [
       "VBox(children=(Label(value='0.001 MB of 0.001 MB uploaded\\r'), FloatProgress(value=1.0, max=1.0)))"
      ]
     },
     "metadata": {},
     "output_type": "display_data"
    },
    {
     "data": {
      "text/html": [
       "<style>\n",
       "    table.wandb td:nth-child(1) { padding: 0 10px; text-align: left ; width: auto;} td:nth-child(2) {text-align: left ; width: 100%}\n",
       "    .wandb-row { display: flex; flex-direction: row; flex-wrap: wrap; justify-content: flex-start; width: 100% }\n",
       "    .wandb-col { display: flex; flex-direction: column; flex-basis: 100%; flex: 1; padding: 10px; }\n",
       "    </style>\n",
       "<div class=\"wandb-row\"><div class=\"wandb-col\"><h3>Run history:</h3><br/><table class=\"wandb\"><tr><td>epoch</td><td>▁</td></tr><tr><td>test_loss</td><td>▁</td></tr><tr><td>train_loss</td><td>▁</td></tr><tr><td>val_loss</td><td>▁</td></tr></table><br/></div><div class=\"wandb-col\"><h3>Run summary:</h3><br/><table class=\"wandb\"><tr><td>epoch</td><td>0</td></tr><tr><td>test_loss</td><td>3.44651</td></tr><tr><td>train_loss</td><td>495.46338</td></tr><tr><td>val_loss</td><td>3.43694</td></tr></table><br/></div></div>"
      ],
      "text/plain": [
       "<IPython.core.display.HTML object>"
      ]
     },
     "metadata": {},
     "output_type": "display_data"
    },
    {
     "data": {
      "text/html": [
       " View run <strong style=\"color:#cdcd00\">effortless-sweep-1</strong> at: <a href='https://wandb.ai/rajpal906/made_hyperparameter_optimization/runs/tl37k74j' target=\"_blank\">https://wandb.ai/rajpal906/made_hyperparameter_optimization/runs/tl37k74j</a><br/> View project at: <a href='https://wandb.ai/rajpal906/made_hyperparameter_optimization' target=\"_blank\">https://wandb.ai/rajpal906/made_hyperparameter_optimization</a><br/>Synced 5 W&B file(s), 0 media file(s), 0 artifact file(s) and 0 other file(s)"
      ],
      "text/plain": [
       "<IPython.core.display.HTML object>"
      ]
     },
     "metadata": {},
     "output_type": "display_data"
    },
    {
     "data": {
      "text/html": [
       "Find logs at: <code>./wandb/run-20240623_163124-tl37k74j/logs</code>"
      ],
      "text/plain": [
       "<IPython.core.display.HTML object>"
      ]
     },
     "metadata": {},
     "output_type": "display_data"
    },
    {
     "name": "stderr",
     "output_type": "stream",
     "text": [
      "\u001b[34m\u001b[1mwandb\u001b[0m: Agent Starting Run: i8t0wlty with config:\n",
      "\u001b[34m\u001b[1mwandb\u001b[0m: \tD: 784\n",
      "\u001b[34m\u001b[1mwandb\u001b[0m: \tM: 1000\n",
      "\u001b[34m\u001b[1mwandb\u001b[0m: \tbatch_size: 48\n",
      "\u001b[34m\u001b[1mwandb\u001b[0m: \tlam: 1\n",
      "\u001b[34m\u001b[1mwandb\u001b[0m: \tlr: 0.003210099737100103\n",
      "\u001b[34m\u001b[1mwandb\u001b[0m: \tmax_patience: 10\n",
      "\u001b[34m\u001b[1mwandb\u001b[0m: \tn_masks: 1\n",
      "\u001b[34m\u001b[1mwandb\u001b[0m: \tnum_epochs: 1\n",
      "Failed to detect the name of this notebook, you can set it manually with the WANDB_NOTEBOOK_NAME environment variable to enable code saving.\n"
     ]
    },
    {
     "data": {
      "text/html": [
       "wandb version 0.17.2 is available!  To upgrade, please run:\n",
       " $ pip install wandb --upgrade"
      ],
      "text/plain": [
       "<IPython.core.display.HTML object>"
      ]
     },
     "metadata": {},
     "output_type": "display_data"
    },
    {
     "data": {
      "text/html": [
       "Tracking run with wandb version 0.17.0"
      ],
      "text/plain": [
       "<IPython.core.display.HTML object>"
      ]
     },
     "metadata": {},
     "output_type": "display_data"
    },
    {
     "data": {
      "text/html": [
       "Run data is saved locally in <code>/Users/rajit906/Downloads/Dissertation/Symmetry-invariant-Tractable-Generative-Models/src/wandb/run-20240623_163441-i8t0wlty</code>"
      ],
      "text/plain": [
       "<IPython.core.display.HTML object>"
      ]
     },
     "metadata": {},
     "output_type": "display_data"
    },
    {
     "data": {
      "text/html": [
       "Syncing run <strong><a href='https://wandb.ai/rajpal906/made_hyperparameter_optimization/runs/i8t0wlty' target=\"_blank\">elated-sweep-2</a></strong> to <a href='https://wandb.ai/rajpal906/made_hyperparameter_optimization' target=\"_blank\">Weights & Biases</a> (<a href='https://wandb.me/run' target=\"_blank\">docs</a>)<br/>Sweep page: <a href='https://wandb.ai/rajpal906/made_hyperparameter_optimization/sweeps/96t4czhe' target=\"_blank\">https://wandb.ai/rajpal906/made_hyperparameter_optimization/sweeps/96t4czhe</a>"
      ],
      "text/plain": [
       "<IPython.core.display.HTML object>"
      ]
     },
     "metadata": {},
     "output_type": "display_data"
    },
    {
     "data": {
      "text/html": [
       " View project at <a href='https://wandb.ai/rajpal906/made_hyperparameter_optimization' target=\"_blank\">https://wandb.ai/rajpal906/made_hyperparameter_optimization</a>"
      ],
      "text/plain": [
       "<IPython.core.display.HTML object>"
      ]
     },
     "metadata": {},
     "output_type": "display_data"
    },
    {
     "data": {
      "text/html": [
       " View sweep at <a href='https://wandb.ai/rajpal906/made_hyperparameter_optimization/sweeps/96t4czhe' target=\"_blank\">https://wandb.ai/rajpal906/made_hyperparameter_optimization/sweeps/96t4czhe</a>"
      ],
      "text/plain": [
       "<IPython.core.display.HTML object>"
      ]
     },
     "metadata": {},
     "output_type": "display_data"
    },
    {
     "data": {
      "text/html": [
       " View run at <a href='https://wandb.ai/rajpal906/made_hyperparameter_optimization/runs/i8t0wlty' target=\"_blank\">https://wandb.ai/rajpal906/made_hyperparameter_optimization/runs/i8t0wlty</a>"
      ],
      "text/plain": [
       "<IPython.core.display.HTML object>"
      ]
     },
     "metadata": {},
     "output_type": "display_data"
    },
    {
     "name": "stdout",
     "output_type": "stream",
     "text": [
      "Epoch: 0, train nll=207.107666015625, val nll=2.2184019711812337\n",
      "saved!\n",
      "FINAL LOSS: nll=2.193197046661377\n"
     ]
    },
    {
     "data": {
      "application/vnd.jupyter.widget-view+json": {
       "model_id": "e55f147a1f0140c5b60852ae0ed05e5c",
       "version_major": 2,
       "version_minor": 0
      },
      "text/plain": [
       "VBox(children=(Label(value='0.001 MB of 0.001 MB uploaded\\r'), FloatProgress(value=1.0, max=1.0)))"
      ]
     },
     "metadata": {},
     "output_type": "display_data"
    },
    {
     "data": {
      "text/html": [
       "<style>\n",
       "    table.wandb td:nth-child(1) { padding: 0 10px; text-align: left ; width: auto;} td:nth-child(2) {text-align: left ; width: 100%}\n",
       "    .wandb-row { display: flex; flex-direction: row; flex-wrap: wrap; justify-content: flex-start; width: 100% }\n",
       "    .wandb-col { display: flex; flex-direction: column; flex-basis: 100%; flex: 1; padding: 10px; }\n",
       "    </style>\n",
       "<div class=\"wandb-row\"><div class=\"wandb-col\"><h3>Run history:</h3><br/><table class=\"wandb\"><tr><td>epoch</td><td>▁</td></tr><tr><td>test_loss</td><td>▁</td></tr><tr><td>train_loss</td><td>▁</td></tr><tr><td>val_loss</td><td>▁</td></tr></table><br/></div><div class=\"wandb-col\"><h3>Run summary:</h3><br/><table class=\"wandb\"><tr><td>epoch</td><td>0</td></tr><tr><td>test_loss</td><td>2.1932</td></tr><tr><td>train_loss</td><td>207.10767</td></tr><tr><td>val_loss</td><td>2.2184</td></tr></table><br/></div></div>"
      ],
      "text/plain": [
       "<IPython.core.display.HTML object>"
      ]
     },
     "metadata": {},
     "output_type": "display_data"
    },
    {
     "data": {
      "text/html": [
       " View run <strong style=\"color:#cdcd00\">elated-sweep-2</strong> at: <a href='https://wandb.ai/rajpal906/made_hyperparameter_optimization/runs/i8t0wlty' target=\"_blank\">https://wandb.ai/rajpal906/made_hyperparameter_optimization/runs/i8t0wlty</a><br/> View project at: <a href='https://wandb.ai/rajpal906/made_hyperparameter_optimization' target=\"_blank\">https://wandb.ai/rajpal906/made_hyperparameter_optimization</a><br/>Synced 5 W&B file(s), 0 media file(s), 0 artifact file(s) and 0 other file(s)"
      ],
      "text/plain": [
       "<IPython.core.display.HTML object>"
      ]
     },
     "metadata": {},
     "output_type": "display_data"
    },
    {
     "data": {
      "text/html": [
       "Find logs at: <code>./wandb/run-20240623_163441-i8t0wlty/logs</code>"
      ],
      "text/plain": [
       "<IPython.core.display.HTML object>"
      ]
     },
     "metadata": {},
     "output_type": "display_data"
    },
    {
     "name": "stderr",
     "output_type": "stream",
     "text": [
      "\u001b[34m\u001b[1mwandb\u001b[0m: Agent Starting Run: 8qviid0t with config:\n",
      "\u001b[34m\u001b[1mwandb\u001b[0m: \tD: 784\n",
      "\u001b[34m\u001b[1mwandb\u001b[0m: \tM: 1000\n",
      "\u001b[34m\u001b[1mwandb\u001b[0m: \tbatch_size: 48\n",
      "\u001b[34m\u001b[1mwandb\u001b[0m: \tlam: 10\n",
      "\u001b[34m\u001b[1mwandb\u001b[0m: \tlr: 0.060291400727110006\n",
      "\u001b[34m\u001b[1mwandb\u001b[0m: \tmax_patience: 10\n",
      "\u001b[34m\u001b[1mwandb\u001b[0m: \tn_masks: 1\n",
      "\u001b[34m\u001b[1mwandb\u001b[0m: \tnum_epochs: 1\n",
      "Failed to detect the name of this notebook, you can set it manually with the WANDB_NOTEBOOK_NAME environment variable to enable code saving.\n"
     ]
    },
    {
     "data": {
      "text/html": [
       "wandb version 0.17.2 is available!  To upgrade, please run:\n",
       " $ pip install wandb --upgrade"
      ],
      "text/plain": [
       "<IPython.core.display.HTML object>"
      ]
     },
     "metadata": {},
     "output_type": "display_data"
    },
    {
     "data": {
      "text/html": [
       "Tracking run with wandb version 0.17.0"
      ],
      "text/plain": [
       "<IPython.core.display.HTML object>"
      ]
     },
     "metadata": {},
     "output_type": "display_data"
    },
    {
     "data": {
      "text/html": [
       "Run data is saved locally in <code>/Users/rajit906/Downloads/Dissertation/Symmetry-invariant-Tractable-Generative-Models/src/wandb/run-20240623_163538-8qviid0t</code>"
      ],
      "text/plain": [
       "<IPython.core.display.HTML object>"
      ]
     },
     "metadata": {},
     "output_type": "display_data"
    },
    {
     "data": {
      "text/html": [
       "Syncing run <strong><a href='https://wandb.ai/rajpal906/made_hyperparameter_optimization/runs/8qviid0t' target=\"_blank\">generous-sweep-3</a></strong> to <a href='https://wandb.ai/rajpal906/made_hyperparameter_optimization' target=\"_blank\">Weights & Biases</a> (<a href='https://wandb.me/run' target=\"_blank\">docs</a>)<br/>Sweep page: <a href='https://wandb.ai/rajpal906/made_hyperparameter_optimization/sweeps/96t4czhe' target=\"_blank\">https://wandb.ai/rajpal906/made_hyperparameter_optimization/sweeps/96t4czhe</a>"
      ],
      "text/plain": [
       "<IPython.core.display.HTML object>"
      ]
     },
     "metadata": {},
     "output_type": "display_data"
    },
    {
     "data": {
      "text/html": [
       " View project at <a href='https://wandb.ai/rajpal906/made_hyperparameter_optimization' target=\"_blank\">https://wandb.ai/rajpal906/made_hyperparameter_optimization</a>"
      ],
      "text/plain": [
       "<IPython.core.display.HTML object>"
      ]
     },
     "metadata": {},
     "output_type": "display_data"
    },
    {
     "data": {
      "text/html": [
       " View sweep at <a href='https://wandb.ai/rajpal906/made_hyperparameter_optimization/sweeps/96t4czhe' target=\"_blank\">https://wandb.ai/rajpal906/made_hyperparameter_optimization/sweeps/96t4czhe</a>"
      ],
      "text/plain": [
       "<IPython.core.display.HTML object>"
      ]
     },
     "metadata": {},
     "output_type": "display_data"
    },
    {
     "data": {
      "text/html": [
       " View run at <a href='https://wandb.ai/rajpal906/made_hyperparameter_optimization/runs/8qviid0t' target=\"_blank\">https://wandb.ai/rajpal906/made_hyperparameter_optimization/runs/8qviid0t</a>"
      ],
      "text/plain": [
       "<IPython.core.display.HTML object>"
      ]
     },
     "metadata": {},
     "output_type": "display_data"
    },
    {
     "name": "stdout",
     "output_type": "stream",
     "text": [
      "Epoch: 0, train nll=478.0517578125, val nll=4.603689666748047\n",
      "saved!\n",
      "FINAL LOSS: nll=4.637733697509765\n"
     ]
    },
    {
     "data": {
      "application/vnd.jupyter.widget-view+json": {
       "model_id": "8db22fcabac8473c8cc25c042f4cba8e",
       "version_major": 2,
       "version_minor": 0
      },
      "text/plain": [
       "VBox(children=(Label(value='0.001 MB of 0.001 MB uploaded\\r'), FloatProgress(value=1.0, max=1.0)))"
      ]
     },
     "metadata": {},
     "output_type": "display_data"
    },
    {
     "data": {
      "text/html": [
       "<style>\n",
       "    table.wandb td:nth-child(1) { padding: 0 10px; text-align: left ; width: auto;} td:nth-child(2) {text-align: left ; width: 100%}\n",
       "    .wandb-row { display: flex; flex-direction: row; flex-wrap: wrap; justify-content: flex-start; width: 100% }\n",
       "    .wandb-col { display: flex; flex-direction: column; flex-basis: 100%; flex: 1; padding: 10px; }\n",
       "    </style>\n",
       "<div class=\"wandb-row\"><div class=\"wandb-col\"><h3>Run history:</h3><br/><table class=\"wandb\"><tr><td>epoch</td><td>▁</td></tr><tr><td>test_loss</td><td>▁</td></tr><tr><td>train_loss</td><td>▁</td></tr><tr><td>val_loss</td><td>▁</td></tr></table><br/></div><div class=\"wandb-col\"><h3>Run summary:</h3><br/><table class=\"wandb\"><tr><td>epoch</td><td>0</td></tr><tr><td>test_loss</td><td>4.63773</td></tr><tr><td>train_loss</td><td>478.05176</td></tr><tr><td>val_loss</td><td>4.60369</td></tr></table><br/></div></div>"
      ],
      "text/plain": [
       "<IPython.core.display.HTML object>"
      ]
     },
     "metadata": {},
     "output_type": "display_data"
    },
    {
     "data": {
      "text/html": [
       " View run <strong style=\"color:#cdcd00\">generous-sweep-3</strong> at: <a href='https://wandb.ai/rajpal906/made_hyperparameter_optimization/runs/8qviid0t' target=\"_blank\">https://wandb.ai/rajpal906/made_hyperparameter_optimization/runs/8qviid0t</a><br/> View project at: <a href='https://wandb.ai/rajpal906/made_hyperparameter_optimization' target=\"_blank\">https://wandb.ai/rajpal906/made_hyperparameter_optimization</a><br/>Synced 5 W&B file(s), 0 media file(s), 0 artifact file(s) and 0 other file(s)"
      ],
      "text/plain": [
       "<IPython.core.display.HTML object>"
      ]
     },
     "metadata": {},
     "output_type": "display_data"
    },
    {
     "data": {
      "text/html": [
       "Find logs at: <code>./wandb/run-20240623_163538-8qviid0t/logs</code>"
      ],
      "text/plain": [
       "<IPython.core.display.HTML object>"
      ]
     },
     "metadata": {},
     "output_type": "display_data"
    },
    {
     "name": "stderr",
     "output_type": "stream",
     "text": [
      "\u001b[34m\u001b[1mwandb\u001b[0m: Agent Starting Run: g06zi212 with config:\n",
      "\u001b[34m\u001b[1mwandb\u001b[0m: \tD: 784\n",
      "\u001b[34m\u001b[1mwandb\u001b[0m: \tM: 500\n",
      "\u001b[34m\u001b[1mwandb\u001b[0m: \tbatch_size: 32\n",
      "\u001b[34m\u001b[1mwandb\u001b[0m: \tlam: 1\n",
      "\u001b[34m\u001b[1mwandb\u001b[0m: \tlr: 0.009392026795759336\n",
      "\u001b[34m\u001b[1mwandb\u001b[0m: \tmax_patience: 10\n",
      "\u001b[34m\u001b[1mwandb\u001b[0m: \tn_masks: 1\n",
      "\u001b[34m\u001b[1mwandb\u001b[0m: \tnum_epochs: 1\n",
      "Failed to detect the name of this notebook, you can set it manually with the WANDB_NOTEBOOK_NAME environment variable to enable code saving.\n"
     ]
    },
    {
     "data": {
      "text/html": [
       "wandb version 0.17.2 is available!  To upgrade, please run:\n",
       " $ pip install wandb --upgrade"
      ],
      "text/plain": [
       "<IPython.core.display.HTML object>"
      ]
     },
     "metadata": {},
     "output_type": "display_data"
    },
    {
     "data": {
      "text/html": [
       "Tracking run with wandb version 0.17.0"
      ],
      "text/plain": [
       "<IPython.core.display.HTML object>"
      ]
     },
     "metadata": {},
     "output_type": "display_data"
    },
    {
     "data": {
      "text/html": [
       "Run data is saved locally in <code>/Users/rajit906/Downloads/Dissertation/Symmetry-invariant-Tractable-Generative-Models/src/wandb/run-20240623_163639-g06zi212</code>"
      ],
      "text/plain": [
       "<IPython.core.display.HTML object>"
      ]
     },
     "metadata": {},
     "output_type": "display_data"
    },
    {
     "data": {
      "text/html": [
       "Syncing run <strong><a href='https://wandb.ai/rajpal906/made_hyperparameter_optimization/runs/g06zi212' target=\"_blank\">hardy-sweep-4</a></strong> to <a href='https://wandb.ai/rajpal906/made_hyperparameter_optimization' target=\"_blank\">Weights & Biases</a> (<a href='https://wandb.me/run' target=\"_blank\">docs</a>)<br/>Sweep page: <a href='https://wandb.ai/rajpal906/made_hyperparameter_optimization/sweeps/96t4czhe' target=\"_blank\">https://wandb.ai/rajpal906/made_hyperparameter_optimization/sweeps/96t4czhe</a>"
      ],
      "text/plain": [
       "<IPython.core.display.HTML object>"
      ]
     },
     "metadata": {},
     "output_type": "display_data"
    },
    {
     "data": {
      "text/html": [
       " View project at <a href='https://wandb.ai/rajpal906/made_hyperparameter_optimization' target=\"_blank\">https://wandb.ai/rajpal906/made_hyperparameter_optimization</a>"
      ],
      "text/plain": [
       "<IPython.core.display.HTML object>"
      ]
     },
     "metadata": {},
     "output_type": "display_data"
    },
    {
     "data": {
      "text/html": [
       " View sweep at <a href='https://wandb.ai/rajpal906/made_hyperparameter_optimization/sweeps/96t4czhe' target=\"_blank\">https://wandb.ai/rajpal906/made_hyperparameter_optimization/sweeps/96t4czhe</a>"
      ],
      "text/plain": [
       "<IPython.core.display.HTML object>"
      ]
     },
     "metadata": {},
     "output_type": "display_data"
    },
    {
     "data": {
      "text/html": [
       " View run at <a href='https://wandb.ai/rajpal906/made_hyperparameter_optimization/runs/g06zi212' target=\"_blank\">https://wandb.ai/rajpal906/made_hyperparameter_optimization/runs/g06zi212</a>"
      ],
      "text/plain": [
       "<IPython.core.display.HTML object>"
      ]
     },
     "metadata": {},
     "output_type": "display_data"
    },
    {
     "name": "stdout",
     "output_type": "stream",
     "text": [
      "Epoch: 0, train nll=216.70138549804688, val nll=3.6436473172505695\n",
      "saved!\n",
      "FINAL LOSS: nll=3.6130837928771973\n"
     ]
    },
    {
     "data": {
      "application/vnd.jupyter.widget-view+json": {
       "model_id": "079d68bdd7fa41919ad239243170897e",
       "version_major": 2,
       "version_minor": 0
      },
      "text/plain": [
       "VBox(children=(Label(value='0.001 MB of 0.001 MB uploaded\\r'), FloatProgress(value=1.0, max=1.0)))"
      ]
     },
     "metadata": {},
     "output_type": "display_data"
    },
    {
     "data": {
      "text/html": [
       "<style>\n",
       "    table.wandb td:nth-child(1) { padding: 0 10px; text-align: left ; width: auto;} td:nth-child(2) {text-align: left ; width: 100%}\n",
       "    .wandb-row { display: flex; flex-direction: row; flex-wrap: wrap; justify-content: flex-start; width: 100% }\n",
       "    .wandb-col { display: flex; flex-direction: column; flex-basis: 100%; flex: 1; padding: 10px; }\n",
       "    </style>\n",
       "<div class=\"wandb-row\"><div class=\"wandb-col\"><h3>Run history:</h3><br/><table class=\"wandb\"><tr><td>epoch</td><td>▁</td></tr><tr><td>test_loss</td><td>▁</td></tr><tr><td>train_loss</td><td>▁</td></tr><tr><td>val_loss</td><td>▁</td></tr></table><br/></div><div class=\"wandb-col\"><h3>Run summary:</h3><br/><table class=\"wandb\"><tr><td>epoch</td><td>0</td></tr><tr><td>test_loss</td><td>3.61308</td></tr><tr><td>train_loss</td><td>216.70139</td></tr><tr><td>val_loss</td><td>3.64365</td></tr></table><br/></div></div>"
      ],
      "text/plain": [
       "<IPython.core.display.HTML object>"
      ]
     },
     "metadata": {},
     "output_type": "display_data"
    },
    {
     "data": {
      "text/html": [
       " View run <strong style=\"color:#cdcd00\">hardy-sweep-4</strong> at: <a href='https://wandb.ai/rajpal906/made_hyperparameter_optimization/runs/g06zi212' target=\"_blank\">https://wandb.ai/rajpal906/made_hyperparameter_optimization/runs/g06zi212</a><br/> View project at: <a href='https://wandb.ai/rajpal906/made_hyperparameter_optimization' target=\"_blank\">https://wandb.ai/rajpal906/made_hyperparameter_optimization</a><br/>Synced 5 W&B file(s), 0 media file(s), 0 artifact file(s) and 0 other file(s)"
      ],
      "text/plain": [
       "<IPython.core.display.HTML object>"
      ]
     },
     "metadata": {},
     "output_type": "display_data"
    },
    {
     "data": {
      "text/html": [
       "Find logs at: <code>./wandb/run-20240623_163639-g06zi212/logs</code>"
      ],
      "text/plain": [
       "<IPython.core.display.HTML object>"
      ]
     },
     "metadata": {},
     "output_type": "display_data"
    },
    {
     "name": "stderr",
     "output_type": "stream",
     "text": [
      "\u001b[34m\u001b[1mwandb\u001b[0m: Sweep Agent: Waiting for job.\n",
      "\u001b[34m\u001b[1mwandb\u001b[0m: Job received.\n",
      "\u001b[34m\u001b[1mwandb\u001b[0m: Agent Starting Run: wez1s990 with config:\n",
      "\u001b[34m\u001b[1mwandb\u001b[0m: \tD: 784\n",
      "\u001b[34m\u001b[1mwandb\u001b[0m: \tM: 8000\n",
      "\u001b[34m\u001b[1mwandb\u001b[0m: \tbatch_size: 136\n",
      "\u001b[34m\u001b[1mwandb\u001b[0m: \tlam: 1\n",
      "\u001b[34m\u001b[1mwandb\u001b[0m: \tlr: 0.0637729418742657\n",
      "\u001b[34m\u001b[1mwandb\u001b[0m: \tmax_patience: 10\n",
      "\u001b[34m\u001b[1mwandb\u001b[0m: \tn_masks: 1\n",
      "\u001b[34m\u001b[1mwandb\u001b[0m: \tnum_epochs: 1\n",
      "Failed to detect the name of this notebook, you can set it manually with the WANDB_NOTEBOOK_NAME environment variable to enable code saving.\n"
     ]
    },
    {
     "data": {
      "text/html": [
       "wandb version 0.17.2 is available!  To upgrade, please run:\n",
       " $ pip install wandb --upgrade"
      ],
      "text/plain": [
       "<IPython.core.display.HTML object>"
      ]
     },
     "metadata": {},
     "output_type": "display_data"
    },
    {
     "data": {
      "text/html": [
       "Tracking run with wandb version 0.17.0"
      ],
      "text/plain": [
       "<IPython.core.display.HTML object>"
      ]
     },
     "metadata": {},
     "output_type": "display_data"
    },
    {
     "data": {
      "text/html": [
       "Run data is saved locally in <code>/Users/rajit906/Downloads/Dissertation/Symmetry-invariant-Tractable-Generative-Models/src/wandb/run-20240623_163741-wez1s990</code>"
      ],
      "text/plain": [
       "<IPython.core.display.HTML object>"
      ]
     },
     "metadata": {},
     "output_type": "display_data"
    },
    {
     "data": {
      "text/html": [
       "Syncing run <strong><a href='https://wandb.ai/rajpal906/made_hyperparameter_optimization/runs/wez1s990' target=\"_blank\">resilient-sweep-5</a></strong> to <a href='https://wandb.ai/rajpal906/made_hyperparameter_optimization' target=\"_blank\">Weights & Biases</a> (<a href='https://wandb.me/run' target=\"_blank\">docs</a>)<br/>Sweep page: <a href='https://wandb.ai/rajpal906/made_hyperparameter_optimization/sweeps/96t4czhe' target=\"_blank\">https://wandb.ai/rajpal906/made_hyperparameter_optimization/sweeps/96t4czhe</a>"
      ],
      "text/plain": [
       "<IPython.core.display.HTML object>"
      ]
     },
     "metadata": {},
     "output_type": "display_data"
    },
    {
     "data": {
      "text/html": [
       " View project at <a href='https://wandb.ai/rajpal906/made_hyperparameter_optimization' target=\"_blank\">https://wandb.ai/rajpal906/made_hyperparameter_optimization</a>"
      ],
      "text/plain": [
       "<IPython.core.display.HTML object>"
      ]
     },
     "metadata": {},
     "output_type": "display_data"
    },
    {
     "data": {
      "text/html": [
       " View sweep at <a href='https://wandb.ai/rajpal906/made_hyperparameter_optimization/sweeps/96t4czhe' target=\"_blank\">https://wandb.ai/rajpal906/made_hyperparameter_optimization/sweeps/96t4czhe</a>"
      ],
      "text/plain": [
       "<IPython.core.display.HTML object>"
      ]
     },
     "metadata": {},
     "output_type": "display_data"
    },
    {
     "data": {
      "text/html": [
       " View run at <a href='https://wandb.ai/rajpal906/made_hyperparameter_optimization/runs/wez1s990' target=\"_blank\">https://wandb.ai/rajpal906/made_hyperparameter_optimization/runs/wez1s990</a>"
      ],
      "text/plain": [
       "<IPython.core.display.HTML object>"
      ]
     },
     "metadata": {},
     "output_type": "display_data"
    },
    {
     "name": "stdout",
     "output_type": "stream",
     "text": [
      "Epoch: 0, train nll=319.82501220703125, val nll=1.0572994028727214\n",
      "saved!\n",
      "FINAL LOSS: nll=1.0306237930297852\n"
     ]
    },
    {
     "data": {
      "application/vnd.jupyter.widget-view+json": {
       "model_id": "c11523279fa84141948d69f370667bd9",
       "version_major": 2,
       "version_minor": 0
      },
      "text/plain": [
       "VBox(children=(Label(value='0.001 MB of 0.001 MB uploaded\\r'), FloatProgress(value=1.0, max=1.0)))"
      ]
     },
     "metadata": {},
     "output_type": "display_data"
    },
    {
     "data": {
      "text/html": [
       "<style>\n",
       "    table.wandb td:nth-child(1) { padding: 0 10px; text-align: left ; width: auto;} td:nth-child(2) {text-align: left ; width: 100%}\n",
       "    .wandb-row { display: flex; flex-direction: row; flex-wrap: wrap; justify-content: flex-start; width: 100% }\n",
       "    .wandb-col { display: flex; flex-direction: column; flex-basis: 100%; flex: 1; padding: 10px; }\n",
       "    </style>\n",
       "<div class=\"wandb-row\"><div class=\"wandb-col\"><h3>Run history:</h3><br/><table class=\"wandb\"><tr><td>epoch</td><td>▁</td></tr><tr><td>test_loss</td><td>▁</td></tr><tr><td>train_loss</td><td>▁</td></tr><tr><td>val_loss</td><td>▁</td></tr></table><br/></div><div class=\"wandb-col\"><h3>Run summary:</h3><br/><table class=\"wandb\"><tr><td>epoch</td><td>0</td></tr><tr><td>test_loss</td><td>1.03062</td></tr><tr><td>train_loss</td><td>319.82501</td></tr><tr><td>val_loss</td><td>1.0573</td></tr></table><br/></div></div>"
      ],
      "text/plain": [
       "<IPython.core.display.HTML object>"
      ]
     },
     "metadata": {},
     "output_type": "display_data"
    },
    {
     "data": {
      "text/html": [
       " View run <strong style=\"color:#cdcd00\">resilient-sweep-5</strong> at: <a href='https://wandb.ai/rajpal906/made_hyperparameter_optimization/runs/wez1s990' target=\"_blank\">https://wandb.ai/rajpal906/made_hyperparameter_optimization/runs/wez1s990</a><br/> View project at: <a href='https://wandb.ai/rajpal906/made_hyperparameter_optimization' target=\"_blank\">https://wandb.ai/rajpal906/made_hyperparameter_optimization</a><br/>Synced 5 W&B file(s), 0 media file(s), 0 artifact file(s) and 0 other file(s)"
      ],
      "text/plain": [
       "<IPython.core.display.HTML object>"
      ]
     },
     "metadata": {},
     "output_type": "display_data"
    },
    {
     "data": {
      "text/html": [
       "Find logs at: <code>./wandb/run-20240623_163741-wez1s990/logs</code>"
      ],
      "text/plain": [
       "<IPython.core.display.HTML object>"
      ]
     },
     "metadata": {},
     "output_type": "display_data"
    }
   ],
   "source": [
    "print('..running')\n",
    "import os\n",
    "import torch\n",
    "from torch.utils.data import DataLoader\n",
    "import torch.optim.lr_scheduler as lr_scheduler\n",
    "import ssl\n",
    "ssl._create_default_https_context = ssl._create_unverified_context\n",
    "from util import cross_entropy_loss_fn\n",
    "import models\n",
    "import wandb\n",
    "from train import evaluation, training \n",
    "from data import load_data\n",
    "\n",
    "os.environ['WANDB_NOTEBOOK_NAME'] = 'hyperparameter_optimization.ipynb'\n",
    "\n",
    "device = torch.device(\"cuda\" if torch.cuda.is_available() else \"cpu\")\n",
    "\n",
    "result_dir = 'models'\n",
    "if not(os.path.exists(result_dir)):\n",
    "    os.mkdir(result_dir)\n",
    "name = 'made'#Change to regularized\n",
    "\n",
    "sweep_config = {\n",
    "    'method': 'grid'\n",
    "    }\n",
    "metric = {\n",
    "'name': 'test_loss',\n",
    "'goal': 'minimize'   \n",
    "}\n",
    "\n",
    "sweep_config['metric'] = metric\n",
    "\n",
    "parameters_dict = {\n",
    "'D': {\n",
    "    'value': 784\n",
    "    },\n",
    "'M': {\n",
    "    'values': [4000, 8000]\n",
    "    },\n",
    "'lam': {\n",
    "    'values': [0.1, 0.5, 1.0]\n",
    "    },\n",
    "'num_epochs': {\n",
    "    'value': 30\n",
    "    },\n",
    "'lr': {\n",
    "    'values': [1e-2, 1e-3, 1e-4]\n",
    "    },\n",
    "'batch_size': {\n",
    "    'values': [64, 128]\n",
    "    },\n",
    "'n_masks': {\n",
    "    'value': 1\n",
    "    },\n",
    "'max_patience': {\n",
    "    'value': 10\n",
    "    },\n",
    "}\n",
    "\n",
    "\n",
    "sweep_config['parameters'] = parameters_dict\n",
    "sweep_id = wandb.sweep(sweep_config, project=\"made_hyperparameter_optimization\")\n",
    "\n",
    "def hyperparameter_sweep(config=None):\n",
    "    with wandb.init(config=config):\n",
    "        config = wandb.config\n",
    "        train_data, val_data, test_data = load_data('mnist', binarize = True)\n",
    "        train_loader = DataLoader(train_data, batch_size=config.batch_size, shuffle=True, num_workers=os.cpu_count())\n",
    "        val_loader = DataLoader(val_data, batch_size=config.batch_size, shuffle=False, num_workers=os.cpu_count())\n",
    "        test_loader = DataLoader(test_data, batch_size=config.batch_size, shuffle=False, num_workers=os.cpu_count())\n",
    "        model = models.MADE(input_dim=config.D, hidden_dims=[config.M], n_masks=config.n_masks).to(device)\n",
    "        optimizer = torch.optim.Adam([p for p in model.parameters() if p.requires_grad == True], lr = config.lr)\n",
    "        scheduler = lr_scheduler.StepLR(optimizer, step_size=100, gamma=0.5)\n",
    "        _ = training(name=name, result_dir=result_dir, max_patience=config.max_patience, num_epochs=config.num_epochs, model=model, loss_fn=cross_entropy_loss_fn, optimizer=optimizer,\n",
    "                        scheduler=scheduler, training_loader=train_loader, val_loader=val_loader, device=device, lam=config.lam)\n",
    "        model.eval()\n",
    "        test_val = evaluation(test_loader, cross_entropy_loss_fn, model_best=model)\n",
    "        wandb.log({\"test_loss\": test_val * config.batch_size})\n",
    "\n",
    "wandb.agent(sweep_id, hyperparameter_sweep)"
   ]
  },
  {
   "cell_type": "code",
   "execution_count": null,
   "metadata": {},
   "outputs": [],
   "source": []
  }
 ],
 "metadata": {
  "kernelspec": {
   "display_name": "Python 3",
   "language": "python",
   "name": "python3"
  },
  "language_info": {
   "codemirror_mode": {
    "name": "ipython",
    "version": 3
   },
   "file_extension": ".py",
   "mimetype": "text/x-python",
   "name": "python",
   "nbconvert_exporter": "python",
   "pygments_lexer": "ipython3",
   "version": "3.11.4"
  }
 },
 "nbformat": 4,
 "nbformat_minor": 2
}
