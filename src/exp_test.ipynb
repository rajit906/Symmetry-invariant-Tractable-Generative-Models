{
 "cells": [
  {
   "cell_type": "code",
   "execution_count": 22,
   "metadata": {},
   "outputs": [
    {
     "name": "stdout",
     "output_type": "stream",
     "text": [
      "..running\n",
      "Epoch: 0, train nll=1091.611572265625, val nll=1087.8172376302084\n",
      "saved!\n",
      "Epoch: 1, train nll=552.5908813476562, val nll=555.2500924479167\n",
      "saved!\n",
      "Epoch: 2, train nll=483.7380065917969, val nll=485.67423958333336\n",
      "saved!\n",
      "Epoch: 3, train nll=483.1386413574219, val nll=505.67021484375\n",
      "Epoch: 4, train nll=546.165771484375, val nll=547.21078515625\n",
      "Epoch: 5, train nll=542.8458862304688, val nll=548.49308984375\n",
      "Epoch: 6, train nll=611.1234130859375, val nll=588.3969873046875\n",
      "Epoch: 7, train nll=629.8516235351562, val nll=631.2258291015625\n",
      "Epoch: 8, train nll=581.1243896484375, val nll=613.0273733723958\n",
      "FINAL LOSS: nll=487.033277734375\n"
     ]
    }
   ],
   "source": [
    "print('..running')\n",
    "import os\n",
    "import torch\n",
    "from torch.utils.data import DataLoader\n",
    "from torchvision import datasets, transforms\n",
    "import torch.optim.lr_scheduler as lr_scheduler\n",
    "#from pytorch_model_summary import summary\n",
    "import yaml\n",
    "import ssl\n",
    "ssl._create_default_https_context = ssl._create_unverified_context\n",
    "\n",
    "from util import samples_generated, samples_real, plot_curve\n",
    "import idf\n",
    "from train import evaluation, training \n",
    "from data import load_data\n",
    "from neural_networks import nnetts\n",
    "\n",
    "device = torch.device(\"cuda\" if torch.cuda.is_available() else \"cpu\")\n",
    "\n",
    "result_dir = 'results/exp_test'\n",
    "if not(os.path.exists(result_dir)):\n",
    "    os.mkdir(result_dir)\n",
    "name = 'idf-4'\n",
    "\n",
    "D = 784   # input dimension\n",
    "M = D  # the number of neurons in scale (s) and translation (t) nets\n",
    "lr = 1e-3 # learning rate\n",
    "num_epochs = 50\n",
    "max_patience = 5 # Early Stopping\n",
    "num_flows = 4 # The number of invertible transformations\n",
    "lam = 0. # Regularization Hyperparameter\n",
    "n_mixtures = 3 # Number of latent mixing variables\n",
    "batch_size = 50\n",
    "hyperparameters = {'D': D, \n",
    "                   'M': M,\n",
    "                   'lr': lr,\n",
    "                   'num_epochs': num_epochs,\n",
    "                   'max_patience': max_patience,\n",
    "                   'num_flows': num_flows,\n",
    "                   'batch_size': batch_size,\n",
    "                   'lambda': lam,\n",
    "                   'n_mixtures': n_mixtures\n",
    "                    }\n",
    "with open(result_dir + '/hyperparameters.yaml', 'w') as file:\n",
    "    yaml.dump(hyperparameters, file)\n",
    "\n",
    "train_data, val_data, test_data = load_data('mnist')\n",
    "# Create data loaders\n",
    "training_loader = DataLoader(train_data, batch_size=batch_size, shuffle=True)\n",
    "val_loader = DataLoader(val_data, batch_size=batch_size, shuffle=False)\n",
    "test_loader = DataLoader(test_data, batch_size=batch_size, shuffle=False)\n",
    "\n",
    "netts = nnetts(D, M)\n",
    "model = idf.IDF4(netts, num_flows, n_mixtures = n_mixtures, D=D).to(device)\n",
    "#print(summary(model, torch.zeros(1, 64), show_input=False, show_hierarchical=False))\n",
    "optimizer = torch.optim.Adamax([p for p in model.parameters() if p.requires_grad == True], lr=lr)\n",
    "scheduler = lr_scheduler.StepLR(optimizer, step_size=15, gamma=0.5)\n",
    "# Training procedure\n",
    "nll_val = training(name=name, result_dir = result_dir, max_patience=max_patience, num_epochs=num_epochs, model=model, optimizer=optimizer,\n",
    "                   scheduler=scheduler, training_loader=training_loader, val_loader=val_loader, device=device, lam=lam)\n",
    "\n",
    "with open(result_dir + '/val_loss.txt', \"w\") as file:\n",
    "    for item in nll_val:\n",
    "        file.write(f\"{item}\\n\")\n",
    "\n",
    "test_loss = evaluation(name=result_dir + '/' + name, test_loader=test_loader)\n",
    "f = open(result_dir + '/test_loss.txt', \"w\")\n",
    "f.write(str(test_loss))\n",
    "f.close()\n",
    "\n",
    "#samples_generated(result_dir + '/' + name, test_loader, 28)\n",
    "plot_curve(result_dir + '/' + name, nll_val)"
   ]
  },
  {
   "cell_type": "code",
   "execution_count": 24,
   "metadata": {},
   "outputs": [
    {
     "data": {
      "text/plain": [
       "<matplotlib.image.AxesImage at 0x294c95890>"
      ]
     },
     "execution_count": 24,
     "metadata": {},
     "output_type": "execute_result"
    },
    {
     "data": {
      "image/png": "[encoded data removed]",
      "text/plain": [
       "<Figure size 640x480 with 1 Axes>"
      ]
     },
     "metadata": {},
     "output_type": "display_data"
    }
   ],
   "source": [
    "import numpy as np\n",
    "import matplotlib.pyplot as plt\n",
    "x = next(iter(val_loader)).detach().numpy()\n",
    "\n",
    "# GENERATIONS-------\n",
    "model_best = torch.load(result_dir + '/' + name + '.model')\n",
    "model_best.eval()\n",
    "\n",
    "num_x = 1\n",
    "num_y = 1\n",
    "x = model_best.sample(num_x * num_y)\n",
    "x = x.detach().numpy()\n",
    "\n",
    "fig, ax = plt.subplots(num_x, num_y)\n",
    "plottable_image = np.reshape(x, (28, 28))\n",
    "ax.imshow(plottable_image, cmap='gray')\n",
    "#ax.axis('off')\n",
    "\n",
    "#plt.savefig(result_dir + '/' + name + '_generated_images' + '.pdf', bbox_inches='tight')\n",
    "#plt.close()"
   ]
  },
  {
   "cell_type": "code",
   "execution_count": null,
   "metadata": {},
   "outputs": [],
   "source": []
  }
 ],
 "metadata": {
  "kernelspec": {
   "display_name": "Python 3",
   "language": "python",
   "name": "python3"
  },
  "language_info": {
   "codemirror_mode": {
    "name": "ipython",
    "version": 3
   },
   "file_extension": ".py",
   "mimetype": "text/x-python",
   "name": "python",
   "nbconvert_exporter": "python",
   "pygments_lexer": "ipython3",
   "version": "3.11.4"
  }
 },
 "nbformat": 4,
 "nbformat_minor": 2
}
