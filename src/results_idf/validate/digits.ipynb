{
 "cells": [
  {
   "cell_type": "code",
   "execution_count": 7,
   "metadata": {},
   "outputs": [
    {
     "name": "stdout",
     "output_type": "stream",
     "text": [
      "..running\n"
     ]
    }
   ],
   "source": [
    "print('..running')\n",
    "import os\n",
    "import torch\n",
    "from torch.utils.data import DataLoader\n",
    "from torchvision import datasets, transforms\n",
    "import torch.optim.lr_scheduler as lr_scheduler\n",
    "#from pytorch_model_summary import summary\n",
    "import yaml\n",
    "import ssl\n",
    "ssl._create_default_https_context = ssl._create_unverified_context\n",
    "\n",
    "from util import samples_generated, samples_real, plot_curve\n",
    "import idf\n",
    "from train import evaluation, training \n",
    "from data import load_data\n",
    "from neural_networks import nnetts"
   ]
  },
  {
   "cell_type": "code",
   "execution_count": 8,
   "metadata": {},
   "outputs": [],
   "source": [
    "device = torch.device(\"cuda\" if torch.cuda.is_available() else \"cpu\")\n",
    "\n",
    "result_dir = 'results/validate'\n",
    "if not(os.path.exists(result_dir)):\n",
    "    os.mkdir(result_dir)\n",
    "name = 'idf-4'"
   ]
  },
  {
   "cell_type": "code",
   "execution_count": 31,
   "metadata": {},
   "outputs": [],
   "source": [
    "D = 64   # input dimension\n",
    "M = D * 4  # the number of neurons in scale (s) and translation (t) nets\n",
    "lr = 5e-3 # learning rate\n",
    "num_epochs = 1000\n",
    "max_patience = 20 # Early Stopping\n",
    "num_flows = 4 # The number of invertible transformations\n",
    "lam = 0. # Regularization Hyperparameter\n",
    "n_mixtures = 5 # Number of latent mixing variables\n",
    "batch_size = 64\n",
    "\n",
    "hyperparameters = {'D': D, \n",
    "                   'M': M,\n",
    "                   'lr': lr,\n",
    "                   'num_epochs': num_epochs,\n",
    "                   'max_patience': max_patience,\n",
    "                   'num_flows': num_flows,\n",
    "                   'batch_size': batch_size,\n",
    "                   'lambda': lam,\n",
    "                   'n_mixtures': n_mixtures\n",
    "                    }\n",
    "with open(result_dir + '/hyperparameters.yaml', 'w') as file:\n",
    "    yaml.dump(hyperparameters, file)"
   ]
  },
  {
   "cell_type": "code",
   "execution_count": 32,
   "metadata": {},
   "outputs": [],
   "source": [
    "train_data, val_data, test_data = load_data('sklearn')\n",
    "# Create data loaders\n",
    "training_loader = DataLoader(train_data, batch_size=batch_size, shuffle=True)\n",
    "val_loader = DataLoader(val_data, batch_size=batch_size, shuffle=False)\n",
    "test_loader = DataLoader(test_data, batch_size=batch_size, shuffle=False)"
   ]
  },
  {
   "cell_type": "code",
   "execution_count": 33,
   "metadata": {},
   "outputs": [
    {
     "name": "stdout",
     "output_type": "stream",
     "text": [
      "Epoch: 0, train nll=173.06971740722656, val nll=176.473291015625\n",
      "saved!\n",
      "Epoch: 1, train nll=168.22286987304688, val nll=171.33269252232142\n",
      "saved!\n",
      "Epoch: 2, train nll=163.78543090820312, val nll=167.45395926339285\n",
      "saved!\n",
      "Epoch: 3, train nll=159.32516479492188, val nll=163.9019224330357\n",
      "saved!\n",
      "Epoch: 4, train nll=156.17506408691406, val nll=160.56386160714285\n",
      "saved!\n",
      "Epoch: 5, train nll=152.81822204589844, val nll=158.14012137276785\n",
      "saved!\n",
      "Epoch: 6, train nll=149.7782440185547, val nll=155.40924386160714\n",
      "saved!\n",
      "Epoch: 7, train nll=146.67788696289062, val nll=153.71955915178572\n",
      "saved!\n",
      "Epoch: 8, train nll=143.2123260498047, val nll=151.51263113839286\n",
      "saved!\n",
      "Epoch: 9, train nll=141.6419677734375, val nll=149.48371512276785\n",
      "saved!\n",
      "Epoch: 10, train nll=139.0266876220703, val nll=147.91493722098215\n",
      "saved!\n",
      "Epoch: 11, train nll=136.7530975341797, val nll=146.467919921875\n",
      "saved!\n",
      "Epoch: 12, train nll=135.53392028808594, val nll=145.41988002232142\n",
      "saved!\n",
      "Epoch: 13, train nll=133.13052368164062, val nll=143.45747907366072\n",
      "saved!\n",
      "Epoch: 14, train nll=130.32833862304688, val nll=143.06732142857143\n",
      "saved!\n",
      "Epoch: 15, train nll=129.4623565673828, val nll=143.24919642857142\n",
      "Epoch: 16, train nll=127.58284759521484, val nll=141.80093191964286\n",
      "saved!\n",
      "Epoch: 17, train nll=125.43971252441406, val nll=141.50085379464286\n",
      "saved!\n",
      "Epoch: 18, train nll=123.5633316040039, val nll=141.32583984375\n",
      "saved!\n",
      "Epoch: 19, train nll=123.7422103881836, val nll=140.44611746651785\n",
      "saved!\n",
      "Epoch: 20, train nll=122.15446472167969, val nll=140.49675502232142\n",
      "Epoch: 21, train nll=121.27447509765625, val nll=140.408037109375\n",
      "saved!\n",
      "Epoch: 22, train nll=121.19239807128906, val nll=140.2779296875\n",
      "saved!\n",
      "Epoch: 23, train nll=119.0211410522461, val nll=140.557529296875\n",
      "Epoch: 24, train nll=118.8616943359375, val nll=140.91594308035715\n",
      "Epoch: 25, train nll=116.02330017089844, val nll=141.72415736607144\n",
      "Epoch: 26, train nll=118.17061614990234, val nll=141.59967494419644\n",
      "Epoch: 27, train nll=115.21324157714844, val nll=143.44925083705357\n",
      "Epoch: 28, train nll=114.63078308105469, val nll=143.2181821986607\n",
      "Epoch: 29, train nll=113.91011810302734, val nll=143.81267020089285\n",
      "Epoch: 30, train nll=115.8436050415039, val nll=144.9151060267857\n",
      "Epoch: 31, train nll=113.216552734375, val nll=144.42865234375\n",
      "Epoch: 32, train nll=112.62489318847656, val nll=144.667216796875\n",
      "Epoch: 33, train nll=113.99519348144531, val nll=145.25864815848215\n",
      "Epoch: 34, train nll=110.62577819824219, val nll=146.31261997767857\n",
      "Epoch: 35, train nll=109.08232116699219, val nll=146.08385323660715\n",
      "Epoch: 36, train nll=111.8233871459961, val nll=147.44380161830358\n",
      "Epoch: 37, train nll=110.49251556396484, val nll=147.28181082589285\n",
      "Epoch: 38, train nll=112.5555648803711, val nll=149.19085239955356\n",
      "Epoch: 39, train nll=110.1379165649414, val nll=149.50744419642857\n",
      "Epoch: 40, train nll=109.04426574707031, val nll=150.1362974330357\n",
      "Epoch: 41, train nll=108.81916809082031, val nll=151.556328125\n",
      "Epoch: 42, train nll=107.35274505615234, val nll=151.48843470982143\n",
      "Epoch: 43, train nll=106.92424011230469, val nll=153.28765904017857\n",
      "FINAL LOSS: nll=139.35341512863533\n"
     ]
    },
    {
     "ename": "RuntimeError",
     "evalue": "shape '[16, 1, 64]' is invalid for input of size 64",
     "output_type": "error",
     "traceback": [
      "\u001b[0;31m---------------------------------------------------------------------------\u001b[0m",
      "\u001b[0;31mRuntimeError\u001b[0m                              Traceback (most recent call last)",
      "Cell \u001b[0;32mIn[33], line 18\u001b[0m\n\u001b[1;32m     15\u001b[0m f\u001b[38;5;241m.\u001b[39mwrite(\u001b[38;5;28mstr\u001b[39m(test_loss))\n\u001b[1;32m     16\u001b[0m f\u001b[38;5;241m.\u001b[39mclose()\n\u001b[0;32m---> 18\u001b[0m \u001b[43msamples_generated\u001b[49m\u001b[43m(\u001b[49m\u001b[43mresult_dir\u001b[49m\u001b[43m \u001b[49m\u001b[38;5;241;43m+\u001b[39;49m\u001b[43m \u001b[49m\u001b[38;5;124;43m'\u001b[39;49m\u001b[38;5;124;43m/\u001b[39;49m\u001b[38;5;124;43m'\u001b[39;49m\u001b[43m \u001b[49m\u001b[38;5;241;43m+\u001b[39;49m\u001b[43m \u001b[49m\u001b[43mname\u001b[49m\u001b[43m,\u001b[49m\u001b[43m \u001b[49m\u001b[43mtest_loader\u001b[49m\u001b[43m,\u001b[49m\u001b[43m \u001b[49m\u001b[38;5;241;43m8\u001b[39;49m\u001b[43m)\u001b[49m\n\u001b[1;32m     19\u001b[0m plot_curve(result_dir \u001b[38;5;241m+\u001b[39m \u001b[38;5;124m'\u001b[39m\u001b[38;5;124m/\u001b[39m\u001b[38;5;124m'\u001b[39m \u001b[38;5;241m+\u001b[39m name, nll_val)\n",
      "File \u001b[0;32m~/Downloads/Dissertation/Symmetry-invariant-Tractable-Generative-Models/src/util.py:84\u001b[0m, in \u001b[0;36msamples_generated\u001b[0;34m(name, data_loader, D, extra_name)\u001b[0m\n\u001b[1;32m     82\u001b[0m num_x \u001b[38;5;241m=\u001b[39m \u001b[38;5;241m4\u001b[39m\n\u001b[1;32m     83\u001b[0m num_y \u001b[38;5;241m=\u001b[39m \u001b[38;5;241m4\u001b[39m\n\u001b[0;32m---> 84\u001b[0m x \u001b[38;5;241m=\u001b[39m \u001b[43mmodel_best\u001b[49m\u001b[38;5;241;43m.\u001b[39;49m\u001b[43msample\u001b[49m\u001b[43m(\u001b[49m\u001b[43mnum_x\u001b[49m\u001b[43m \u001b[49m\u001b[38;5;241;43m*\u001b[39;49m\u001b[43m \u001b[49m\u001b[43mnum_y\u001b[49m\u001b[43m)\u001b[49m\u001b[38;5;241m.\u001b[39mdetach()\u001b[38;5;241m.\u001b[39mnumpy()\n\u001b[1;32m     86\u001b[0m fig, ax \u001b[38;5;241m=\u001b[39m plt\u001b[38;5;241m.\u001b[39msubplots(num_x, num_y)\n\u001b[1;32m     87\u001b[0m \u001b[38;5;28;01mfor\u001b[39;00m i, ax \u001b[38;5;129;01min\u001b[39;00m \u001b[38;5;28menumerate\u001b[39m(ax\u001b[38;5;241m.\u001b[39mflatten()):\n",
      "File \u001b[0;32m~/Downloads/Dissertation/Symmetry-invariant-Tractable-Generative-Models/src/idf.py:208\u001b[0m, in \u001b[0;36mIDF4.sample\u001b[0;34m(self, batchSize)\u001b[0m\n\u001b[1;32m    206\u001b[0m z \u001b[38;5;241m=\u001b[39m \u001b[38;5;28mself\u001b[39m\u001b[38;5;241m.\u001b[39mprior_sample(batchSize\u001b[38;5;241m=\u001b[39mbatchSize, D\u001b[38;5;241m=\u001b[39m\u001b[38;5;28mself\u001b[39m\u001b[38;5;241m.\u001b[39mD)\n\u001b[1;32m    207\u001b[0m x \u001b[38;5;241m=\u001b[39m \u001b[38;5;28mself\u001b[39m\u001b[38;5;241m.\u001b[39mf_inv(z) \u001b[38;5;66;03m# = f^-1(z)\u001b[39;00m\n\u001b[0;32m--> 208\u001b[0m \u001b[38;5;28;01mreturn\u001b[39;00m \u001b[43mx\u001b[49m\u001b[38;5;241;43m.\u001b[39;49m\u001b[43mview\u001b[49m\u001b[43m(\u001b[49m\u001b[43mbatchSize\u001b[49m\u001b[43m,\u001b[49m\u001b[43m \u001b[49m\u001b[38;5;241;43m1\u001b[39;49m\u001b[43m,\u001b[49m\u001b[43m \u001b[49m\u001b[38;5;28;43mself\u001b[39;49m\u001b[38;5;241;43m.\u001b[39;49m\u001b[43mD\u001b[49m\u001b[43m)\u001b[49m\n",
      "\u001b[0;31mRuntimeError\u001b[0m: shape '[16, 1, 64]' is invalid for input of size 64"
     ]
    }
   ],
   "source": [
    "netts = nnetts(D, M)\n",
    "model = idf.IDF4(netts, num_flows, n_mixtures = n_mixtures, D=D).to(device)\n",
    "optimizer = torch.optim.Adamax([p for p in model.parameters() if p.requires_grad == True], lr=lr)\n",
    "scheduler = lr_scheduler.StepLR(optimizer, step_size=500, gamma=0.5)\n",
    "# Training procedure\n",
    "nll_val = training(name=name, result_dir = result_dir, max_patience=max_patience, num_epochs=num_epochs, model=model, optimizer=optimizer,\n",
    "                   scheduler=scheduler, training_loader=training_loader, val_loader=val_loader, device=device, lam=lam)\n",
    "\n",
    "with open(result_dir + '/val_loss.txt', \"w\") as file:\n",
    "    for item in nll_val:\n",
    "        file.write(f\"{item}\\n\")\n",
    "\n",
    "test_loss = evaluation(name=result_dir + '/' + name, test_loader=test_loader)\n",
    "f = open(result_dir + '/test_loss.txt', \"w\")\n",
    "f.write(str(test_loss))\n",
    "f.close()\n",
    "\n",
    "samples_generated(result_dir + '/' + name, test_loader, 8)\n",
    "plot_curve(result_dir + '/' + name, nll_val)"
   ]
  },
  {
   "cell_type": "code",
   "execution_count": 36,
   "metadata": {},
   "outputs": [
    {
     "data": {
      "image/png": "[encoded data removed]",
      "text/plain": [
       "<Figure size 640x480 with 1 Axes>"
      ]
     },
     "metadata": {},
     "output_type": "display_data"
    }
   ],
   "source": [
    "import matplotlib.pyplot as plt\n",
    "import numpy as np\n",
    "for i in range(10):\n",
    "    x = next(iter(test_loader)).detach().numpy()\n",
    "\n",
    "    # GENERATIONS-------\n",
    "    model_best = torch.load(result_dir + '/' + name + '.model')\n",
    "    model_best.eval()\n",
    "    x = model_best.sample(1).detach().numpy()\n",
    "    plottable_image = np.reshape(x, (8, 8))\n",
    "    plt.imshow(plottable_image, cmap='gray')\n"
   ]
  },
  {
   "cell_type": "code",
   "execution_count": null,
   "metadata": {},
   "outputs": [],
   "source": []
  }
 ],
 "metadata": {
  "kernelspec": {
   "display_name": "Python 3",
   "language": "python",
   "name": "python3"
  },
  "language_info": {
   "codemirror_mode": {
    "name": "ipython",
    "version": 3
   },
   "file_extension": ".py",
   "mimetype": "text/x-python",
   "name": "python",
   "nbconvert_exporter": "python",
   "pygments_lexer": "ipython3",
   "version": "3.11.4"
  }
 },
 "nbformat": 4,
 "nbformat_minor": 2
}
