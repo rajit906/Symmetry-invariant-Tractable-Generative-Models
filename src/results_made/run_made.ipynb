{
 "cells": [
  {
   "cell_type": "code",
   "execution_count": 1,
   "metadata": {},
   "outputs": [
    {
     "name": "stdout",
     "output_type": "stream",
     "text": [
      "..running\n"
     ]
    },
    {
     "name": "stderr",
     "output_type": "stream",
     "text": [
      "Failed to detect the name of this notebook, you can set it manually with the WANDB_NOTEBOOK_NAME environment variable to enable code saving.\n",
      "\u001b[34m\u001b[1mwandb\u001b[0m: Currently logged in as: \u001b[33ms2592586\u001b[0m (\u001b[33mrajpal906\u001b[0m). Use \u001b[1m`wandb login --relogin`\u001b[0m to force relogin\n"
     ]
    },
    {
     "data": {
      "text/html": [
       "wandb version 0.17.3 is available!  To upgrade, please run:\n",
       " $ pip install wandb --upgrade"
      ],
      "text/plain": [
       "<IPython.core.display.HTML object>"
      ]
     },
     "metadata": {},
     "output_type": "display_data"
    },
    {
     "data": {
      "text/html": [
       "Tracking run with wandb version 0.17.0"
      ],
      "text/plain": [
       "<IPython.core.display.HTML object>"
      ]
     },
     "metadata": {},
     "output_type": "display_data"
    },
    {
     "data": {
      "text/html": [
       "Run data is saved locally in <code>/Users/rajit906/Downloads/Dissertation/Symmetry-invariant-Tractable-Generative-Models/src/wandb/run-20240625_160430-iqyax5os</code>"
      ],
      "text/plain": [
       "<IPython.core.display.HTML object>"
      ]
     },
     "metadata": {},
     "output_type": "display_data"
    },
    {
     "data": {
      "text/html": [
       "Syncing run <strong><a href='https://wandb.ai/rajpal906/Symmetry-invariant-Tractable-Generative-Models-src/runs/iqyax5os' target=\"_blank\">vibrant-violet-6</a></strong> to <a href='https://wandb.ai/rajpal906/Symmetry-invariant-Tractable-Generative-Models-src' target=\"_blank\">Weights & Biases</a> (<a href='https://wandb.me/run' target=\"_blank\">docs</a>)<br/>"
      ],
      "text/plain": [
       "<IPython.core.display.HTML object>"
      ]
     },
     "metadata": {},
     "output_type": "display_data"
    },
    {
     "data": {
      "text/html": [
       " View project at <a href='https://wandb.ai/rajpal906/Symmetry-invariant-Tractable-Generative-Models-src' target=\"_blank\">https://wandb.ai/rajpal906/Symmetry-invariant-Tractable-Generative-Models-src</a>"
      ],
      "text/plain": [
       "<IPython.core.display.HTML object>"
      ]
     },
     "metadata": {},
     "output_type": "display_data"
    },
    {
     "data": {
      "text/html": [
       " View run at <a href='https://wandb.ai/rajpal906/Symmetry-invariant-Tractable-Generative-Models-src/runs/iqyax5os' target=\"_blank\">https://wandb.ai/rajpal906/Symmetry-invariant-Tractable-Generative-Models-src/runs/iqyax5os</a>"
      ],
      "text/plain": [
       "<IPython.core.display.HTML object>"
      ]
     },
     "metadata": {},
     "output_type": "display_data"
    },
    {
     "name": "stdout",
     "output_type": "stream",
     "text": [
      "Epoch: 0, train nll=92.279541015625, val nll=96.88436979166667\n",
      "saved!\n",
      "Epoch: 1, train nll=92.43114471435547, val nll=92.35324747721354\n",
      "saved!\n",
      "Epoch: 2, train nll=89.25775146484375, val nll=90.71231290690105\n",
      "saved!\n",
      "Epoch: 3, train nll=95.1533432006836, val nll=89.6805634765625\n",
      "saved!\n",
      "Epoch: 4, train nll=88.9970703125, val nll=88.95619685872396\n",
      "saved!\n",
      "Epoch: 5, train nll=89.03539276123047, val nll=88.43202758789063\n",
      "saved!\n",
      "Epoch: 6, train nll=86.34261322021484, val nll=87.87378849283854\n",
      "saved!\n",
      "Epoch: 7, train nll=87.66149139404297, val nll=87.81827270507813\n",
      "saved!\n",
      "Epoch: 8, train nll=89.79306030273438, val nll=87.61615120442708\n",
      "saved!\n",
      "Epoch: 9, train nll=89.3541259765625, val nll=87.41804622395833\n",
      "saved!\n",
      "Epoch: 10, train nll=89.66651153564453, val nll=87.30060815429688\n",
      "saved!\n",
      "Epoch: 11, train nll=82.56864166259766, val nll=87.13463956705729\n",
      "saved!\n",
      "Epoch: 12, train nll=85.81511688232422, val nll=86.9649921061198\n",
      "saved!\n",
      "Epoch: 13, train nll=84.5099105834961, val nll=87.02096459960937\n",
      "Epoch: 14, train nll=81.20965576171875, val nll=86.95629069010417\n",
      "saved!\n",
      "Epoch: 15, train nll=87.41527557373047, val nll=86.83512044270833\n",
      "saved!\n",
      "Epoch: 16, train nll=89.27685546875, val nll=86.8133057454427\n",
      "saved!\n",
      "Epoch: 17, train nll=86.8680648803711, val nll=86.71642789713542\n",
      "saved!\n",
      "Epoch: 18, train nll=85.71961212158203, val nll=86.5771591796875\n",
      "saved!\n",
      "Epoch: 19, train nll=89.89090728759766, val nll=86.61424153645834\n",
      "Epoch: 20, train nll=90.88175201416016, val nll=86.58241544596355\n",
      "Epoch: 21, train nll=85.76620483398438, val nll=86.59691764322916\n",
      "Epoch: 22, train nll=84.4419937133789, val nll=86.60666520182292\n",
      "Epoch: 23, train nll=86.42792510986328, val nll=86.64705810546874\n"
     ]
    },
    {
     "name": "stderr",
     "output_type": "stream",
     "text": [
      "wandb: Network error (ConnectionError), entering retry loop.\n"
     ]
    },
    {
     "name": "stdout",
     "output_type": "stream",
     "text": [
      "Epoch: 24, train nll=86.78034210205078, val nll=86.34636319986978\n",
      "saved!\n",
      "Epoch: 25, train nll=87.07500457763672, val nll=86.5243475748698\n",
      "Epoch: 26, train nll=84.87444305419922, val nll=86.54276928710938\n",
      "Epoch: 27, train nll=87.57623291015625, val nll=86.36139583333333\n",
      "Epoch: 28, train nll=83.04195404052734, val nll=86.64837752278646\n",
      "Epoch: 29, train nll=87.22904205322266, val nll=86.45001831054688\n",
      "Epoch: 30, train nll=88.13463592529297, val nll=86.54351586914062\n",
      "Epoch: 31, train nll=81.87834930419922, val nll=86.79252726236979\n",
      "Epoch: 32, train nll=83.59268951416016, val nll=86.50314689127605\n",
      "Epoch: 33, train nll=83.1767349243164, val nll=86.46618497721354\n",
      "Epoch: 34, train nll=87.68682861328125, val nll=86.58639152018229\n",
      "Epoch: 35, train nll=77.56515502929688, val nll=86.45420670572916\n",
      "FINAL LOSS: nll=1.3521166007995606\n"
     ]
    },
    {
     "data": {
      "application/vnd.jupyter.widget-view+json": {
       "model_id": "47ba888ea23e4b6684d698cea6ad1423",
       "version_major": 2,
       "version_minor": 0
      },
      "text/plain": [
       "VBox(children=(Label(value='95.741 MB of 95.741 MB uploaded\\r'), FloatProgress(value=1.0, max=1.0)))"
      ]
     },
     "metadata": {},
     "output_type": "display_data"
    },
    {
     "data": {
      "text/html": [
       "<style>\n",
       "    table.wandb td:nth-child(1) { padding: 0 10px; text-align: left ; width: auto;} td:nth-child(2) {text-align: left ; width: 100%}\n",
       "    .wandb-row { display: flex; flex-direction: row; flex-wrap: wrap; justify-content: flex-start; width: 100% }\n",
       "    .wandb-col { display: flex; flex-direction: column; flex-basis: 100%; flex: 1; padding: 10px; }\n",
       "    </style>\n",
       "<div class=\"wandb-row\"><div class=\"wandb-col\"><h3>Run history:</h3><br/><table class=\"wandb\"><tr><td>epoch</td><td>▁▁▁▂▂▂▂▂▃▃▃▃▃▄▄▄▄▄▅▅▅▅▅▆▆▆▆▆▇▇▇▇▇███</td></tr><tr><td>test_loss</td><td>▁</td></tr><tr><td>train_loss</td><td>▇▇▆█▆▆▄▅▆▆▆▃▄▄▂▅▆▅▄▆▆▄▄▅▅▅▄▅▃▅▅▃▃▃▅▁</td></tr><tr><td>val_loss</td><td>█▅▄▃▃▂▂▂▂▂▂▂▁▁▁▁▁▁▁▁▁▁▁▁▁▁▁▁▁▁▁▁▁▁▁▁</td></tr></table><br/></div><div class=\"wandb-col\"><h3>Run summary:</h3><br/><table class=\"wandb\"><tr><td>epoch</td><td>35</td></tr><tr><td>test_loss</td><td>86.53546</td></tr><tr><td>train_loss</td><td>77.56516</td></tr><tr><td>val_loss</td><td>1.35085</td></tr></table><br/></div></div>"
      ],
      "text/plain": [
       "<IPython.core.display.HTML object>"
      ]
     },
     "metadata": {},
     "output_type": "display_data"
    },
    {
     "data": {
      "text/html": [
       " View run <strong style=\"color:#cdcd00\">vibrant-violet-6</strong> at: <a href='https://wandb.ai/rajpal906/Symmetry-invariant-Tractable-Generative-Models-src/runs/iqyax5os' target=\"_blank\">https://wandb.ai/rajpal906/Symmetry-invariant-Tractable-Generative-Models-src/runs/iqyax5os</a><br/> View project at: <a href='https://wandb.ai/rajpal906/Symmetry-invariant-Tractable-Generative-Models-src' target=\"_blank\">https://wandb.ai/rajpal906/Symmetry-invariant-Tractable-Generative-Models-src</a><br/>Synced 5 W&B file(s), 0 media file(s), 1 artifact file(s) and 0 other file(s)"
      ],
      "text/plain": [
       "<IPython.core.display.HTML object>"
      ]
     },
     "metadata": {},
     "output_type": "display_data"
    },
    {
     "data": {
      "text/html": [
       "Find logs at: <code>./wandb/run-20240625_160430-iqyax5os/logs</code>"
      ],
      "text/plain": [
       "<IPython.core.display.HTML object>"
      ]
     },
     "metadata": {},
     "output_type": "display_data"
    }
   ],
   "source": [
    "print('..running')\n",
    "import os\n",
    "import torch\n",
    "from torch.utils.data import DataLoader\n",
    "import torch.optim.lr_scheduler as lr_scheduler\n",
    "import ssl\n",
    "ssl._create_default_https_context = ssl._create_unverified_context\n",
    "from util import cross_entropy_loss_fn\n",
    "import models\n",
    "import wandb\n",
    "from train import evaluation, training \n",
    "from data import load_data\n",
    "\n",
    "device = torch.device(\"cuda\" if torch.cuda.is_available() else \"cpu\")\n",
    "\n",
    "result_dir = 'models'\n",
    "if not(os.path.exists(result_dir)):\n",
    "    os.mkdir(result_dir)\n",
    "name = 'made' #Change to regularized\n",
    "\n",
    "batch_size = 64\n",
    "D = 784   # input dimension\n",
    "M = 8000  # hidden layer dimensionality\n",
    "lr = 1e-3 # learning rate\n",
    "num_epochs = 85\n",
    "max_patience = 10 # Early Stopping\n",
    "lam = 0.\n",
    "n_masks = 1\n",
    "\n",
    "hyperparameters = {'D': D, \n",
    "                   'M': M,\n",
    "                   'lr': lr,\n",
    "                   'n_masks': n_masks,\n",
    "                   'num_epochs': num_epochs,\n",
    "                   'max_patience': max_patience,\n",
    "                   'batch_size': batch_size,\n",
    "                   'lambda': lam,\n",
    "                    }\n",
    "\n",
    "run = wandb.init(entity=\"rajpal906\")#entity=\"rajpal906\", project=\"MADE\", name=\"unregularized\", id=\"1\", config=hyperparameters, settings=wandb.Settings(start_method=\"fork\"))\n",
    "# Training procedure\n",
    "train_data, val_data, test_data = load_data('mnist', binarize = True)\n",
    "train_loader = DataLoader(train_data, batch_size=batch_size, shuffle=True, num_workers=os.cpu_count())\n",
    "val_loader = DataLoader(val_data, batch_size=batch_size, shuffle=False, num_workers=os.cpu_count())\n",
    "test_loader = DataLoader(test_data, batch_size=batch_size, shuffle=False, num_workers=os.cpu_count())\n",
    "model = models.MADE(input_dim=D, hidden_dims=[M], n_masks=n_masks).to(device)\n",
    "optimizer = torch.optim.Adam([p for p in model.parameters() if p.requires_grad == True], lr = lr)\n",
    "scheduler = lr_scheduler.StepLR(optimizer, step_size=100, gamma=0.5)\n",
    "nll_val = training(name=name, result_dir=result_dir, max_patience=max_patience, num_epochs=num_epochs, \n",
    "                   model=model, loss_fn=cross_entropy_loss_fn, optimizer=optimizer, scheduler=scheduler, \n",
    "                   training_loader=train_loader, val_loader=val_loader, device=device, lam=lam, batch_size = batch_size)\n",
    "model.eval()\n",
    "test_val = evaluation(test_loader, cross_entropy_loss_fn, model_best=model)#_best)\n",
    "wandb.log({\"test_loss\": test_val * batch_size})\n",
    "run.log_artifact(result_dir + '/' + name + '.model')\n",
    "run.finish()"
   ]
  }
 ],
 "metadata": {
  "kernelspec": {
   "display_name": "Python 3",
   "language": "python",
   "name": "python3"
  },
  "language_info": {
   "name": "python",
   "version": "3.11.4"
  }
 },
 "nbformat": 4,
 "nbformat_minor": 2
}
