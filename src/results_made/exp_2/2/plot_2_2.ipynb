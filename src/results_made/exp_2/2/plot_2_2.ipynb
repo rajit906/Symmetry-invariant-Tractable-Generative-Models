{
 "cells": [
  {
   "cell_type": "code",
   "execution_count": null,
   "metadata": {},
   "outputs": [],
   "source": [
    "import yaml\n",
    "from joblib import load\n",
    "import statistics\n",
    "import matplotlib.pyplot as plt\n",
    "\n",
    "with open('translation_lls_2.pkl', 'rb') as file:\n",
    "    data = load(file, mmap_mode='r')"
   ]
  },
  {
   "cell_type": "code",
   "execution_count": null,
   "metadata": {},
   "outputs": [],
   "source": [
    "translations = [(1,0,0,0), (0,1,0,0), (0,0,1,0), (0,0,0,1)]\n",
    "translations_dic = {translation: None for translation in translations}\n",
    "fig, axes = plt.subplots(2, 2, figsize=(10, 10))\n",
    "for i, translation in enumerate(translations):\n",
    "    values = [tensor.item() for tensor in data[translation]]\n",
    "    translations_dic[translation] = {'mean': statistics.mean(values), \n",
    "                                     'std dev': statistics.stdev(values)}"
   ]
  },
  {
   "cell_type": "code",
   "execution_count": null,
   "metadata": {},
   "outputs": [],
   "source": []
  }
 ],
 "metadata": {
  "kernelspec": {
   "display_name": "Python 3",
   "language": "python",
   "name": "python3"
  },
  "language_info": {
   "codemirror_mode": {
    "name": "ipython",
    "version": 3
   },
   "file_extension": ".py",
   "mimetype": "text/x-python",
   "name": "python",
   "nbconvert_exporter": "python",
   "pygments_lexer": "ipython3",
   "version": "3.11.4"
  }
 },
 "nbformat": 4,
 "nbformat_minor": 2
}
