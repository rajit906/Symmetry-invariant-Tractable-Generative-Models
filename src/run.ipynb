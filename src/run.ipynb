{
 "cells": [
  {
   "cell_type": "code",
   "execution_count": 3,
   "metadata": {},
   "outputs": [
    {
     "ename": "ModuleNotFoundError",
     "evalue": "No module named 'cirkit'",
     "output_type": "error",
     "traceback": [
      "\u001b[0;31m---------------------------------------------------------------------------\u001b[0m",
      "\u001b[0;31mModuleNotFoundError\u001b[0m                       Traceback (most recent call last)",
      "Cell \u001b[0;32mIn[3], line 8\u001b[0m\n\u001b[1;32m      6\u001b[0m \u001b[38;5;28;01mimport\u001b[39;00m \u001b[38;5;21;01mssl\u001b[39;00m\n\u001b[1;32m      7\u001b[0m ssl\u001b[38;5;241m.\u001b[39m_create_default_https_context \u001b[38;5;241m=\u001b[39m ssl\u001b[38;5;241m.\u001b[39m_create_unverified_context\n\u001b[0;32m----> 8\u001b[0m \u001b[38;5;28;01mimport\u001b[39;00m \u001b[38;5;21;01mmodels\u001b[39;00m\n\u001b[1;32m      9\u001b[0m \u001b[38;5;28;01mimport\u001b[39;00m \u001b[38;5;21;01mwandb\u001b[39;00m\n\u001b[1;32m     10\u001b[0m \u001b[38;5;28;01mfrom\u001b[39;00m \u001b[38;5;21;01mtrain\u001b[39;00m \u001b[38;5;28;01mimport\u001b[39;00m evaluation, training \n",
      "File \u001b[0;32m~/Downloads/Dissertation/Symmetry-invariant-Tractable-Generative-Models/src/models.py:7\u001b[0m\n\u001b[1;32m      5\u001b[0m \u001b[38;5;28;01mimport\u001b[39;00m \u001b[38;5;21;01mabc\u001b[39;00m\n\u001b[1;32m      6\u001b[0m \u001b[38;5;28;01mfrom\u001b[39;00m \u001b[38;5;21;01mtorch\u001b[39;00m \u001b[38;5;28;01mimport\u001b[39;00m distributions, nn\n\u001b[0;32m----> 7\u001b[0m \u001b[38;5;28;01mfrom\u001b[39;00m \u001b[38;5;21;01mutil\u001b[39;00m \u001b[38;5;28;01mimport\u001b[39;00m RoundStraightThrough, log_discretized_logistic, log_mixture_discretized_logistic\n\u001b[1;32m      9\u001b[0m \u001b[38;5;124;03m\"\"\"Base classes for models.\"\"\"\u001b[39;00m\n\u001b[1;32m     13\u001b[0m \u001b[38;5;28;01mdef\u001b[39;00m \u001b[38;5;21m_default_sample_fn\u001b[39m(logits):\n",
      "File \u001b[0;32m~/Downloads/Dissertation/Symmetry-invariant-Tractable-Generative-Models/src/util.py:70\u001b[0m\n\u001b[1;32m     66\u001b[0m     \u001b[38;5;28;01mreturn\u001b[39;00m loss\u001b[38;5;241m.\u001b[39msum(dim\u001b[38;5;241m=\u001b[39m\u001b[38;5;241m1\u001b[39m)\u001b[38;5;241m.\u001b[39mmean()\n\u001b[1;32m     68\u001b[0m \u001b[38;5;66;03m### Probabilistic Circuits\u001b[39;00m\n\u001b[0;32m---> 70\u001b[0m \u001b[38;5;28;01mfrom\u001b[39;00m \u001b[38;5;21;01mCirkits\u001b[39;00m\u001b[38;5;21;01m.\u001b[39;00m\u001b[38;5;21;01mcirkit\u001b[39;00m\u001b[38;5;21;01m.\u001b[39;00m\u001b[38;5;21;01msymbolic\u001b[39;00m\u001b[38;5;21;01m.\u001b[39;00m\u001b[38;5;21;01mparameters\u001b[39;00m \u001b[38;5;28;01mimport\u001b[39;00m LogSoftmaxParameter, ExpParameter, Parameter\n\u001b[1;32m     71\u001b[0m \u001b[38;5;28;01mfrom\u001b[39;00m \u001b[38;5;21;01mCirkits\u001b[39;00m\u001b[38;5;21;01m.\u001b[39;00m\u001b[38;5;21;01mcirkit\u001b[39;00m\u001b[38;5;21;01m.\u001b[39;00m\u001b[38;5;21;01msymbolic\u001b[39;00m\u001b[38;5;21;01m.\u001b[39;00m\u001b[38;5;21;01mlayers\u001b[39;00m \u001b[38;5;28;01mimport\u001b[39;00m CategoricalLayer, DenseLayer, HadamardLayer, MixingLayer\n\u001b[1;32m     72\u001b[0m \u001b[38;5;28;01mfrom\u001b[39;00m \u001b[38;5;21;01mCirkits\u001b[39;00m\u001b[38;5;21;01m.\u001b[39;00m\u001b[38;5;21;01mcirkit\u001b[39;00m\u001b[38;5;21;01m.\u001b[39;00m\u001b[38;5;21;01msymbolic\u001b[39;00m\u001b[38;5;21;01m.\u001b[39;00m\u001b[38;5;21;01minitializers\u001b[39;00m \u001b[38;5;28;01mimport\u001b[39;00m NormalInitializer\n",
      "File \u001b[0;32m~/Downloads/Dissertation/Symmetry-invariant-Tractable-Generative-Models/src/Cirkits/cirkit/symbolic/parameters.py:8\u001b[0m\n\u001b[1;32m      5\u001b[0m \u001b[38;5;28;01mfrom\u001b[39;00m \u001b[38;5;21;01mnumbers\u001b[39;00m \u001b[38;5;28;01mimport\u001b[39;00m Number\n\u001b[1;32m      6\u001b[0m \u001b[38;5;28;01mfrom\u001b[39;00m \u001b[38;5;21;01mtyping\u001b[39;00m \u001b[38;5;28;01mimport\u001b[39;00m Any, Callable, Dict, List, Tuple, Union, final\n\u001b[0;32m----> 8\u001b[0m \u001b[38;5;28;01mfrom\u001b[39;00m \u001b[38;5;21;01mcirkit\u001b[39;00m\u001b[38;5;21;01m.\u001b[39;00m\u001b[38;5;21;01msymbolic\u001b[39;00m\u001b[38;5;21;01m.\u001b[39;00m\u001b[38;5;21;01minitializers\u001b[39;00m \u001b[38;5;28;01mimport\u001b[39;00m ConstantInitializer, Initializer\n\u001b[1;32m      9\u001b[0m \u001b[38;5;28;01mfrom\u001b[39;00m \u001b[38;5;21;01mcirkit\u001b[39;00m\u001b[38;5;21;01m.\u001b[39;00m\u001b[38;5;21;01mutils\u001b[39;00m\u001b[38;5;21;01m.\u001b[39;00m\u001b[38;5;21;01malgorithms\u001b[39;00m \u001b[38;5;28;01mimport\u001b[39;00m RootedDiAcyclicGraph\n\u001b[1;32m     12\u001b[0m \u001b[38;5;28;01mclass\u001b[39;00m \u001b[38;5;21;01mParameterNode\u001b[39;00m(ABC):\n",
      "\u001b[0;31mModuleNotFoundError\u001b[0m: No module named 'cirkit'"
     ]
    }
   ],
   "source": [
    "import os\n",
    "import random\n",
    "import torch\n",
    "from torch.utils.data import DataLoader\n",
    "import torch.optim.lr_scheduler as lr_scheduler\n",
    "import ssl\n",
    "ssl._create_default_https_context = ssl._create_unverified_context\n",
    "import models\n",
    "import wandb\n",
    "from train import evaluation, training \n",
    "from data import load_data\n",
    "import numpy as np\n",
    "from util import categorical_layer_factory, hadamard_layer_factory, dense_layer_factory, mixing_layer_factory\n",
    "\n",
    "from Cirkits.cirkit.templates.region_graph import QuadTree\n",
    "from Cirkits.cirkit.symbolic.circuit import Circuit\n",
    "from Cirkits.cirkit.pipeline import PipelineContext\n",
    "\n",
    "random.seed(42)\n",
    "np.random.seed(42)\n",
    "device = torch.device(\"cuda\" if torch.cuda.is_available() else \"cpu\")\n",
    "\n",
    "height = 28\n",
    "input_dim = 784\n",
    "batch_size = 256\n",
    "region_graph = QuadTree(shape=(height, height))\n",
    "result_dir = 'model'\n",
    "name = 'pc'\n",
    "max_patience = 20\n",
    "num_epochs = 3\n",
    "lam = 0.\n",
    "lr = 0.1\n",
    "num_input_units = 8\n",
    "num_sum_units = 8\n",
    "\n",
    "hyperparameters = {'input_dim': input_dim, \n",
    "                   'lr': lr,\n",
    "                   'num_epochs': num_epochs,\n",
    "                   'max_patience': max_patience,\n",
    "                   'batch_size': batch_size,\n",
    "                   'lambda': lam,\n",
    "                   'num_input_units': 8,\n",
    "                   'num_sum_units': 8\n",
    "                    }\n",
    "\n",
    "#run = wandb.init(entity=\"rajpal906\")#entity=\"rajpal906\", project=\"MADE\", name=\"unregularized\", id=\"1\", config=hyperparameters, settings=wandb.Settings(start_method=\"fork\"))\n",
    "\n",
    "\n",
    "symbolic_circuit = Circuit.from_region_graph(\n",
    "    region_graph,\n",
    "    num_input_units=num_input_units,\n",
    "    num_sum_units=num_sum_units,\n",
    "    input_factory=categorical_layer_factory,\n",
    "    sum_factory=dense_layer_factory,\n",
    "    prod_factory=hadamard_layer_factory,\n",
    "    mixing_factory=mixing_layer_factory\n",
    ")\n",
    "\n",
    "ctx = PipelineContext(\n",
    "    backend='torch',   # Choose the torch compilation backend\n",
    "    fold=True,         # Fold the circuit, this is a backend-specific compilation flag\n",
    "    semiring='lse-sum' # Use the (R, +, *) semiring, where + is the log-sum-exp and * is the sum\n",
    ")\n",
    "circuit = ctx.compile(symbolic_circuit).to(device)\n",
    "pf_circuit = ctx.integrate(circuit).to(device)\n",
    "model = (circuit, pf_circuit)\n",
    "\n",
    "train_data, val_data, test_data = load_data('mnist', binarize = False)\n",
    "train_loader = DataLoader(train_data, batch_size=batch_size, drop_last=True, shuffle=True, num_workers=os.cpu_count())\n",
    "val_loader = DataLoader(val_data, batch_size=batch_size, shuffle=False, num_workers=os.cpu_count())\n",
    "test_loader = DataLoader(test_data, batch_size=batch_size, shuffle=False, num_workers=os.cpu_count())\n",
    "optimizer = torch.optim.SGD([p for p in circuit.parameters() if p.requires_grad == True], lr=lr, momentum=0.95) #torch.optim.Adam([p for p in circuit.parameters() if p.requires_grad == True], lr = lr)\n",
    "scheduler = lr_scheduler.StepLR(optimizer, step_size=100, gamma=0.5)"
   ]
  },
  {
   "cell_type": "code",
   "execution_count": 6,
   "metadata": {},
   "outputs": [
    {
     "name": "stdout",
     "output_type": "stream",
     "text": [
      "Average test LL: 950.802\n",
      "Bits per dimension: 1.7496399861924141\n",
      "Epoch: 0, train nll=985.2160034179688, val nll=950.8022903645833\n",
      "saved!\n",
      "Average test LL: 920.619\n",
      "Bits per dimension: 1.6940971064713326\n",
      "Epoch: 1, train nll=913.71826171875, val nll=920.6187682291667\n",
      "saved!\n",
      "Average test LL: 874.754\n",
      "Bits per dimension: 1.6096976926651563\n",
      "Epoch: 2, train nll=859.733642578125, val nll=874.7538151041666\n",
      "saved!\n",
      "Average test LL: 869.612\n",
      "Bits per dimension: 1.6002362537602357\n",
      "FINAL LOSS: nll=869.6122100585937\n"
     ]
    }
   ],
   "source": [
    "nll_val, bpd_val, model_best = training(name=name, result_dir=result_dir, max_patience=max_patience, num_epochs=num_epochs, \n",
    "                   model=model, optimizer=optimizer, scheduler=scheduler, training_loader=train_loader, \n",
    "                   val_loader=val_loader, device=device, lam=lam, batch_size = batch_size)\n",
    "circuit, pf_circuit = model_best\n",
    "#torch.save(circuit, 'models/pc_test_circuit.pt')\n",
    "#torch.save(pf_circuit, 'models/pc_test_pf_circuit.pt')\n",
    "#circuit = torch.load('models/pc_test_circuit.pt')\n",
    "#pf_circuit = torch.load('models/pc_test_pf_circuit.pt')\n",
    "#model_best = (circuit, pf_circuit)\n",
    "test_nll, test_bpd = evaluation(test_loader, device, model_best=model_best)\n",
    "print(f'Test NLL ={test_nll}, Test BPD = {test_bpd}')\n",
    "#wandb.log({\"test_bpd\": test_bpd, \"test_loss\": test_nll})\n",
    "#run.log_artifact(result_dir + '/' + name + '.model')\n",
    "#run.finish()"
   ]
  },
  {
   "cell_type": "code",
   "execution_count": null,
   "metadata": {},
   "outputs": [],
   "source": [
    "# Delete Cirkit, reclone correctly, add submodule, write a script to replace cirkit with Cirkit.cirkit, \n",
    "# maybe dont push to github at all, just keep it cloned on both Eddie and local and run the scripts there\n"
   ]
  }
 ],
 "metadata": {
  "kernelspec": {
   "display_name": "Python 3",
   "language": "python",
   "name": "python3"
  },
  "language_info": {
   "codemirror_mode": {
    "name": "ipython",
    "version": 3
   },
   "file_extension": ".py",
   "mimetype": "text/x-python",
   "name": "python",
   "nbconvert_exporter": "python",
   "pygments_lexer": "ipython3",
   "version": "3.11.4"
  }
 },
 "nbformat": 4,
 "nbformat_minor": 2
}
