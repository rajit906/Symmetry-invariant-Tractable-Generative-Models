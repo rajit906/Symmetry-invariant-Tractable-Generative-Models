{
 "cells": [
  {
   "cell_type": "code",
   "execution_count": 1,
   "metadata": {},
   "outputs": [
    {
     "name": "stdout",
     "output_type": "stream",
     "text": [
      "..running\n"
     ]
    },
    {
     "name": "stderr",
     "output_type": "stream",
     "text": [
      "Failed to detect the name of this notebook, you can set it manually with the WANDB_NOTEBOOK_NAME environment variable to enable code saving.\n",
      "\u001b[34m\u001b[1mwandb\u001b[0m: Currently logged in as: \u001b[33ms2592586\u001b[0m (\u001b[33mrajpal906\u001b[0m). Use \u001b[1m`wandb login --relogin`\u001b[0m to force relogin\n"
     ]
    },
    {
     "data": {
      "text/html": [
       "wandb version 0.17.3 is available!  To upgrade, please run:\n",
       " $ pip install wandb --upgrade"
      ],
      "text/plain": [
       "<IPython.core.display.HTML object>"
      ]
     },
     "metadata": {},
     "output_type": "display_data"
    },
    {
     "data": {
      "text/html": [
       "Tracking run with wandb version 0.17.0"
      ],
      "text/plain": [
       "<IPython.core.display.HTML object>"
      ]
     },
     "metadata": {},
     "output_type": "display_data"
    },
    {
     "data": {
      "text/html": [
       "Run data is saved locally in <code>/Users/rajit906/Downloads/Dissertation/Symmetry-invariant-Tractable-Generative-Models/src/wandb/run-20240625_160146-wbymqhnp</code>"
      ],
      "text/plain": [
       "<IPython.core.display.HTML object>"
      ]
     },
     "metadata": {},
     "output_type": "display_data"
    },
    {
     "data": {
      "text/html": [
       "Syncing run <strong><a href='https://wandb.ai/rajpal906/Symmetry-invariant-Tractable-Generative-Models-src/runs/wbymqhnp' target=\"_blank\">graceful-waterfall-5</a></strong> to <a href='https://wandb.ai/rajpal906/Symmetry-invariant-Tractable-Generative-Models-src' target=\"_blank\">Weights & Biases</a> (<a href='https://wandb.me/run' target=\"_blank\">docs</a>)<br/>"
      ],
      "text/plain": [
       "<IPython.core.display.HTML object>"
      ]
     },
     "metadata": {},
     "output_type": "display_data"
    },
    {
     "data": {
      "text/html": [
       " View project at <a href='https://wandb.ai/rajpal906/Symmetry-invariant-Tractable-Generative-Models-src' target=\"_blank\">https://wandb.ai/rajpal906/Symmetry-invariant-Tractable-Generative-Models-src</a>"
      ],
      "text/plain": [
       "<IPython.core.display.HTML object>"
      ]
     },
     "metadata": {},
     "output_type": "display_data"
    },
    {
     "data": {
      "text/html": [
       " View run at <a href='https://wandb.ai/rajpal906/Symmetry-invariant-Tractable-Generative-Models-src/runs/wbymqhnp' target=\"_blank\">https://wandb.ai/rajpal906/Symmetry-invariant-Tractable-Generative-Models-src/runs/wbymqhnp</a>"
      ],
      "text/plain": [
       "<IPython.core.display.HTML object>"
      ]
     },
     "metadata": {},
     "output_type": "display_data"
    },
    {
     "ename": "TypeError",
     "evalue": "unsupported operand type(s) for *: 'float' and 'NoneType'",
     "output_type": "error",
     "traceback": [
      "\u001b[0;31m---------------------------------------------------------------------------\u001b[0m",
      "\u001b[0;31mTypeError\u001b[0m                                 Traceback (most recent call last)",
      "Cell \u001b[0;32mIn[1], line 49\u001b[0m\n\u001b[1;32m     47\u001b[0m optimizer \u001b[38;5;241m=\u001b[39m torch\u001b[38;5;241m.\u001b[39moptim\u001b[38;5;241m.\u001b[39mAdam([p \u001b[38;5;28;01mfor\u001b[39;00m p \u001b[38;5;129;01min\u001b[39;00m model\u001b[38;5;241m.\u001b[39mparameters() \u001b[38;5;28;01mif\u001b[39;00m p\u001b[38;5;241m.\u001b[39mrequires_grad \u001b[38;5;241m==\u001b[39m \u001b[38;5;28;01mTrue\u001b[39;00m], lr \u001b[38;5;241m=\u001b[39m lr)\n\u001b[1;32m     48\u001b[0m scheduler \u001b[38;5;241m=\u001b[39m lr_scheduler\u001b[38;5;241m.\u001b[39mStepLR(optimizer, step_size\u001b[38;5;241m=\u001b[39m\u001b[38;5;241m100\u001b[39m, gamma\u001b[38;5;241m=\u001b[39m\u001b[38;5;241m0.5\u001b[39m)\n\u001b[0;32m---> 49\u001b[0m nll_val \u001b[38;5;241m=\u001b[39m \u001b[43mtraining\u001b[49m\u001b[43m(\u001b[49m\u001b[43mname\u001b[49m\u001b[38;5;241;43m=\u001b[39;49m\u001b[43mname\u001b[49m\u001b[43m,\u001b[49m\u001b[43m \u001b[49m\u001b[43mresult_dir\u001b[49m\u001b[38;5;241;43m=\u001b[39;49m\u001b[43mresult_dir\u001b[49m\u001b[43m,\u001b[49m\u001b[43m \u001b[49m\u001b[43mmax_patience\u001b[49m\u001b[38;5;241;43m=\u001b[39;49m\u001b[43mmax_patience\u001b[49m\u001b[43m,\u001b[49m\u001b[43m \u001b[49m\u001b[43mnum_epochs\u001b[49m\u001b[38;5;241;43m=\u001b[39;49m\u001b[43mnum_epochs\u001b[49m\u001b[43m,\u001b[49m\u001b[43m \u001b[49m\n\u001b[1;32m     50\u001b[0m \u001b[43m                   \u001b[49m\u001b[43mmodel\u001b[49m\u001b[38;5;241;43m=\u001b[39;49m\u001b[43mmodel\u001b[49m\u001b[43m,\u001b[49m\u001b[43m \u001b[49m\u001b[43mloss_fn\u001b[49m\u001b[38;5;241;43m=\u001b[39;49m\u001b[43mcross_entropy_loss_fn\u001b[49m\u001b[43m,\u001b[49m\u001b[43m \u001b[49m\u001b[43moptimizer\u001b[49m\u001b[38;5;241;43m=\u001b[39;49m\u001b[43moptimizer\u001b[49m\u001b[43m,\u001b[49m\u001b[43m \u001b[49m\u001b[43mscheduler\u001b[49m\u001b[38;5;241;43m=\u001b[39;49m\u001b[43mscheduler\u001b[49m\u001b[43m,\u001b[49m\u001b[43m \u001b[49m\n\u001b[1;32m     51\u001b[0m \u001b[43m                   \u001b[49m\u001b[43mtraining_loader\u001b[49m\u001b[38;5;241;43m=\u001b[39;49m\u001b[43mtrain_loader\u001b[49m\u001b[43m,\u001b[49m\u001b[43m \u001b[49m\u001b[43mval_loader\u001b[49m\u001b[38;5;241;43m=\u001b[39;49m\u001b[43mval_loader\u001b[49m\u001b[43m,\u001b[49m\u001b[43m \u001b[49m\u001b[43mdevice\u001b[49m\u001b[38;5;241;43m=\u001b[39;49m\u001b[43mdevice\u001b[49m\u001b[43m,\u001b[49m\u001b[43m \u001b[49m\u001b[43mlam\u001b[49m\u001b[38;5;241;43m=\u001b[39;49m\u001b[43mlam\u001b[49m\u001b[43m)\u001b[49m\n\u001b[1;32m     52\u001b[0m model\u001b[38;5;241m.\u001b[39meval()\n\u001b[1;32m     53\u001b[0m test_val \u001b[38;5;241m=\u001b[39m evaluation(test_loader, cross_entropy_loss_fn, model_best\u001b[38;5;241m=\u001b[39mmodel)\u001b[38;5;66;03m#_best)\u001b[39;00m\n",
      "File \u001b[0;32m~/Downloads/Dissertation/Symmetry-invariant-Tractable-Generative-Models/src/train.py:90\u001b[0m, in \u001b[0;36mtraining\u001b[0;34m(name, result_dir, max_patience, num_epochs, model, optimizer, scheduler, loss_fn, training_loader, val_loader, device, lam, batch_size)\u001b[0m\n\u001b[1;32m     88\u001b[0m \u001b[38;5;66;03m# Validation\u001b[39;00m\n\u001b[1;32m     89\u001b[0m loss_val \u001b[38;5;241m=\u001b[39m evaluation(val_loader, loss_fn, model_best\u001b[38;5;241m=\u001b[39mmodel, epoch\u001b[38;5;241m=\u001b[39me)\n\u001b[0;32m---> 90\u001b[0m \u001b[38;5;28mprint\u001b[39m(\u001b[38;5;124mf\u001b[39m\u001b[38;5;124m'\u001b[39m\u001b[38;5;124mEpoch: \u001b[39m\u001b[38;5;132;01m{\u001b[39;00me\u001b[38;5;132;01m}\u001b[39;00m\u001b[38;5;124m, train nll=\u001b[39m\u001b[38;5;132;01m{\u001b[39;00mloss\u001b[38;5;132;01m}\u001b[39;00m\u001b[38;5;124m, val nll=\u001b[39m\u001b[38;5;132;01m{\u001b[39;00m\u001b[43mloss_val\u001b[49m\u001b[38;5;250;43m \u001b[39;49m\u001b[38;5;241;43m*\u001b[39;49m\u001b[38;5;250;43m \u001b[39;49m\u001b[43mbatch_size\u001b[49m\u001b[38;5;132;01m}\u001b[39;00m\u001b[38;5;124m'\u001b[39m)\n\u001b[1;32m     91\u001b[0m nll_val\u001b[38;5;241m.\u001b[39mappend(loss_val)  \u001b[38;5;66;03m# save for plotting\u001b[39;00m\n\u001b[1;32m     93\u001b[0m wandb\u001b[38;5;241m.\u001b[39mlog(\n\u001b[1;32m     94\u001b[0m     {\n\u001b[1;32m     95\u001b[0m         \u001b[38;5;124m\"\u001b[39m\u001b[38;5;124mepoch\u001b[39m\u001b[38;5;124m\"\u001b[39m: e,\n\u001b[0;32m   (...)\u001b[0m\n\u001b[1;32m     98\u001b[0m     }\n\u001b[1;32m     99\u001b[0m )\n",
      "\u001b[0;31mTypeError\u001b[0m: unsupported operand type(s) for *: 'float' and 'NoneType'"
     ]
    }
   ],
   "source": [
    "print('..running')\n",
    "import os\n",
    "import torch\n",
    "from torch.utils.data import DataLoader\n",
    "import torch.optim.lr_scheduler as lr_scheduler\n",
    "import ssl\n",
    "ssl._create_default_https_context = ssl._create_unverified_context\n",
    "from util import cross_entropy_loss_fn\n",
    "import models\n",
    "import wandb\n",
    "from train import evaluation, training \n",
    "from data import load_data\n",
    "\n",
    "device = torch.device(\"cuda\" if torch.cuda.is_available() else \"cpu\")\n",
    "\n",
    "result_dir = 'models'\n",
    "if not(os.path.exists(result_dir)):\n",
    "    os.mkdir(result_dir)\n",
    "name = 'made' #Change to regularized\n",
    "\n",
    "batch_size = 64\n",
    "D = 784   # input dimension\n",
    "M = 8000  # hidden layer dimensionality\n",
    "lr = 1e-3 # learning rate\n",
    "num_epochs = 85\n",
    "max_patience = 10 # Early Stopping\n",
    "lam = 0.\n",
    "n_masks = 1\n",
    "\n",
    "hyperparameters = {'D': D, \n",
    "                   'M': M,\n",
    "                   'lr': lr,\n",
    "                   'n_masks': n_masks,\n",
    "                   'num_epochs': num_epochs,\n",
    "                   'max_patience': max_patience,\n",
    "                   'batch_size': batch_size,\n",
    "                   'lambda': lam,\n",
    "                    }\n",
    "\n",
    "run = wandb.init(entity=\"rajpal906\")#entity=\"rajpal906\", project=\"MADE\", name=\"unregularized\", id=\"1\", config=hyperparameters, settings=wandb.Settings(start_method=\"fork\"))\n",
    "# Training procedure\n",
    "train_data, val_data, test_data = load_data('mnist', binarize = True)\n",
    "train_loader = DataLoader(train_data, batch_size=batch_size, shuffle=True, num_workers=os.cpu_count())\n",
    "val_loader = DataLoader(val_data, batch_size=batch_size, shuffle=False, num_workers=os.cpu_count())\n",
    "test_loader = DataLoader(test_data, batch_size=batch_size, shuffle=False, num_workers=os.cpu_count())\n",
    "model = models.MADE(input_dim=D, hidden_dims=[M], n_masks=n_masks).to(device)\n",
    "optimizer = torch.optim.Adam([p for p in model.parameters() if p.requires_grad == True], lr = lr)\n",
    "scheduler = lr_scheduler.StepLR(optimizer, step_size=100, gamma=0.5)\n",
    "nll_val = training(name=name, result_dir=result_dir, max_patience=max_patience, num_epochs=num_epochs, \n",
    "                   model=model, loss_fn=cross_entropy_loss_fn, optimizer=optimizer, scheduler=scheduler, \n",
    "                   training_loader=train_loader, val_loader=val_loader, device=device, lam=lam, batch_size = batch_size)\n",
    "model.eval()\n",
    "test_val = evaluation(test_loader, cross_entropy_loss_fn, model_best=model)#_best)\n",
    "wandb.log({\"test_loss\": test_val * batch_size})\n",
    "run.log_artifact(result_dir + '/' + name + '.model')\n",
    "run.finish()"
   ]
  },
  {
   "cell_type": "code",
   "execution_count": null,
   "metadata": {},
   "outputs": [],
   "source": []
  }
 ],
 "metadata": {
  "language_info": {
   "name": "python"
  }
 },
 "nbformat": 4,
 "nbformat_minor": 2
}
