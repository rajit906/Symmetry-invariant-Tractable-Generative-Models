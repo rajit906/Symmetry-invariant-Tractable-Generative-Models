{
 "cells": [
  {
   "cell_type": "code",
   "execution_count": 4,
   "metadata": {},
   "outputs": [
    {
     "name": "stdout",
     "output_type": "stream",
     "text": [
      "..running\n"
     ]
    },
    {
     "data": {
      "text/html": [
       "wandb version 0.17.2 is available!  To upgrade, please run:\n",
       " $ pip install wandb --upgrade"
      ],
      "text/plain": [
       "<IPython.core.display.HTML object>"
      ]
     },
     "metadata": {},
     "output_type": "display_data"
    },
    {
     "data": {
      "text/html": [
       "Tracking run with wandb version 0.17.0"
      ],
      "text/plain": [
       "<IPython.core.display.HTML object>"
      ]
     },
     "metadata": {},
     "output_type": "display_data"
    },
    {
     "data": {
      "text/html": [
       "Run data is saved locally in <code>/Users/rajit906/Downloads/Dissertation/Symmetry-invariant-Tractable-Generative-Models/src/wandb/run-20240623_170138-2</code>"
      ],
      "text/plain": [
       "<IPython.core.display.HTML object>"
      ]
     },
     "metadata": {},
     "output_type": "display_data"
    },
    {
     "data": {
      "text/html": [
       "Syncing run <strong><a href='https://wandb.ai/rajpal906/MADE/runs/2' target=\"_blank\">regularized</a></strong> to <a href='https://wandb.ai/rajpal906/MADE' target=\"_blank\">Weights & Biases</a> (<a href='https://wandb.me/run' target=\"_blank\">docs</a>)<br/>"
      ],
      "text/plain": [
       "<IPython.core.display.HTML object>"
      ]
     },
     "metadata": {},
     "output_type": "display_data"
    },
    {
     "data": {
      "text/html": [
       " View project at <a href='https://wandb.ai/rajpal906/MADE' target=\"_blank\">https://wandb.ai/rajpal906/MADE</a>"
      ],
      "text/plain": [
       "<IPython.core.display.HTML object>"
      ]
     },
     "metadata": {},
     "output_type": "display_data"
    },
    {
     "data": {
      "text/html": [
       " View run at <a href='https://wandb.ai/rajpal906/MADE/runs/2' target=\"_blank\">https://wandb.ai/rajpal906/MADE/runs/2</a>"
      ],
      "text/plain": [
       "<IPython.core.display.HTML object>"
      ]
     },
     "metadata": {},
     "output_type": "display_data"
    },
    {
     "name": "stdout",
     "output_type": "stream",
     "text": [
      "Epoch: 0, train nll=215.60369873046875, val nll=0.8092041231791178\n",
      "saved!\n",
      "Epoch: 1, train nll=207.42648315429688, val nll=0.7498119557698568\n",
      "saved!\n",
      "Epoch: 2, train nll=228.54071044921875, val nll=0.739297612508138\n",
      "saved!\n",
      "Epoch: 3, train nll=198.93482971191406, val nll=0.7199281425476074\n",
      "saved!\n",
      "Epoch: 4, train nll=194.0862579345703, val nll=0.7133202679951985\n",
      "saved!\n",
      "Epoch: 5, train nll=174.180419921875, val nll=0.7027193450927735\n",
      "saved!\n",
      "Epoch: 6, train nll=188.07037353515625, val nll=0.6959056383768717\n",
      "saved!\n",
      "Epoch: 7, train nll=189.48187255859375, val nll=0.6942255172729492\n",
      "saved!\n",
      "Epoch: 8, train nll=214.17242431640625, val nll=0.6922656529744466\n",
      "saved!\n"
     ]
    }
   ],
   "source": [
    "print('..running')\n",
    "HYPERPARAMETER_OPTIMIZE = True\n",
    "import os\n",
    "import torch\n",
    "from torch.utils.data import DataLoader\n",
    "import torch.optim.lr_scheduler as lr_scheduler\n",
    "import ssl\n",
    "ssl._create_default_https_context = ssl._create_unverified_context\n",
    "import ssl\n",
    "ssl._create_default_https_context = ssl._create_unverified_context\n",
    "from util import translate_img_batch, cross_entropy_loss_fn, plot_curve\n",
    "import models\n",
    "import wandb\n",
    "from train import evaluation, training \n",
    "from data import load_data\n",
    "\n",
    "device = torch.device(\"cuda\" if torch.cuda.is_available() else \"cpu\")\n",
    "\n",
    "result_dir = 'models'\n",
    "if not(os.path.exists(result_dir)):\n",
    "    os.mkdir(result_dir)\n",
    "name = 'made' #Change to regularized\n",
    "\n",
    "batch_size = 136\n",
    "D = 784   # input dimension\n",
    "M = 8000  # hidden layer dimensionality\n",
    "lr = 1e-2 # learning rate\n",
    "num_epochs = 100\n",
    "max_patience = 5 # Early Stopping\n",
    "lam = 1.\n",
    "n_masks = 1\n",
    "\n",
    "hyperparameters = {'D': D, \n",
    "                   'M': M,\n",
    "                   'lr': lr,\n",
    "                   'n_masks': n_masks,\n",
    "                   'num_epochs': num_epochs,\n",
    "                   'max_patience': max_patience,\n",
    "                   'batch_size': batch_size,\n",
    "                   'lambda': lam,\n",
    "                    }\n",
    "\n",
    "run = wandb.init(entity=\"rajpal906\", project=\"MADE\", name=\"regularized\", id=\"2\", config=hyperparameters, settings=wandb.Settings(start_method=\"fork\"))\n",
    "# Training procedure\n",
    "train_data, val_data, test_data = load_data('mnist', binarize = True)\n",
    "train_loader = DataLoader(train_data, batch_size=batch_size, shuffle=True, num_workers=os.cpu_count())\n",
    "val_loader = DataLoader(val_data, batch_size=batch_size, shuffle=False, num_workers=os.cpu_count())\n",
    "test_loader = DataLoader(test_data, batch_size=batch_size, shuffle=False, num_workers=os.cpu_count())\n",
    "model = models.MADE(input_dim=D, hidden_dims=[M], n_masks=n_masks).to(device)\n",
    "optimizer = torch.optim.Adam([p for p in model.parameters() if p.requires_grad == True], lr = 1e-3)\n",
    "scheduler = lr_scheduler.StepLR(optimizer, step_size=100, gamma=0.5)\n",
    "nll_val = training(name=name, result_dir=result_dir, max_patience=max_patience, num_epochs=num_epochs, model=model, loss_fn=cross_entropy_loss_fn, optimizer=optimizer,\n",
    "                scheduler=scheduler, training_loader=train_loader, val_loader=val_loader, device=device, lam=lam)\n",
    "model.eval()\n",
    "test_val = evaluation(test_loader, cross_entropy_loss_fn, model_best=model)#_best)\n",
    "wandb.log({\"test_loss\": test_val * batch_size})\n",
    "run.log_artifact(result_dir + '/' + name + '.model')\n",
    "run.finish()"
   ]
  },
  {
   "cell_type": "code",
   "execution_count": null,
   "metadata": {},
   "outputs": [],
   "source": []
  }
 ],
 "metadata": {
  "language_info": {
   "name": "python"
  }
 },
 "nbformat": 4,
 "nbformat_minor": 2
}
