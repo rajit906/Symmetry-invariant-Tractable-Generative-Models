{
 "cells": [
  {
   "cell_type": "code",
   "execution_count": 5,
   "metadata": {},
   "outputs": [
    {
     "name": "stderr",
     "output_type": "stream",
     "text": [
      "Failed to detect the name of this notebook, you can set it manually with the WANDB_NOTEBOOK_NAME environment variable to enable code saving.\n",
      "\u001b[34m\u001b[1mwandb\u001b[0m: Currently logged in as: \u001b[33ms2592586\u001b[0m (\u001b[33mrajpal906\u001b[0m). Use \u001b[1m`wandb login --relogin`\u001b[0m to force relogin\n"
     ]
    },
    {
     "data": {
      "text/html": [
       "wandb version 0.17.3 is available!  To upgrade, please run:\n",
       " $ pip install wandb --upgrade"
      ],
      "text/plain": [
       "<IPython.core.display.HTML object>"
      ]
     },
     "metadata": {},
     "output_type": "display_data"
    },
    {
     "data": {
      "text/html": [
       "Tracking run with wandb version 0.17.0"
      ],
      "text/plain": [
       "<IPython.core.display.HTML object>"
      ]
     },
     "metadata": {},
     "output_type": "display_data"
    },
    {
     "data": {
      "text/html": [
       "Run data is saved locally in <code>/Users/rajit906/Downloads/Dissertation/Symmetry-invariant-Tractable-Generative-Models/src/wandb/run-20240701_201627-5fe5wlii</code>"
      ],
      "text/plain": [
       "<IPython.core.display.HTML object>"
      ]
     },
     "metadata": {},
     "output_type": "display_data"
    },
    {
     "data": {
      "text/html": [
       "Syncing run <strong><a href='https://wandb.ai/rajpal906/Symmetry-invariant-Tractable-Generative-Models-src/runs/5fe5wlii' target=\"_blank\">exalted-sun-1</a></strong> to <a href='https://wandb.ai/rajpal906/Symmetry-invariant-Tractable-Generative-Models-src' target=\"_blank\">Weights & Biases</a> (<a href='https://wandb.me/run' target=\"_blank\">docs</a>)<br/>"
      ],
      "text/plain": [
       "<IPython.core.display.HTML object>"
      ]
     },
     "metadata": {},
     "output_type": "display_data"
    },
    {
     "data": {
      "text/html": [
       " View project at <a href='https://wandb.ai/rajpal906/Symmetry-invariant-Tractable-Generative-Models-src' target=\"_blank\">https://wandb.ai/rajpal906/Symmetry-invariant-Tractable-Generative-Models-src</a>"
      ],
      "text/plain": [
       "<IPython.core.display.HTML object>"
      ]
     },
     "metadata": {},
     "output_type": "display_data"
    },
    {
     "data": {
      "text/html": [
       " View run at <a href='https://wandb.ai/rajpal906/Symmetry-invariant-Tractable-Generative-Models-src/runs/5fe5wlii' target=\"_blank\">https://wandb.ai/rajpal906/Symmetry-invariant-Tractable-Generative-Models-src/runs/5fe5wlii</a>"
      ],
      "text/plain": [
       "<IPython.core.display.HTML object>"
      ]
     },
     "metadata": {},
     "output_type": "display_data"
    }
   ],
   "source": [
    "import os\n",
    "import random\n",
    "import torch\n",
    "from torch.utils.data import DataLoader\n",
    "import torch.optim.lr_scheduler as lr_scheduler\n",
    "import ssl\n",
    "ssl._create_default_https_context = ssl._create_unverified_context\n",
    "import models\n",
    "import wandb\n",
    "from train import evaluation, training \n",
    "from data import load_data\n",
    "import numpy as np\n",
    "from util import categorical_layer_factory, hadamard_layer_factory, dense_layer_factory, mixing_layer_factory\n",
    "\n",
    "from Cirkit.cirkit.templates.region_graph import QuadTree\n",
    "from Cirkit.cirkit.symbolic.circuit import Circuit\n",
    "from Cirkit.cirkit.pipeline import PipelineContext\n",
    "\n",
    "random.seed(42)\n",
    "np.random.seed(42)\n",
    "device = torch.device(\"cuda\" if torch.cuda.is_available() else \"cpu\")\n",
    "\n",
    "height = 28\n",
    "input_dim = 784\n",
    "batch_size = 256\n",
    "region_graph = QuadTree(shape=(height, height))\n",
    "result_dir = 'model'\n",
    "name = 'pc'\n",
    "max_patience = 20\n",
    "num_epochs = 3\n",
    "lam = 0.\n",
    "lr = 0.1\n",
    "num_input_units = 8\n",
    "num_sum_units = 8\n",
    "\n",
    "hyperparameters = {'input_dim': input_dim, \n",
    "                   'lr': lr,\n",
    "                   'num_epochs': num_epochs,\n",
    "                   'max_patience': max_patience,\n",
    "                   'batch_size': batch_size,\n",
    "                   'lambda': lam,\n",
    "                   'num_input_units': 8,\n",
    "                   'num_sum_units': 8\n",
    "                    }\n",
    "\n",
    "run = wandb.init(entity=\"rajpal906\")#entity=\"rajpal906\", project=\"MADE\", name=\"unregularized\", id=\"1\", config=hyperparameters, settings=wandb.Settings(start_method=\"fork\"))\n",
    "\n",
    "\n",
    "symbolic_circuit = Circuit.from_region_graph(\n",
    "    region_graph,\n",
    "    num_input_units=num_input_units,\n",
    "    num_sum_units=num_sum_units,\n",
    "    input_factory=categorical_layer_factory,\n",
    "    sum_factory=dense_layer_factory,\n",
    "    prod_factory=hadamard_layer_factory,\n",
    "    mixing_factory=mixing_layer_factory\n",
    ")\n",
    "\n",
    "ctx = PipelineContext(\n",
    "    backend='torch',   # Choose the torch compilation backend\n",
    "    fold=True,         # Fold the circuit, this is a backend-specific compilation flag\n",
    "    semiring='lse-sum' # Use the (R, +, *) semiring, where + is the log-sum-exp and * is the sum\n",
    ")\n",
    "circuit = ctx.compile(symbolic_circuit).to(device)\n",
    "pf_circuit = ctx.integrate(circuit).to(device)\n",
    "model = (circuit, pf_circuit)\n",
    "\n",
    "train_data, val_data, test_data = load_data('mnist', binarize = False)\n",
    "train_loader = DataLoader(train_data, batch_size=batch_size, drop_last=True, shuffle=True, num_workers=os.cpu_count())\n",
    "val_loader = DataLoader(val_data, batch_size=batch_size, shuffle=False, num_workers=os.cpu_count())\n",
    "test_loader = DataLoader(test_data, batch_size=batch_size, shuffle=False, num_workers=os.cpu_count())\n",
    "optimizer = torch.optim.SGD([p for p in circuit.parameters() if p.requires_grad == True], lr=lr, momentum=0.95) #torch.optim.Adam([p for p in circuit.parameters() if p.requires_grad == True], lr = lr)\n",
    "scheduler = lr_scheduler.StepLR(optimizer, step_size=100, gamma=0.5)"
   ]
  },
  {
   "cell_type": "code",
   "execution_count": 6,
   "metadata": {},
   "outputs": [
    {
     "name": "stdout",
     "output_type": "stream",
     "text": [
      "Average test LL: 950.802\n",
      "Bits per dimension: 1.7496399861924141\n",
      "Epoch: 0, train nll=985.2160034179688, val nll=950.8022903645833\n",
      "saved!\n",
      "Average test LL: 920.619\n",
      "Bits per dimension: 1.6940971064713326\n",
      "Epoch: 1, train nll=913.71826171875, val nll=920.6187682291667\n",
      "saved!\n",
      "Average test LL: 874.754\n",
      "Bits per dimension: 1.6096976926651563\n",
      "Epoch: 2, train nll=859.733642578125, val nll=874.7538151041666\n",
      "saved!\n",
      "Average test LL: 869.612\n",
      "Bits per dimension: 1.6002362537602357\n",
      "FINAL LOSS: nll=869.6122100585937\n"
     ]
    }
   ],
   "source": [
    "nll_val, bpd_val, model_best = training(name=name, result_dir=result_dir, max_patience=max_patience, num_epochs=num_epochs, \n",
    "                   model=model, optimizer=optimizer, scheduler=scheduler, training_loader=train_loader, \n",
    "                   val_loader=val_loader, device=device, lam=lam, batch_size = batch_size)\n",
    "circuit, pf_circuit = model_best\n",
    "#torch.save(circuit, 'models/pc_test_circuit.pt')\n",
    "#torch.save(pf_circuit, 'models/pc_test_pf_circuit.pt')\n",
    "#circuit = torch.load('models/pc_test_circuit.pt')\n",
    "#pf_circuit = torch.load('models/pc_test_pf_circuit.pt')\n",
    "#model_best = (circuit, pf_circuit)\n",
    "test_nll, test_bpd = evaluation(test_loader, device, model_best=model_best)\n",
    "print(f'Test NLL ={test_nll}, Test BPD = {test_bpd}')\n",
    "#wandb.log({\"test_bpd\": test_bpd, \"test_loss\": test_nll})\n",
    "#run.log_artifact(result_dir + '/' + name + '.model')\n",
    "#run.finish()"
   ]
  },
  {
   "cell_type": "code",
   "execution_count": 8,
   "metadata": {},
   "outputs": [
    {
     "name": "stdout",
     "output_type": "stream",
     "text": [
      "Average test LL: 856.139\n",
      "Bits per dimension: 1.5754424633412036\n",
      "FINAL LOSS: nll=856.1385852539063\n"
     ]
    }
   ],
   "source": []
  },
  {
   "cell_type": "code",
   "execution_count": null,
   "metadata": {},
   "outputs": [],
   "source": []
  }
 ],
 "metadata": {
  "kernelspec": {
   "display_name": "Python 3",
   "language": "python",
   "name": "python3"
  },
  "language_info": {
   "codemirror_mode": {
    "name": "ipython",
    "version": 3
   },
   "file_extension": ".py",
   "mimetype": "text/x-python",
   "name": "python",
   "nbconvert_exporter": "python",
   "pygments_lexer": "ipython3",
   "version": "3.11.4"
  }
 },
 "nbformat": 4,
 "nbformat_minor": 2
}
