{
 "cells": [
  {
   "cell_type": "code",
   "execution_count": 6,
   "metadata": {},
   "outputs": [
    {
     "name": "stdout",
     "output_type": "stream",
     "text": [
      "..running\n"
     ]
    }
   ],
   "source": [
    "print('..running')\n",
    "import os\n",
    "import torch\n",
    "from torch.utils.data import DataLoader\n",
    "import torch.optim.lr_scheduler as lr_scheduler\n",
    "import torch.nn.functional as F\n",
    "import yaml\n",
    "import ssl\n",
    "ssl._create_default_https_context = ssl._create_unverified_context\n",
    "\n",
    "#from util import \n",
    "import models\n",
    "from train import evaluation, training \n",
    "from data import load_data\n",
    "from neural_networks import nnetts\n",
    "\n",
    "device = torch.device(\"cuda\" if torch.cuda.is_available() else \"cpu\")\n",
    "\n",
    "result_dir = 'results_made/test'\n",
    "if not(os.path.exists(result_dir)):\n",
    "    os.mkdir(result_dir)\n",
    "name = 'made'\n",
    "\n",
    "batch_size = 64\n",
    "D = 784   # input dimension\n",
    "M = 8000  # hidden layer dimensionality\n",
    "lr = 1e-3 # learning rate\n",
    "num_epochs = 85\n",
    "max_patience = num_epochs//10 # Early Stopping\n",
    "lam = 0. # Regularization Hyperparameter\n",
    "n_masks = 1\n",
    "hyperparameters = {'D': D, \n",
    "                   'M': M,\n",
    "                   'lr': lr,\n",
    "                   'n_masks': n_masks,\n",
    "                   'num_epochs': num_epochs,\n",
    "                   'max_patience': max_patience,\n",
    "                   'batch_size': batch_size,\n",
    "                   'lambda': lam,\n",
    "                    }\n",
    "with open(result_dir + '/hyperparameters.yaml', 'w') as file:\n",
    "    yaml.dump(hyperparameters, file)\n",
    "\n",
    "# Create data loaders\n",
    "train_data, val_data, test_data = load_data('mnist', binarize = True)\n",
    "\n",
    "train_loader = DataLoader(train_data, batch_size=batch_size, shuffle=True, num_workers=os.cpu_count())\n",
    "val_loader = DataLoader(val_data, batch_size=batch_size, shuffle=False, num_workers=os.cpu_count())\n",
    "test_loader = DataLoader(test_data, batch_size=batch_size, shuffle=False, num_workers=os.cpu_count())"
   ]
  },
  {
   "cell_type": "code",
   "execution_count": 7,
   "metadata": {},
   "outputs": [
    {
     "name": "stdout",
     "output_type": "stream",
     "text": [
      "Epoch: 0, train nll=103.11278533935547, val nll=1.519874454498291\n",
      "saved!\n"
     ]
    }
   ],
   "source": [
    "model = models.MADE(input_dim=784, hidden_dims=[M], n_masks=n_masks).to(device)\n",
    "optimizer = torch.optim.Adam([p for p in model.parameters() if p.requires_grad == True], lr = 1e-3)\n",
    "scheduler = lr_scheduler.StepLR(optimizer, step_size=100, gamma=0.5)\n",
    "\n",
    "def loss_fn(x, _, preds):\n",
    "        batch_size = x.shape[0]\n",
    "        x, preds = x.view((batch_size, -1)), preds.view((batch_size, -1))\n",
    "        loss = F.binary_cross_entropy_with_logits(preds, x, reduction=\"none\")\n",
    "        return loss.sum(dim=1).mean()\n",
    "# Training procedure\n",
    "nll_val = training(name=name, result_dir=result_dir, max_patience=max_patience, num_epochs=num_epochs, model=model, loss_fn=loss_fn, optimizer=optimizer,\n",
    "                   scheduler=scheduler, training_loader=train_loader, val_loader=val_loader, device=device, lam=lam)"
   ]
  },
  {
   "cell_type": "code",
   "execution_count": 5,
   "metadata": {},
   "outputs": [
    {
     "data": {
      "text/plain": [
       "<matplotlib.image.AxesImage at 0x29ee324d0>"
      ]
     },
     "execution_count": 5,
     "metadata": {},
     "output_type": "execute_result"
    },
    {
     "data": {
      "image/png": "[encoded data removed]",
      "text/plain": [
       "<Figure size 640x480 with 1 Axes>"
      ]
     },
     "metadata": {},
     "output_type": "display_data"
    }
   ],
   "source": [
    "import matplotlib.pyplot as plt\n",
    "import numpy as np\n",
    "\n",
    "model_best = torch.load(result_dir + '/' + name + '.model')\n",
    "model_best.eval()\n",
    "num_x, num_y = 1, 1\n",
    "x = model_best.sample(num_x * num_y).detach().numpy()\n",
    "plottable_image = np.reshape(x, (28, 28))\n",
    "plt.imshow(plottable_image, cmap='gray')"
   ]
  },
  {
   "cell_type": "code",
   "execution_count": null,
   "metadata": {},
   "outputs": [],
   "source": []
  }
 ],
 "metadata": {
  "kernelspec": {
   "display_name": "Python 3",
   "language": "python",
   "name": "python3"
  },
  "language_info": {
   "codemirror_mode": {
    "name": "ipython",
    "version": 3
   },
   "file_extension": ".py",
   "mimetype": "text/x-python",
   "name": "python",
   "nbconvert_exporter": "python",
   "pygments_lexer": "ipython3",
   "version": "3.11.4"
  }
 },
 "nbformat": 4,
 "nbformat_minor": 2
}
