{
 "cells": [
  {
   "cell_type": "code",
   "execution_count": 1,
   "metadata": {},
   "outputs": [
    {
     "name": "stdout",
     "output_type": "stream",
     "text": [
      "Create sweep with ID: spvvkf25\n",
      "Sweep URL: https://wandb.ai/rajpal906/pc_hyperparameter_optimization/sweeps/spvvkf25\n"
     ]
    },
    {
     "name": "stderr",
     "output_type": "stream",
     "text": [
      "\u001b[34m\u001b[1mwandb\u001b[0m: Agent Starting Run: milzhmes with config:\n",
      "\u001b[34m\u001b[1mwandb\u001b[0m: \tbatch_size: 64\n",
      "\u001b[34m\u001b[1mwandb\u001b[0m: \tinput_dim: 784\n",
      "\u001b[34m\u001b[1mwandb\u001b[0m: \tlam: 0.1\n",
      "\u001b[34m\u001b[1mwandb\u001b[0m: \tlr: 0.1\n",
      "\u001b[34m\u001b[1mwandb\u001b[0m: \tmax_patience: 30\n",
      "\u001b[34m\u001b[1mwandb\u001b[0m: \tnum_epochs: 1\n",
      "\u001b[34m\u001b[1mwandb\u001b[0m: \tnum_input_units: 8\n",
      "\u001b[34m\u001b[1mwandb\u001b[0m: \tnum_sum_units: 8\n",
      "\u001b[34m\u001b[1mwandb\u001b[0m: Currently logged in as: \u001b[33ms2592586\u001b[0m (\u001b[33mrajpal906\u001b[0m). Use \u001b[1m`wandb login --relogin`\u001b[0m to force relogin\n"
     ]
    },
    {
     "data": {
      "text/html": [
       "wandb version 0.17.3 is available!  To upgrade, please run:\n",
       " $ pip install wandb --upgrade"
      ],
      "text/plain": [
       "<IPython.core.display.HTML object>"
      ]
     },
     "metadata": {},
     "output_type": "display_data"
    },
    {
     "data": {
      "text/html": [
       "Tracking run with wandb version 0.17.0"
      ],
      "text/plain": [
       "<IPython.core.display.HTML object>"
      ]
     },
     "metadata": {},
     "output_type": "display_data"
    },
    {
     "data": {
      "text/html": [
       "Run data is saved locally in <code>/Users/rajit906/Downloads/Dissertation/Symmetry-invariant-Tractable-Generative-Models/src/wandb/run-20240630_155105-milzhmes</code>"
      ],
      "text/plain": [
       "<IPython.core.display.HTML object>"
      ]
     },
     "metadata": {},
     "output_type": "display_data"
    },
    {
     "data": {
      "text/html": [
       "Syncing run <strong><a href='https://wandb.ai/rajpal906/pc_hyperparameter_optimization/runs/milzhmes' target=\"_blank\">glad-sweep-1</a></strong> to <a href='https://wandb.ai/rajpal906/pc_hyperparameter_optimization' target=\"_blank\">Weights & Biases</a> (<a href='https://wandb.me/run' target=\"_blank\">docs</a>)<br/>Sweep page: <a href='https://wandb.ai/rajpal906/pc_hyperparameter_optimization/sweeps/spvvkf25' target=\"_blank\">https://wandb.ai/rajpal906/pc_hyperparameter_optimization/sweeps/spvvkf25</a>"
      ],
      "text/plain": [
       "<IPython.core.display.HTML object>"
      ]
     },
     "metadata": {},
     "output_type": "display_data"
    },
    {
     "data": {
      "text/html": [
       " View project at <a href='https://wandb.ai/rajpal906/pc_hyperparameter_optimization' target=\"_blank\">https://wandb.ai/rajpal906/pc_hyperparameter_optimization</a>"
      ],
      "text/plain": [
       "<IPython.core.display.HTML object>"
      ]
     },
     "metadata": {},
     "output_type": "display_data"
    },
    {
     "data": {
      "text/html": [
       " View sweep at <a href='https://wandb.ai/rajpal906/pc_hyperparameter_optimization/sweeps/spvvkf25' target=\"_blank\">https://wandb.ai/rajpal906/pc_hyperparameter_optimization/sweeps/spvvkf25</a>"
      ],
      "text/plain": [
       "<IPython.core.display.HTML object>"
      ]
     },
     "metadata": {},
     "output_type": "display_data"
    },
    {
     "data": {
      "text/html": [
       " View run at <a href='https://wandb.ai/rajpal906/pc_hyperparameter_optimization/runs/milzhmes' target=\"_blank\">https://wandb.ai/rajpal906/pc_hyperparameter_optimization/runs/milzhmes</a>"
      ],
      "text/plain": [
       "<IPython.core.display.HTML object>"
      ]
     },
     "metadata": {},
     "output_type": "display_data"
    },
    {
     "name": "stdout",
     "output_type": "stream",
     "text": [
      "Average test LL: 844.392\n",
      "Bits per dimension: 1.55382665128959\n",
      "Epoch: 0, train nll=864.5386352539062, val nll=844.3919609375\n",
      "saved!\n",
      "Average test LL: 840.470\n",
      "Bits per dimension: 1.5466101545366937\n",
      "FINAL LOSS: nll=840.4703189453126\n"
     ]
    },
    {
     "data": {
      "application/vnd.jupyter.widget-view+json": {
       "model_id": "6f17df4bef1a4c97ba0245b96ec4af07",
       "version_major": 2,
       "version_minor": 0
      },
      "text/plain": [
       "VBox(children=(Label(value='0.001 MB of 0.001 MB uploaded\\r'), FloatProgress(value=1.0, max=1.0)))"
      ]
     },
     "metadata": {},
     "output_type": "display_data"
    },
    {
     "data": {
      "text/html": [
       "<style>\n",
       "    table.wandb td:nth-child(1) { padding: 0 10px; text-align: left ; width: auto;} td:nth-child(2) {text-align: left ; width: 100%}\n",
       "    .wandb-row { display: flex; flex-direction: row; flex-wrap: wrap; justify-content: flex-start; width: 100% }\n",
       "    .wandb-col { display: flex; flex-direction: column; flex-basis: 100%; flex: 1; padding: 10px; }\n",
       "    </style>\n",
       "<div class=\"wandb-row\"><div class=\"wandb-col\"><h3>Run history:</h3><br/><table class=\"wandb\"><tr><td>test_bpd</td><td>▁</td></tr></table><br/></div><div class=\"wandb-col\"><h3>Run summary:</h3><br/><table class=\"wandb\"><tr><td>test_bpd</td><td>1.54661</td></tr></table><br/></div></div>"
      ],
      "text/plain": [
       "<IPython.core.display.HTML object>"
      ]
     },
     "metadata": {},
     "output_type": "display_data"
    },
    {
     "data": {
      "text/html": [
       " View run <strong style=\"color:#cdcd00\">glad-sweep-1</strong> at: <a href='https://wandb.ai/rajpal906/pc_hyperparameter_optimization/runs/milzhmes' target=\"_blank\">https://wandb.ai/rajpal906/pc_hyperparameter_optimization/runs/milzhmes</a><br/> View project at: <a href='https://wandb.ai/rajpal906/pc_hyperparameter_optimization' target=\"_blank\">https://wandb.ai/rajpal906/pc_hyperparameter_optimization</a><br/>Synced 5 W&B file(s), 0 media file(s), 0 artifact file(s) and 0 other file(s)"
      ],
      "text/plain": [
       "<IPython.core.display.HTML object>"
      ]
     },
     "metadata": {},
     "output_type": "display_data"
    },
    {
     "data": {
      "text/html": [
       "Find logs at: <code>./wandb/run-20240630_155105-milzhmes/logs</code>"
      ],
      "text/plain": [
       "<IPython.core.display.HTML object>"
      ]
     },
     "metadata": {},
     "output_type": "display_data"
    },
    {
     "name": "stderr",
     "output_type": "stream",
     "text": [
      "\u001b[34m\u001b[1mwandb\u001b[0m: Agent Starting Run: 9urzb652 with config:\n",
      "\u001b[34m\u001b[1mwandb\u001b[0m: \tbatch_size: 64\n",
      "\u001b[34m\u001b[1mwandb\u001b[0m: \tinput_dim: 784\n",
      "\u001b[34m\u001b[1mwandb\u001b[0m: \tlam: 0.1\n",
      "\u001b[34m\u001b[1mwandb\u001b[0m: \tlr: 0.01\n",
      "\u001b[34m\u001b[1mwandb\u001b[0m: \tmax_patience: 30\n",
      "\u001b[34m\u001b[1mwandb\u001b[0m: \tnum_epochs: 1\n",
      "\u001b[34m\u001b[1mwandb\u001b[0m: \tnum_input_units: 8\n",
      "\u001b[34m\u001b[1mwandb\u001b[0m: \tnum_sum_units: 8\n"
     ]
    },
    {
     "data": {
      "text/html": [
       "wandb version 0.17.3 is available!  To upgrade, please run:\n",
       " $ pip install wandb --upgrade"
      ],
      "text/plain": [
       "<IPython.core.display.HTML object>"
      ]
     },
     "metadata": {},
     "output_type": "display_data"
    },
    {
     "data": {
      "text/html": [
       "Tracking run with wandb version 0.17.0"
      ],
      "text/plain": [
       "<IPython.core.display.HTML object>"
      ]
     },
     "metadata": {},
     "output_type": "display_data"
    },
    {
     "data": {
      "text/html": [
       "Run data is saved locally in <code>/Users/rajit906/Downloads/Dissertation/Symmetry-invariant-Tractable-Generative-Models/src/wandb/run-20240630_155730-9urzb652</code>"
      ],
      "text/plain": [
       "<IPython.core.display.HTML object>"
      ]
     },
     "metadata": {},
     "output_type": "display_data"
    },
    {
     "data": {
      "text/html": [
       "Syncing run <strong><a href='https://wandb.ai/rajpal906/pc_hyperparameter_optimization/runs/9urzb652' target=\"_blank\">mild-sweep-2</a></strong> to <a href='https://wandb.ai/rajpal906/pc_hyperparameter_optimization' target=\"_blank\">Weights & Biases</a> (<a href='https://wandb.me/run' target=\"_blank\">docs</a>)<br/>Sweep page: <a href='https://wandb.ai/rajpal906/pc_hyperparameter_optimization/sweeps/spvvkf25' target=\"_blank\">https://wandb.ai/rajpal906/pc_hyperparameter_optimization/sweeps/spvvkf25</a>"
      ],
      "text/plain": [
       "<IPython.core.display.HTML object>"
      ]
     },
     "metadata": {},
     "output_type": "display_data"
    },
    {
     "data": {
      "text/html": [
       " View project at <a href='https://wandb.ai/rajpal906/pc_hyperparameter_optimization' target=\"_blank\">https://wandb.ai/rajpal906/pc_hyperparameter_optimization</a>"
      ],
      "text/plain": [
       "<IPython.core.display.HTML object>"
      ]
     },
     "metadata": {},
     "output_type": "display_data"
    },
    {
     "data": {
      "text/html": [
       " View sweep at <a href='https://wandb.ai/rajpal906/pc_hyperparameter_optimization/sweeps/spvvkf25' target=\"_blank\">https://wandb.ai/rajpal906/pc_hyperparameter_optimization/sweeps/spvvkf25</a>"
      ],
      "text/plain": [
       "<IPython.core.display.HTML object>"
      ]
     },
     "metadata": {},
     "output_type": "display_data"
    },
    {
     "data": {
      "text/html": [
       " View run at <a href='https://wandb.ai/rajpal906/pc_hyperparameter_optimization/runs/9urzb652' target=\"_blank\">https://wandb.ai/rajpal906/pc_hyperparameter_optimization/runs/9urzb652</a>"
      ],
      "text/plain": [
       "<IPython.core.display.HTML object>"
      ]
     },
     "metadata": {},
     "output_type": "display_data"
    },
    {
     "name": "stdout",
     "output_type": "stream",
     "text": [
      "Average test LL: 1021.116\n",
      "Bits per dimension: 1.8790298467176378\n",
      "Epoch: 0, train nll=1070.166748046875, val nll=1021.1162845052083\n",
      "saved!\n",
      "Average test LL: 1023.718\n",
      "Bits per dimension: 1.8838176781500773\n",
      "FINAL LOSS: nll=1023.7181232421875\n"
     ]
    },
    {
     "data": {
      "application/vnd.jupyter.widget-view+json": {
       "model_id": "e9fd489a8c984527a10a839c3c81ec64",
       "version_major": 2,
       "version_minor": 0
      },
      "text/plain": [
       "VBox(children=(Label(value='0.001 MB of 0.001 MB uploaded\\r'), FloatProgress(value=1.0, max=1.0)))"
      ]
     },
     "metadata": {},
     "output_type": "display_data"
    },
    {
     "data": {
      "text/html": [
       "<style>\n",
       "    table.wandb td:nth-child(1) { padding: 0 10px; text-align: left ; width: auto;} td:nth-child(2) {text-align: left ; width: 100%}\n",
       "    .wandb-row { display: flex; flex-direction: row; flex-wrap: wrap; justify-content: flex-start; width: 100% }\n",
       "    .wandb-col { display: flex; flex-direction: column; flex-basis: 100%; flex: 1; padding: 10px; }\n",
       "    </style>\n",
       "<div class=\"wandb-row\"><div class=\"wandb-col\"><h3>Run history:</h3><br/><table class=\"wandb\"><tr><td>test_bpd</td><td>▁</td></tr></table><br/></div><div class=\"wandb-col\"><h3>Run summary:</h3><br/><table class=\"wandb\"><tr><td>test_bpd</td><td>1.88382</td></tr></table><br/></div></div>"
      ],
      "text/plain": [
       "<IPython.core.display.HTML object>"
      ]
     },
     "metadata": {},
     "output_type": "display_data"
    },
    {
     "data": {
      "text/html": [
       " View run <strong style=\"color:#cdcd00\">mild-sweep-2</strong> at: <a href='https://wandb.ai/rajpal906/pc_hyperparameter_optimization/runs/9urzb652' target=\"_blank\">https://wandb.ai/rajpal906/pc_hyperparameter_optimization/runs/9urzb652</a><br/> View project at: <a href='https://wandb.ai/rajpal906/pc_hyperparameter_optimization' target=\"_blank\">https://wandb.ai/rajpal906/pc_hyperparameter_optimization</a><br/>Synced 5 W&B file(s), 0 media file(s), 0 artifact file(s) and 0 other file(s)"
      ],
      "text/plain": [
       "<IPython.core.display.HTML object>"
      ]
     },
     "metadata": {},
     "output_type": "display_data"
    },
    {
     "data": {
      "text/html": [
       "Find logs at: <code>./wandb/run-20240630_155730-9urzb652/logs</code>"
      ],
      "text/plain": [
       "<IPython.core.display.HTML object>"
      ]
     },
     "metadata": {},
     "output_type": "display_data"
    },
    {
     "name": "stderr",
     "output_type": "stream",
     "text": [
      "\u001b[34m\u001b[1mwandb\u001b[0m: Agent Starting Run: t4bcpunb with config:\n",
      "\u001b[34m\u001b[1mwandb\u001b[0m: \tbatch_size: 64\n",
      "\u001b[34m\u001b[1mwandb\u001b[0m: \tinput_dim: 784\n",
      "\u001b[34m\u001b[1mwandb\u001b[0m: \tlam: 0.1\n",
      "\u001b[34m\u001b[1mwandb\u001b[0m: \tlr: 0.001\n",
      "\u001b[34m\u001b[1mwandb\u001b[0m: \tmax_patience: 30\n",
      "\u001b[34m\u001b[1mwandb\u001b[0m: \tnum_epochs: 1\n",
      "\u001b[34m\u001b[1mwandb\u001b[0m: \tnum_input_units: 8\n",
      "\u001b[34m\u001b[1mwandb\u001b[0m: \tnum_sum_units: 8\n"
     ]
    },
    {
     "data": {
      "text/html": [
       "wandb version 0.17.3 is available!  To upgrade, please run:\n",
       " $ pip install wandb --upgrade"
      ],
      "text/plain": [
       "<IPython.core.display.HTML object>"
      ]
     },
     "metadata": {},
     "output_type": "display_data"
    },
    {
     "data": {
      "text/html": [
       "Tracking run with wandb version 0.17.0"
      ],
      "text/plain": [
       "<IPython.core.display.HTML object>"
      ]
     },
     "metadata": {},
     "output_type": "display_data"
    },
    {
     "data": {
      "text/html": [
       "Run data is saved locally in <code>/Users/rajit906/Downloads/Dissertation/Symmetry-invariant-Tractable-Generative-Models/src/wandb/run-20240630_160405-t4bcpunb</code>"
      ],
      "text/plain": [
       "<IPython.core.display.HTML object>"
      ]
     },
     "metadata": {},
     "output_type": "display_data"
    },
    {
     "data": {
      "text/html": [
       "Syncing run <strong><a href='https://wandb.ai/rajpal906/pc_hyperparameter_optimization/runs/t4bcpunb' target=\"_blank\">resilient-sweep-3</a></strong> to <a href='https://wandb.ai/rajpal906/pc_hyperparameter_optimization' target=\"_blank\">Weights & Biases</a> (<a href='https://wandb.me/run' target=\"_blank\">docs</a>)<br/>Sweep page: <a href='https://wandb.ai/rajpal906/pc_hyperparameter_optimization/sweeps/spvvkf25' target=\"_blank\">https://wandb.ai/rajpal906/pc_hyperparameter_optimization/sweeps/spvvkf25</a>"
      ],
      "text/plain": [
       "<IPython.core.display.HTML object>"
      ]
     },
     "metadata": {},
     "output_type": "display_data"
    },
    {
     "data": {
      "text/html": [
       " View project at <a href='https://wandb.ai/rajpal906/pc_hyperparameter_optimization' target=\"_blank\">https://wandb.ai/rajpal906/pc_hyperparameter_optimization</a>"
      ],
      "text/plain": [
       "<IPython.core.display.HTML object>"
      ]
     },
     "metadata": {},
     "output_type": "display_data"
    },
    {
     "data": {
      "text/html": [
       " View sweep at <a href='https://wandb.ai/rajpal906/pc_hyperparameter_optimization/sweeps/spvvkf25' target=\"_blank\">https://wandb.ai/rajpal906/pc_hyperparameter_optimization/sweeps/spvvkf25</a>"
      ],
      "text/plain": [
       "<IPython.core.display.HTML object>"
      ]
     },
     "metadata": {},
     "output_type": "display_data"
    },
    {
     "data": {
      "text/html": [
       " View run at <a href='https://wandb.ai/rajpal906/pc_hyperparameter_optimization/runs/t4bcpunb' target=\"_blank\">https://wandb.ai/rajpal906/pc_hyperparameter_optimization/runs/t4bcpunb</a>"
      ],
      "text/plain": [
       "<IPython.core.display.HTML object>"
      ]
     },
     "metadata": {},
     "output_type": "display_data"
    },
    {
     "name": "stdout",
     "output_type": "stream",
     "text": [
      "Average test LL: 3203.703\n",
      "Bits per dimension: 5.895365560774133\n",
      "Epoch: 0, train nll=3219.151611328125, val nll=3203.7031171875\n",
      "saved!\n",
      "Average test LL: 3203.878\n",
      "Bits per dimension: 5.895686550788579\n",
      "FINAL LOSS: nll=3203.877551953125\n"
     ]
    },
    {
     "data": {
      "application/vnd.jupyter.widget-view+json": {
       "model_id": "8d0d8c12b12744b1b2982d79a7d9379d",
       "version_major": 2,
       "version_minor": 0
      },
      "text/plain": [
       "VBox(children=(Label(value='0.001 MB of 0.001 MB uploaded\\r'), FloatProgress(value=1.0, max=1.0)))"
      ]
     },
     "metadata": {},
     "output_type": "display_data"
    },
    {
     "data": {
      "text/html": [
       "<style>\n",
       "    table.wandb td:nth-child(1) { padding: 0 10px; text-align: left ; width: auto;} td:nth-child(2) {text-align: left ; width: 100%}\n",
       "    .wandb-row { display: flex; flex-direction: row; flex-wrap: wrap; justify-content: flex-start; width: 100% }\n",
       "    .wandb-col { display: flex; flex-direction: column; flex-basis: 100%; flex: 1; padding: 10px; }\n",
       "    </style>\n",
       "<div class=\"wandb-row\"><div class=\"wandb-col\"><h3>Run history:</h3><br/><table class=\"wandb\"><tr><td>test_bpd</td><td>▁</td></tr></table><br/></div><div class=\"wandb-col\"><h3>Run summary:</h3><br/><table class=\"wandb\"><tr><td>test_bpd</td><td>5.89569</td></tr></table><br/></div></div>"
      ],
      "text/plain": [
       "<IPython.core.display.HTML object>"
      ]
     },
     "metadata": {},
     "output_type": "display_data"
    },
    {
     "data": {
      "text/html": [
       " View run <strong style=\"color:#cdcd00\">resilient-sweep-3</strong> at: <a href='https://wandb.ai/rajpal906/pc_hyperparameter_optimization/runs/t4bcpunb' target=\"_blank\">https://wandb.ai/rajpal906/pc_hyperparameter_optimization/runs/t4bcpunb</a><br/> View project at: <a href='https://wandb.ai/rajpal906/pc_hyperparameter_optimization' target=\"_blank\">https://wandb.ai/rajpal906/pc_hyperparameter_optimization</a><br/>Synced 5 W&B file(s), 0 media file(s), 0 artifact file(s) and 0 other file(s)"
      ],
      "text/plain": [
       "<IPython.core.display.HTML object>"
      ]
     },
     "metadata": {},
     "output_type": "display_data"
    },
    {
     "data": {
      "text/html": [
       "Find logs at: <code>./wandb/run-20240630_160405-t4bcpunb/logs</code>"
      ],
      "text/plain": [
       "<IPython.core.display.HTML object>"
      ]
     },
     "metadata": {},
     "output_type": "display_data"
    },
    {
     "name": "stderr",
     "output_type": "stream",
     "text": [
      "\u001b[34m\u001b[1mwandb\u001b[0m: Agent Starting Run: s8mqbuz0 with config:\n",
      "\u001b[34m\u001b[1mwandb\u001b[0m: \tbatch_size: 64\n",
      "\u001b[34m\u001b[1mwandb\u001b[0m: \tinput_dim: 784\n",
      "\u001b[34m\u001b[1mwandb\u001b[0m: \tlam: 0.5\n",
      "\u001b[34m\u001b[1mwandb\u001b[0m: \tlr: 0.1\n",
      "\u001b[34m\u001b[1mwandb\u001b[0m: \tmax_patience: 30\n",
      "\u001b[34m\u001b[1mwandb\u001b[0m: \tnum_epochs: 1\n",
      "\u001b[34m\u001b[1mwandb\u001b[0m: \tnum_input_units: 8\n",
      "\u001b[34m\u001b[1mwandb\u001b[0m: \tnum_sum_units: 8\n"
     ]
    },
    {
     "data": {
      "text/html": [
       "wandb version 0.17.3 is available!  To upgrade, please run:\n",
       " $ pip install wandb --upgrade"
      ],
      "text/plain": [
       "<IPython.core.display.HTML object>"
      ]
     },
     "metadata": {},
     "output_type": "display_data"
    },
    {
     "data": {
      "text/html": [
       "Tracking run with wandb version 0.17.0"
      ],
      "text/plain": [
       "<IPython.core.display.HTML object>"
      ]
     },
     "metadata": {},
     "output_type": "display_data"
    },
    {
     "data": {
      "text/html": [
       "Run data is saved locally in <code>/Users/rajit906/Downloads/Dissertation/Symmetry-invariant-Tractable-Generative-Models/src/wandb/run-20240630_161048-s8mqbuz0</code>"
      ],
      "text/plain": [
       "<IPython.core.display.HTML object>"
      ]
     },
     "metadata": {},
     "output_type": "display_data"
    },
    {
     "data": {
      "text/html": [
       "Syncing run <strong><a href='https://wandb.ai/rajpal906/pc_hyperparameter_optimization/runs/s8mqbuz0' target=\"_blank\">light-sweep-4</a></strong> to <a href='https://wandb.ai/rajpal906/pc_hyperparameter_optimization' target=\"_blank\">Weights & Biases</a> (<a href='https://wandb.me/run' target=\"_blank\">docs</a>)<br/>Sweep page: <a href='https://wandb.ai/rajpal906/pc_hyperparameter_optimization/sweeps/spvvkf25' target=\"_blank\">https://wandb.ai/rajpal906/pc_hyperparameter_optimization/sweeps/spvvkf25</a>"
      ],
      "text/plain": [
       "<IPython.core.display.HTML object>"
      ]
     },
     "metadata": {},
     "output_type": "display_data"
    },
    {
     "data": {
      "text/html": [
       " View project at <a href='https://wandb.ai/rajpal906/pc_hyperparameter_optimization' target=\"_blank\">https://wandb.ai/rajpal906/pc_hyperparameter_optimization</a>"
      ],
      "text/plain": [
       "<IPython.core.display.HTML object>"
      ]
     },
     "metadata": {},
     "output_type": "display_data"
    },
    {
     "data": {
      "text/html": [
       " View sweep at <a href='https://wandb.ai/rajpal906/pc_hyperparameter_optimization/sweeps/spvvkf25' target=\"_blank\">https://wandb.ai/rajpal906/pc_hyperparameter_optimization/sweeps/spvvkf25</a>"
      ],
      "text/plain": [
       "<IPython.core.display.HTML object>"
      ]
     },
     "metadata": {},
     "output_type": "display_data"
    },
    {
     "data": {
      "text/html": [
       " View run at <a href='https://wandb.ai/rajpal906/pc_hyperparameter_optimization/runs/s8mqbuz0' target=\"_blank\">https://wandb.ai/rajpal906/pc_hyperparameter_optimization/runs/s8mqbuz0</a>"
      ],
      "text/plain": [
       "<IPython.core.display.HTML object>"
      ]
     },
     "metadata": {},
     "output_type": "display_data"
    },
    {
     "name": "stdout",
     "output_type": "stream",
     "text": [
      "Average test LL: 846.055\n",
      "Bits per dimension: 1.556887087756272\n",
      "Epoch: 0, train nll=817.3111572265625, val nll=846.0550859375\n",
      "saved!\n",
      "Average test LL: 842.218\n",
      "Bits per dimension: 1.5498265479373825\n",
      "FINAL LOSS: nll=842.2181952148437\n"
     ]
    },
    {
     "data": {
      "application/vnd.jupyter.widget-view+json": {
       "model_id": "9adbfb61a90c4c6d90eebfc9d8c92190",
       "version_major": 2,
       "version_minor": 0
      },
      "text/plain": [
       "VBox(children=(Label(value='0.001 MB of 0.001 MB uploaded\\r'), FloatProgress(value=1.0, max=1.0)))"
      ]
     },
     "metadata": {},
     "output_type": "display_data"
    },
    {
     "data": {
      "text/html": [
       "<style>\n",
       "    table.wandb td:nth-child(1) { padding: 0 10px; text-align: left ; width: auto;} td:nth-child(2) {text-align: left ; width: 100%}\n",
       "    .wandb-row { display: flex; flex-direction: row; flex-wrap: wrap; justify-content: flex-start; width: 100% }\n",
       "    .wandb-col { display: flex; flex-direction: column; flex-basis: 100%; flex: 1; padding: 10px; }\n",
       "    </style>\n",
       "<div class=\"wandb-row\"><div class=\"wandb-col\"><h3>Run history:</h3><br/><table class=\"wandb\"><tr><td>test_bpd</td><td>▁</td></tr></table><br/></div><div class=\"wandb-col\"><h3>Run summary:</h3><br/><table class=\"wandb\"><tr><td>test_bpd</td><td>1.54983</td></tr></table><br/></div></div>"
      ],
      "text/plain": [
       "<IPython.core.display.HTML object>"
      ]
     },
     "metadata": {},
     "output_type": "display_data"
    },
    {
     "data": {
      "text/html": [
       " View run <strong style=\"color:#cdcd00\">light-sweep-4</strong> at: <a href='https://wandb.ai/rajpal906/pc_hyperparameter_optimization/runs/s8mqbuz0' target=\"_blank\">https://wandb.ai/rajpal906/pc_hyperparameter_optimization/runs/s8mqbuz0</a><br/> View project at: <a href='https://wandb.ai/rajpal906/pc_hyperparameter_optimization' target=\"_blank\">https://wandb.ai/rajpal906/pc_hyperparameter_optimization</a><br/>Synced 5 W&B file(s), 0 media file(s), 0 artifact file(s) and 0 other file(s)"
      ],
      "text/plain": [
       "<IPython.core.display.HTML object>"
      ]
     },
     "metadata": {},
     "output_type": "display_data"
    },
    {
     "data": {
      "text/html": [
       "Find logs at: <code>./wandb/run-20240630_161048-s8mqbuz0/logs</code>"
      ],
      "text/plain": [
       "<IPython.core.display.HTML object>"
      ]
     },
     "metadata": {},
     "output_type": "display_data"
    },
    {
     "name": "stderr",
     "output_type": "stream",
     "text": [
      "\u001b[34m\u001b[1mwandb\u001b[0m: Agent Starting Run: khzlui5f with config:\n",
      "\u001b[34m\u001b[1mwandb\u001b[0m: \tbatch_size: 64\n",
      "\u001b[34m\u001b[1mwandb\u001b[0m: \tinput_dim: 784\n",
      "\u001b[34m\u001b[1mwandb\u001b[0m: \tlam: 0.5\n",
      "\u001b[34m\u001b[1mwandb\u001b[0m: \tlr: 0.01\n",
      "\u001b[34m\u001b[1mwandb\u001b[0m: \tmax_patience: 30\n",
      "\u001b[34m\u001b[1mwandb\u001b[0m: \tnum_epochs: 1\n",
      "\u001b[34m\u001b[1mwandb\u001b[0m: \tnum_input_units: 8\n",
      "\u001b[34m\u001b[1mwandb\u001b[0m: \tnum_sum_units: 8\n"
     ]
    },
    {
     "data": {
      "text/html": [
       "wandb version 0.17.3 is available!  To upgrade, please run:\n",
       " $ pip install wandb --upgrade"
      ],
      "text/plain": [
       "<IPython.core.display.HTML object>"
      ]
     },
     "metadata": {},
     "output_type": "display_data"
    },
    {
     "data": {
      "text/html": [
       "Tracking run with wandb version 0.17.0"
      ],
      "text/plain": [
       "<IPython.core.display.HTML object>"
      ]
     },
     "metadata": {},
     "output_type": "display_data"
    },
    {
     "data": {
      "text/html": [
       "Run data is saved locally in <code>/Users/rajit906/Downloads/Dissertation/Symmetry-invariant-Tractable-Generative-Models/src/wandb/run-20240630_161726-khzlui5f</code>"
      ],
      "text/plain": [
       "<IPython.core.display.HTML object>"
      ]
     },
     "metadata": {},
     "output_type": "display_data"
    },
    {
     "data": {
      "text/html": [
       "Syncing run <strong><a href='https://wandb.ai/rajpal906/pc_hyperparameter_optimization/runs/khzlui5f' target=\"_blank\">honest-sweep-5</a></strong> to <a href='https://wandb.ai/rajpal906/pc_hyperparameter_optimization' target=\"_blank\">Weights & Biases</a> (<a href='https://wandb.me/run' target=\"_blank\">docs</a>)<br/>Sweep page: <a href='https://wandb.ai/rajpal906/pc_hyperparameter_optimization/sweeps/spvvkf25' target=\"_blank\">https://wandb.ai/rajpal906/pc_hyperparameter_optimization/sweeps/spvvkf25</a>"
      ],
      "text/plain": [
       "<IPython.core.display.HTML object>"
      ]
     },
     "metadata": {},
     "output_type": "display_data"
    },
    {
     "data": {
      "text/html": [
       " View project at <a href='https://wandb.ai/rajpal906/pc_hyperparameter_optimization' target=\"_blank\">https://wandb.ai/rajpal906/pc_hyperparameter_optimization</a>"
      ],
      "text/plain": [
       "<IPython.core.display.HTML object>"
      ]
     },
     "metadata": {},
     "output_type": "display_data"
    },
    {
     "data": {
      "text/html": [
       " View sweep at <a href='https://wandb.ai/rajpal906/pc_hyperparameter_optimization/sweeps/spvvkf25' target=\"_blank\">https://wandb.ai/rajpal906/pc_hyperparameter_optimization/sweeps/spvvkf25</a>"
      ],
      "text/plain": [
       "<IPython.core.display.HTML object>"
      ]
     },
     "metadata": {},
     "output_type": "display_data"
    },
    {
     "data": {
      "text/html": [
       " View run at <a href='https://wandb.ai/rajpal906/pc_hyperparameter_optimization/runs/khzlui5f' target=\"_blank\">https://wandb.ai/rajpal906/pc_hyperparameter_optimization/runs/khzlui5f</a>"
      ],
      "text/plain": [
       "<IPython.core.display.HTML object>"
      ]
     },
     "metadata": {},
     "output_type": "display_data"
    },
    {
     "name": "stdout",
     "output_type": "stream",
     "text": [
      "Average test LL: 1021.262\n",
      "Bits per dimension: 1.879298699956081\n",
      "Epoch: 0, train nll=1084.68310546875, val nll=1021.26238671875\n",
      "saved!\n",
      "Average test LL: 1026.825\n",
      "Bits per dimension: 1.889534454289933\n",
      "FINAL LOSS: nll=1026.8247759765625\n"
     ]
    },
    {
     "data": {
      "application/vnd.jupyter.widget-view+json": {
       "model_id": "a51f24e26cf44b458a099bfc9cfbda16",
       "version_major": 2,
       "version_minor": 0
      },
      "text/plain": [
       "VBox(children=(Label(value='0.001 MB of 0.005 MB uploaded\\r'), FloatProgress(value=0.20465116279069767, max=1.…"
      ]
     },
     "metadata": {},
     "output_type": "display_data"
    },
    {
     "data": {
      "text/html": [
       "<style>\n",
       "    table.wandb td:nth-child(1) { padding: 0 10px; text-align: left ; width: auto;} td:nth-child(2) {text-align: left ; width: 100%}\n",
       "    .wandb-row { display: flex; flex-direction: row; flex-wrap: wrap; justify-content: flex-start; width: 100% }\n",
       "    .wandb-col { display: flex; flex-direction: column; flex-basis: 100%; flex: 1; padding: 10px; }\n",
       "    </style>\n",
       "<div class=\"wandb-row\"><div class=\"wandb-col\"><h3>Run history:</h3><br/><table class=\"wandb\"><tr><td>test_bpd</td><td>▁</td></tr></table><br/></div><div class=\"wandb-col\"><h3>Run summary:</h3><br/><table class=\"wandb\"><tr><td>test_bpd</td><td>1.88953</td></tr></table><br/></div></div>"
      ],
      "text/plain": [
       "<IPython.core.display.HTML object>"
      ]
     },
     "metadata": {},
     "output_type": "display_data"
    },
    {
     "data": {
      "text/html": [
       " View run <strong style=\"color:#cdcd00\">honest-sweep-5</strong> at: <a href='https://wandb.ai/rajpal906/pc_hyperparameter_optimization/runs/khzlui5f' target=\"_blank\">https://wandb.ai/rajpal906/pc_hyperparameter_optimization/runs/khzlui5f</a><br/> View project at: <a href='https://wandb.ai/rajpal906/pc_hyperparameter_optimization' target=\"_blank\">https://wandb.ai/rajpal906/pc_hyperparameter_optimization</a><br/>Synced 5 W&B file(s), 0 media file(s), 0 artifact file(s) and 0 other file(s)"
      ],
      "text/plain": [
       "<IPython.core.display.HTML object>"
      ]
     },
     "metadata": {},
     "output_type": "display_data"
    },
    {
     "data": {
      "text/html": [
       "Find logs at: <code>./wandb/run-20240630_161726-khzlui5f/logs</code>"
      ],
      "text/plain": [
       "<IPython.core.display.HTML object>"
      ]
     },
     "metadata": {},
     "output_type": "display_data"
    },
    {
     "name": "stderr",
     "output_type": "stream",
     "text": [
      "\u001b[34m\u001b[1mwandb\u001b[0m: Sweep Agent: Waiting for job.\n",
      "\u001b[34m\u001b[1mwandb\u001b[0m: Job received.\n",
      "\u001b[34m\u001b[1mwandb\u001b[0m: Agent Starting Run: 32p8ddp5 with config:\n",
      "\u001b[34m\u001b[1mwandb\u001b[0m: \tbatch_size: 64\n",
      "\u001b[34m\u001b[1mwandb\u001b[0m: \tinput_dim: 784\n",
      "\u001b[34m\u001b[1mwandb\u001b[0m: \tlam: 0.5\n",
      "\u001b[34m\u001b[1mwandb\u001b[0m: \tlr: 0.001\n",
      "\u001b[34m\u001b[1mwandb\u001b[0m: \tmax_patience: 30\n",
      "\u001b[34m\u001b[1mwandb\u001b[0m: \tnum_epochs: 1\n",
      "\u001b[34m\u001b[1mwandb\u001b[0m: \tnum_input_units: 8\n",
      "\u001b[34m\u001b[1mwandb\u001b[0m: \tnum_sum_units: 8\n"
     ]
    },
    {
     "data": {
      "text/html": [
       "wandb version 0.17.3 is available!  To upgrade, please run:\n",
       " $ pip install wandb --upgrade"
      ],
      "text/plain": [
       "<IPython.core.display.HTML object>"
      ]
     },
     "metadata": {},
     "output_type": "display_data"
    },
    {
     "data": {
      "text/html": [
       "Tracking run with wandb version 0.17.0"
      ],
      "text/plain": [
       "<IPython.core.display.HTML object>"
      ]
     },
     "metadata": {},
     "output_type": "display_data"
    },
    {
     "data": {
      "text/html": [
       "Run data is saved locally in <code>/Users/rajit906/Downloads/Dissertation/Symmetry-invariant-Tractable-Generative-Models/src/wandb/run-20240630_162437-32p8ddp5</code>"
      ],
      "text/plain": [
       "<IPython.core.display.HTML object>"
      ]
     },
     "metadata": {},
     "output_type": "display_data"
    },
    {
     "data": {
      "text/html": [
       "Syncing run <strong><a href='https://wandb.ai/rajpal906/pc_hyperparameter_optimization/runs/32p8ddp5' target=\"_blank\">snowy-sweep-6</a></strong> to <a href='https://wandb.ai/rajpal906/pc_hyperparameter_optimization' target=\"_blank\">Weights & Biases</a> (<a href='https://wandb.me/run' target=\"_blank\">docs</a>)<br/>Sweep page: <a href='https://wandb.ai/rajpal906/pc_hyperparameter_optimization/sweeps/spvvkf25' target=\"_blank\">https://wandb.ai/rajpal906/pc_hyperparameter_optimization/sweeps/spvvkf25</a>"
      ],
      "text/plain": [
       "<IPython.core.display.HTML object>"
      ]
     },
     "metadata": {},
     "output_type": "display_data"
    },
    {
     "data": {
      "text/html": [
       " View project at <a href='https://wandb.ai/rajpal906/pc_hyperparameter_optimization' target=\"_blank\">https://wandb.ai/rajpal906/pc_hyperparameter_optimization</a>"
      ],
      "text/plain": [
       "<IPython.core.display.HTML object>"
      ]
     },
     "metadata": {},
     "output_type": "display_data"
    },
    {
     "data": {
      "text/html": [
       " View sweep at <a href='https://wandb.ai/rajpal906/pc_hyperparameter_optimization/sweeps/spvvkf25' target=\"_blank\">https://wandb.ai/rajpal906/pc_hyperparameter_optimization/sweeps/spvvkf25</a>"
      ],
      "text/plain": [
       "<IPython.core.display.HTML object>"
      ]
     },
     "metadata": {},
     "output_type": "display_data"
    },
    {
     "data": {
      "text/html": [
       " View run at <a href='https://wandb.ai/rajpal906/pc_hyperparameter_optimization/runs/32p8ddp5' target=\"_blank\">https://wandb.ai/rajpal906/pc_hyperparameter_optimization/runs/32p8ddp5</a>"
      ],
      "text/plain": [
       "<IPython.core.display.HTML object>"
      ]
     },
     "metadata": {},
     "output_type": "display_data"
    },
    {
     "name": "stdout",
     "output_type": "stream",
     "text": [
      "Average test LL: 3206.512\n",
      "Bits per dimension: 5.900533799537878\n",
      "Epoch: 0, train nll=3223.95849609375, val nll=3206.5116796875\n",
      "saved!\n",
      "Average test LL: 3207.234\n",
      "Bits per dimension: 5.901863837939994\n",
      "FINAL LOSS: nll=3207.234458984375\n"
     ]
    },
    {
     "data": {
      "application/vnd.jupyter.widget-view+json": {
       "model_id": "9b91e0bc2fd84998872c80a0013dc158",
       "version_major": 2,
       "version_minor": 0
      },
      "text/plain": [
       "VBox(children=(Label(value='0.001 MB of 0.001 MB uploaded\\r'), FloatProgress(value=1.0, max=1.0)))"
      ]
     },
     "metadata": {},
     "output_type": "display_data"
    },
    {
     "name": "stderr",
     "output_type": "stream",
     "text": [
      "\u001b[34m\u001b[1mwandb\u001b[0m: Network error (ConnectionError), entering retry loop.\n",
      "wandb: Network error (ConnectionError), entering retry loop.\n"
     ]
    },
    {
     "data": {
      "text/html": [
       "<style>\n",
       "    table.wandb td:nth-child(1) { padding: 0 10px; text-align: left ; width: auto;} td:nth-child(2) {text-align: left ; width: 100%}\n",
       "    .wandb-row { display: flex; flex-direction: row; flex-wrap: wrap; justify-content: flex-start; width: 100% }\n",
       "    .wandb-col { display: flex; flex-direction: column; flex-basis: 100%; flex: 1; padding: 10px; }\n",
       "    </style>\n",
       "<div class=\"wandb-row\"><div class=\"wandb-col\"><h3>Run history:</h3><br/><table class=\"wandb\"><tr><td>test_bpd</td><td>▁</td></tr></table><br/></div><div class=\"wandb-col\"><h3>Run summary:</h3><br/><table class=\"wandb\"><tr><td>test_bpd</td><td>5.90186</td></tr></table><br/></div></div>"
      ],
      "text/plain": [
       "<IPython.core.display.HTML object>"
      ]
     },
     "metadata": {},
     "output_type": "display_data"
    },
    {
     "data": {
      "text/html": [
       " View run <strong style=\"color:#cdcd00\">snowy-sweep-6</strong> at: <a href='https://wandb.ai/rajpal906/pc_hyperparameter_optimization/runs/32p8ddp5' target=\"_blank\">https://wandb.ai/rajpal906/pc_hyperparameter_optimization/runs/32p8ddp5</a><br/> View project at: <a href='https://wandb.ai/rajpal906/pc_hyperparameter_optimization' target=\"_blank\">https://wandb.ai/rajpal906/pc_hyperparameter_optimization</a><br/>Synced 5 W&B file(s), 0 media file(s), 0 artifact file(s) and 0 other file(s)"
      ],
      "text/plain": [
       "<IPython.core.display.HTML object>"
      ]
     },
     "metadata": {},
     "output_type": "display_data"
    },
    {
     "data": {
      "text/html": [
       "Find logs at: <code>./wandb/run-20240630_162437-32p8ddp5/logs</code>"
      ],
      "text/plain": [
       "<IPython.core.display.HTML object>"
      ]
     },
     "metadata": {},
     "output_type": "display_data"
    },
    {
     "name": "stderr",
     "output_type": "stream",
     "text": [
      "\u001b[34m\u001b[1mwandb\u001b[0m: Sweep Agent: Waiting for job.\n",
      "\u001b[34m\u001b[1mwandb\u001b[0m: Job received.\n",
      "\u001b[34m\u001b[1mwandb\u001b[0m: Agent Starting Run: kdtkavyx with config:\n",
      "\u001b[34m\u001b[1mwandb\u001b[0m: \tbatch_size: 64\n",
      "\u001b[34m\u001b[1mwandb\u001b[0m: \tinput_dim: 784\n",
      "\u001b[34m\u001b[1mwandb\u001b[0m: \tlam: 1\n",
      "\u001b[34m\u001b[1mwandb\u001b[0m: \tlr: 0.1\n",
      "\u001b[34m\u001b[1mwandb\u001b[0m: \tmax_patience: 30\n",
      "\u001b[34m\u001b[1mwandb\u001b[0m: \tnum_epochs: 1\n",
      "\u001b[34m\u001b[1mwandb\u001b[0m: \tnum_input_units: 8\n",
      "\u001b[34m\u001b[1mwandb\u001b[0m: \tnum_sum_units: 8\n"
     ]
    },
    {
     "data": {
      "text/html": [
       "wandb version 0.17.3 is available!  To upgrade, please run:\n",
       " $ pip install wandb --upgrade"
      ],
      "text/plain": [
       "<IPython.core.display.HTML object>"
      ]
     },
     "metadata": {},
     "output_type": "display_data"
    },
    {
     "data": {
      "text/html": [
       "Tracking run with wandb version 0.17.0"
      ],
      "text/plain": [
       "<IPython.core.display.HTML object>"
      ]
     },
     "metadata": {},
     "output_type": "display_data"
    },
    {
     "data": {
      "text/html": [
       "Run data is saved locally in <code>/Users/rajit906/Downloads/Dissertation/Symmetry-invariant-Tractable-Generative-Models/src/wandb/run-20240630_225747-kdtkavyx</code>"
      ],
      "text/plain": [
       "<IPython.core.display.HTML object>"
      ]
     },
     "metadata": {},
     "output_type": "display_data"
    },
    {
     "data": {
      "text/html": [
       "Syncing run <strong><a href='https://wandb.ai/rajpal906/pc_hyperparameter_optimization/runs/kdtkavyx' target=\"_blank\">devoted-sweep-7</a></strong> to <a href='https://wandb.ai/rajpal906/pc_hyperparameter_optimization' target=\"_blank\">Weights & Biases</a> (<a href='https://wandb.me/run' target=\"_blank\">docs</a>)<br/>Sweep page: <a href='https://wandb.ai/rajpal906/pc_hyperparameter_optimization/sweeps/spvvkf25' target=\"_blank\">https://wandb.ai/rajpal906/pc_hyperparameter_optimization/sweeps/spvvkf25</a>"
      ],
      "text/plain": [
       "<IPython.core.display.HTML object>"
      ]
     },
     "metadata": {},
     "output_type": "display_data"
    },
    {
     "data": {
      "text/html": [
       " View project at <a href='https://wandb.ai/rajpal906/pc_hyperparameter_optimization' target=\"_blank\">https://wandb.ai/rajpal906/pc_hyperparameter_optimization</a>"
      ],
      "text/plain": [
       "<IPython.core.display.HTML object>"
      ]
     },
     "metadata": {},
     "output_type": "display_data"
    },
    {
     "data": {
      "text/html": [
       " View sweep at <a href='https://wandb.ai/rajpal906/pc_hyperparameter_optimization/sweeps/spvvkf25' target=\"_blank\">https://wandb.ai/rajpal906/pc_hyperparameter_optimization/sweeps/spvvkf25</a>"
      ],
      "text/plain": [
       "<IPython.core.display.HTML object>"
      ]
     },
     "metadata": {},
     "output_type": "display_data"
    },
    {
     "data": {
      "text/html": [
       " View run at <a href='https://wandb.ai/rajpal906/pc_hyperparameter_optimization/runs/kdtkavyx' target=\"_blank\">https://wandb.ai/rajpal906/pc_hyperparameter_optimization/runs/kdtkavyx</a>"
      ],
      "text/plain": [
       "<IPython.core.display.HTML object>"
      ]
     },
     "metadata": {},
     "output_type": "display_data"
    },
    {
     "name": "stdout",
     "output_type": "stream",
     "text": [
      "Average test LL: 856.086\n",
      "Bits per dimension: 1.575344991777448\n",
      "Epoch: 0, train nll=873.740234375, val nll=856.0856165364584\n",
      "saved!\n",
      "Average test LL: 853.649\n",
      "Bits per dimension: 1.5708610826420697\n",
      "FINAL LOSS: nll=853.6489375\n"
     ]
    },
    {
     "data": {
      "application/vnd.jupyter.widget-view+json": {
       "model_id": "a8b5323f95364b76b6332b8ec5d32506",
       "version_major": 2,
       "version_minor": 0
      },
      "text/plain": [
       "VBox(children=(Label(value='0.001 MB of 0.001 MB uploaded\\r'), FloatProgress(value=1.0, max=1.0)))"
      ]
     },
     "metadata": {},
     "output_type": "display_data"
    },
    {
     "data": {
      "text/html": [
       "<style>\n",
       "    table.wandb td:nth-child(1) { padding: 0 10px; text-align: left ; width: auto;} td:nth-child(2) {text-align: left ; width: 100%}\n",
       "    .wandb-row { display: flex; flex-direction: row; flex-wrap: wrap; justify-content: flex-start; width: 100% }\n",
       "    .wandb-col { display: flex; flex-direction: column; flex-basis: 100%; flex: 1; padding: 10px; }\n",
       "    </style>\n",
       "<div class=\"wandb-row\"><div class=\"wandb-col\"><h3>Run history:</h3><br/><table class=\"wandb\"><tr><td>test_bpd</td><td>▁</td></tr></table><br/></div><div class=\"wandb-col\"><h3>Run summary:</h3><br/><table class=\"wandb\"><tr><td>test_bpd</td><td>1.57086</td></tr></table><br/></div></div>"
      ],
      "text/plain": [
       "<IPython.core.display.HTML object>"
      ]
     },
     "metadata": {},
     "output_type": "display_data"
    },
    {
     "data": {
      "text/html": [
       " View run <strong style=\"color:#cdcd00\">devoted-sweep-7</strong> at: <a href='https://wandb.ai/rajpal906/pc_hyperparameter_optimization/runs/kdtkavyx' target=\"_blank\">https://wandb.ai/rajpal906/pc_hyperparameter_optimization/runs/kdtkavyx</a><br/> View project at: <a href='https://wandb.ai/rajpal906/pc_hyperparameter_optimization' target=\"_blank\">https://wandb.ai/rajpal906/pc_hyperparameter_optimization</a><br/>Synced 5 W&B file(s), 0 media file(s), 0 artifact file(s) and 0 other file(s)"
      ],
      "text/plain": [
       "<IPython.core.display.HTML object>"
      ]
     },
     "metadata": {},
     "output_type": "display_data"
    },
    {
     "data": {
      "text/html": [
       "Find logs at: <code>./wandb/run-20240630_225747-kdtkavyx/logs</code>"
      ],
      "text/plain": [
       "<IPython.core.display.HTML object>"
      ]
     },
     "metadata": {},
     "output_type": "display_data"
    },
    {
     "name": "stderr",
     "output_type": "stream",
     "text": [
      "\u001b[34m\u001b[1mwandb\u001b[0m: Agent Starting Run: olr94dyu with config:\n",
      "\u001b[34m\u001b[1mwandb\u001b[0m: \tbatch_size: 64\n",
      "\u001b[34m\u001b[1mwandb\u001b[0m: \tinput_dim: 784\n",
      "\u001b[34m\u001b[1mwandb\u001b[0m: \tlam: 1\n",
      "\u001b[34m\u001b[1mwandb\u001b[0m: \tlr: 0.01\n",
      "\u001b[34m\u001b[1mwandb\u001b[0m: \tmax_patience: 30\n",
      "\u001b[34m\u001b[1mwandb\u001b[0m: \tnum_epochs: 1\n",
      "\u001b[34m\u001b[1mwandb\u001b[0m: \tnum_input_units: 8\n",
      "\u001b[34m\u001b[1mwandb\u001b[0m: \tnum_sum_units: 8\n"
     ]
    },
    {
     "data": {
      "text/html": [
       "wandb version 0.17.3 is available!  To upgrade, please run:\n",
       " $ pip install wandb --upgrade"
      ],
      "text/plain": [
       "<IPython.core.display.HTML object>"
      ]
     },
     "metadata": {},
     "output_type": "display_data"
    },
    {
     "data": {
      "text/html": [
       "Tracking run with wandb version 0.17.0"
      ],
      "text/plain": [
       "<IPython.core.display.HTML object>"
      ]
     },
     "metadata": {},
     "output_type": "display_data"
    },
    {
     "data": {
      "text/html": [
       "Run data is saved locally in <code>/Users/rajit906/Downloads/Dissertation/Symmetry-invariant-Tractable-Generative-Models/src/wandb/run-20240630_230411-olr94dyu</code>"
      ],
      "text/plain": [
       "<IPython.core.display.HTML object>"
      ]
     },
     "metadata": {},
     "output_type": "display_data"
    },
    {
     "data": {
      "text/html": [
       "Syncing run <strong><a href='https://wandb.ai/rajpal906/pc_hyperparameter_optimization/runs/olr94dyu' target=\"_blank\">ruby-sweep-8</a></strong> to <a href='https://wandb.ai/rajpal906/pc_hyperparameter_optimization' target=\"_blank\">Weights & Biases</a> (<a href='https://wandb.me/run' target=\"_blank\">docs</a>)<br/>Sweep page: <a href='https://wandb.ai/rajpal906/pc_hyperparameter_optimization/sweeps/spvvkf25' target=\"_blank\">https://wandb.ai/rajpal906/pc_hyperparameter_optimization/sweeps/spvvkf25</a>"
      ],
      "text/plain": [
       "<IPython.core.display.HTML object>"
      ]
     },
     "metadata": {},
     "output_type": "display_data"
    },
    {
     "data": {
      "text/html": [
       " View project at <a href='https://wandb.ai/rajpal906/pc_hyperparameter_optimization' target=\"_blank\">https://wandb.ai/rajpal906/pc_hyperparameter_optimization</a>"
      ],
      "text/plain": [
       "<IPython.core.display.HTML object>"
      ]
     },
     "metadata": {},
     "output_type": "display_data"
    },
    {
     "data": {
      "text/html": [
       " View sweep at <a href='https://wandb.ai/rajpal906/pc_hyperparameter_optimization/sweeps/spvvkf25' target=\"_blank\">https://wandb.ai/rajpal906/pc_hyperparameter_optimization/sweeps/spvvkf25</a>"
      ],
      "text/plain": [
       "<IPython.core.display.HTML object>"
      ]
     },
     "metadata": {},
     "output_type": "display_data"
    },
    {
     "data": {
      "text/html": [
       " View run at <a href='https://wandb.ai/rajpal906/pc_hyperparameter_optimization/runs/olr94dyu' target=\"_blank\">https://wandb.ai/rajpal906/pc_hyperparameter_optimization/runs/olr94dyu</a>"
      ],
      "text/plain": [
       "<IPython.core.display.HTML object>"
      ]
     },
     "metadata": {},
     "output_type": "display_data"
    },
    {
     "name": "stdout",
     "output_type": "stream",
     "text": [
      "Average test LL: 1026.145\n",
      "Bits per dimension: 1.8882841843596108\n",
      "Epoch: 0, train nll=992.9417114257812, val nll=1026.1453450520833\n",
      "saved!\n",
      "Average test LL: 1031.632\n",
      "Bits per dimension: 1.8983802460188217\n",
      "FINAL LOSS: nll=1031.631821484375\n"
     ]
    },
    {
     "data": {
      "application/vnd.jupyter.widget-view+json": {
       "model_id": "4d5732aebac74da7b6ee00e60163ccda",
       "version_major": 2,
       "version_minor": 0
      },
      "text/plain": [
       "VBox(children=(Label(value='0.001 MB of 0.001 MB uploaded\\r'), FloatProgress(value=1.0, max=1.0)))"
      ]
     },
     "metadata": {},
     "output_type": "display_data"
    },
    {
     "data": {
      "text/html": [
       "<style>\n",
       "    table.wandb td:nth-child(1) { padding: 0 10px; text-align: left ; width: auto;} td:nth-child(2) {text-align: left ; width: 100%}\n",
       "    .wandb-row { display: flex; flex-direction: row; flex-wrap: wrap; justify-content: flex-start; width: 100% }\n",
       "    .wandb-col { display: flex; flex-direction: column; flex-basis: 100%; flex: 1; padding: 10px; }\n",
       "    </style>\n",
       "<div class=\"wandb-row\"><div class=\"wandb-col\"><h3>Run history:</h3><br/><table class=\"wandb\"><tr><td>test_bpd</td><td>▁</td></tr></table><br/></div><div class=\"wandb-col\"><h3>Run summary:</h3><br/><table class=\"wandb\"><tr><td>test_bpd</td><td>1.89838</td></tr></table><br/></div></div>"
      ],
      "text/plain": [
       "<IPython.core.display.HTML object>"
      ]
     },
     "metadata": {},
     "output_type": "display_data"
    },
    {
     "data": {
      "text/html": [
       " View run <strong style=\"color:#cdcd00\">ruby-sweep-8</strong> at: <a href='https://wandb.ai/rajpal906/pc_hyperparameter_optimization/runs/olr94dyu' target=\"_blank\">https://wandb.ai/rajpal906/pc_hyperparameter_optimization/runs/olr94dyu</a><br/> View project at: <a href='https://wandb.ai/rajpal906/pc_hyperparameter_optimization' target=\"_blank\">https://wandb.ai/rajpal906/pc_hyperparameter_optimization</a><br/>Synced 5 W&B file(s), 0 media file(s), 0 artifact file(s) and 0 other file(s)"
      ],
      "text/plain": [
       "<IPython.core.display.HTML object>"
      ]
     },
     "metadata": {},
     "output_type": "display_data"
    },
    {
     "data": {
      "text/html": [
       "Find logs at: <code>./wandb/run-20240630_230411-olr94dyu/logs</code>"
      ],
      "text/plain": [
       "<IPython.core.display.HTML object>"
      ]
     },
     "metadata": {},
     "output_type": "display_data"
    },
    {
     "name": "stderr",
     "output_type": "stream",
     "text": [
      "\u001b[34m\u001b[1mwandb\u001b[0m: Agent Starting Run: n2d6rq8k with config:\n",
      "\u001b[34m\u001b[1mwandb\u001b[0m: \tbatch_size: 64\n",
      "\u001b[34m\u001b[1mwandb\u001b[0m: \tinput_dim: 784\n",
      "\u001b[34m\u001b[1mwandb\u001b[0m: \tlam: 1\n",
      "\u001b[34m\u001b[1mwandb\u001b[0m: \tlr: 0.001\n",
      "\u001b[34m\u001b[1mwandb\u001b[0m: \tmax_patience: 30\n",
      "\u001b[34m\u001b[1mwandb\u001b[0m: \tnum_epochs: 1\n",
      "\u001b[34m\u001b[1mwandb\u001b[0m: \tnum_input_units: 8\n",
      "\u001b[34m\u001b[1mwandb\u001b[0m: \tnum_sum_units: 8\n"
     ]
    },
    {
     "data": {
      "text/html": [
       "wandb version 0.17.3 is available!  To upgrade, please run:\n",
       " $ pip install wandb --upgrade"
      ],
      "text/plain": [
       "<IPython.core.display.HTML object>"
      ]
     },
     "metadata": {},
     "output_type": "display_data"
    },
    {
     "data": {
      "text/html": [
       "Tracking run with wandb version 0.17.0"
      ],
      "text/plain": [
       "<IPython.core.display.HTML object>"
      ]
     },
     "metadata": {},
     "output_type": "display_data"
    },
    {
     "data": {
      "text/html": [
       "Run data is saved locally in <code>/Users/rajit906/Downloads/Dissertation/Symmetry-invariant-Tractable-Generative-Models/src/wandb/run-20240630_231042-n2d6rq8k</code>"
      ],
      "text/plain": [
       "<IPython.core.display.HTML object>"
      ]
     },
     "metadata": {},
     "output_type": "display_data"
    },
    {
     "data": {
      "text/html": [
       "Syncing run <strong><a href='https://wandb.ai/rajpal906/pc_hyperparameter_optimization/runs/n2d6rq8k' target=\"_blank\">smart-sweep-9</a></strong> to <a href='https://wandb.ai/rajpal906/pc_hyperparameter_optimization' target=\"_blank\">Weights & Biases</a> (<a href='https://wandb.me/run' target=\"_blank\">docs</a>)<br/>Sweep page: <a href='https://wandb.ai/rajpal906/pc_hyperparameter_optimization/sweeps/spvvkf25' target=\"_blank\">https://wandb.ai/rajpal906/pc_hyperparameter_optimization/sweeps/spvvkf25</a>"
      ],
      "text/plain": [
       "<IPython.core.display.HTML object>"
      ]
     },
     "metadata": {},
     "output_type": "display_data"
    },
    {
     "data": {
      "text/html": [
       " View project at <a href='https://wandb.ai/rajpal906/pc_hyperparameter_optimization' target=\"_blank\">https://wandb.ai/rajpal906/pc_hyperparameter_optimization</a>"
      ],
      "text/plain": [
       "<IPython.core.display.HTML object>"
      ]
     },
     "metadata": {},
     "output_type": "display_data"
    },
    {
     "data": {
      "text/html": [
       " View sweep at <a href='https://wandb.ai/rajpal906/pc_hyperparameter_optimization/sweeps/spvvkf25' target=\"_blank\">https://wandb.ai/rajpal906/pc_hyperparameter_optimization/sweeps/spvvkf25</a>"
      ],
      "text/plain": [
       "<IPython.core.display.HTML object>"
      ]
     },
     "metadata": {},
     "output_type": "display_data"
    },
    {
     "data": {
      "text/html": [
       " View run at <a href='https://wandb.ai/rajpal906/pc_hyperparameter_optimization/runs/n2d6rq8k' target=\"_blank\">https://wandb.ai/rajpal906/pc_hyperparameter_optimization/runs/n2d6rq8k</a>"
      ],
      "text/plain": [
       "<IPython.core.display.HTML object>"
      ]
     },
     "metadata": {},
     "output_type": "display_data"
    },
    {
     "name": "stdout",
     "output_type": "stream",
     "text": [
      "Average test LL: 3210.495\n",
      "Bits per dimension: 5.90786377106342\n",
      "Epoch: 0, train nll=3220.42626953125, val nll=3210.4949869791667\n",
      "saved!\n",
      "Average test LL: 3210.117\n",
      "Bits per dimension: 5.907168294735436\n",
      "FINAL LOSS: nll=3210.11704609375\n"
     ]
    },
    {
     "data": {
      "application/vnd.jupyter.widget-view+json": {
       "model_id": "41c139d30a874fdd849305c7096f572f",
       "version_major": 2,
       "version_minor": 0
      },
      "text/plain": [
       "VBox(children=(Label(value='0.001 MB of 0.001 MB uploaded\\r'), FloatProgress(value=1.0, max=1.0)))"
      ]
     },
     "metadata": {},
     "output_type": "display_data"
    },
    {
     "data": {
      "text/html": [
       "<style>\n",
       "    table.wandb td:nth-child(1) { padding: 0 10px; text-align: left ; width: auto;} td:nth-child(2) {text-align: left ; width: 100%}\n",
       "    .wandb-row { display: flex; flex-direction: row; flex-wrap: wrap; justify-content: flex-start; width: 100% }\n",
       "    .wandb-col { display: flex; flex-direction: column; flex-basis: 100%; flex: 1; padding: 10px; }\n",
       "    </style>\n",
       "<div class=\"wandb-row\"><div class=\"wandb-col\"><h3>Run history:</h3><br/><table class=\"wandb\"><tr><td>test_bpd</td><td>▁</td></tr></table><br/></div><div class=\"wandb-col\"><h3>Run summary:</h3><br/><table class=\"wandb\"><tr><td>test_bpd</td><td>5.90717</td></tr></table><br/></div></div>"
      ],
      "text/plain": [
       "<IPython.core.display.HTML object>"
      ]
     },
     "metadata": {},
     "output_type": "display_data"
    },
    {
     "data": {
      "text/html": [
       " View run <strong style=\"color:#cdcd00\">smart-sweep-9</strong> at: <a href='https://wandb.ai/rajpal906/pc_hyperparameter_optimization/runs/n2d6rq8k' target=\"_blank\">https://wandb.ai/rajpal906/pc_hyperparameter_optimization/runs/n2d6rq8k</a><br/> View project at: <a href='https://wandb.ai/rajpal906/pc_hyperparameter_optimization' target=\"_blank\">https://wandb.ai/rajpal906/pc_hyperparameter_optimization</a><br/>Synced 5 W&B file(s), 0 media file(s), 0 artifact file(s) and 0 other file(s)"
      ],
      "text/plain": [
       "<IPython.core.display.HTML object>"
      ]
     },
     "metadata": {},
     "output_type": "display_data"
    },
    {
     "data": {
      "text/html": [
       "Find logs at: <code>./wandb/run-20240630_231042-n2d6rq8k/logs</code>"
      ],
      "text/plain": [
       "<IPython.core.display.HTML object>"
      ]
     },
     "metadata": {},
     "output_type": "display_data"
    },
    {
     "name": "stderr",
     "output_type": "stream",
     "text": [
      "\u001b[34m\u001b[1mwandb\u001b[0m: Agent Starting Run: ofvqtmgw with config:\n",
      "\u001b[34m\u001b[1mwandb\u001b[0m: \tbatch_size: 128\n",
      "\u001b[34m\u001b[1mwandb\u001b[0m: \tinput_dim: 784\n",
      "\u001b[34m\u001b[1mwandb\u001b[0m: \tlam: 0.1\n",
      "\u001b[34m\u001b[1mwandb\u001b[0m: \tlr: 0.1\n",
      "\u001b[34m\u001b[1mwandb\u001b[0m: \tmax_patience: 30\n",
      "\u001b[34m\u001b[1mwandb\u001b[0m: \tnum_epochs: 1\n",
      "\u001b[34m\u001b[1mwandb\u001b[0m: \tnum_input_units: 8\n",
      "\u001b[34m\u001b[1mwandb\u001b[0m: \tnum_sum_units: 8\n"
     ]
    },
    {
     "data": {
      "text/html": [
       "wandb version 0.17.3 is available!  To upgrade, please run:\n",
       " $ pip install wandb --upgrade"
      ],
      "text/plain": [
       "<IPython.core.display.HTML object>"
      ]
     },
     "metadata": {},
     "output_type": "display_data"
    },
    {
     "data": {
      "text/html": [
       "Tracking run with wandb version 0.17.0"
      ],
      "text/plain": [
       "<IPython.core.display.HTML object>"
      ]
     },
     "metadata": {},
     "output_type": "display_data"
    },
    {
     "data": {
      "text/html": [
       "Run data is saved locally in <code>/Users/rajit906/Downloads/Dissertation/Symmetry-invariant-Tractable-Generative-Models/src/wandb/run-20240630_231718-ofvqtmgw</code>"
      ],
      "text/plain": [
       "<IPython.core.display.HTML object>"
      ]
     },
     "metadata": {},
     "output_type": "display_data"
    },
    {
     "data": {
      "text/html": [
       "Syncing run <strong><a href='https://wandb.ai/rajpal906/pc_hyperparameter_optimization/runs/ofvqtmgw' target=\"_blank\">neat-sweep-10</a></strong> to <a href='https://wandb.ai/rajpal906/pc_hyperparameter_optimization' target=\"_blank\">Weights & Biases</a> (<a href='https://wandb.me/run' target=\"_blank\">docs</a>)<br/>Sweep page: <a href='https://wandb.ai/rajpal906/pc_hyperparameter_optimization/sweeps/spvvkf25' target=\"_blank\">https://wandb.ai/rajpal906/pc_hyperparameter_optimization/sweeps/spvvkf25</a>"
      ],
      "text/plain": [
       "<IPython.core.display.HTML object>"
      ]
     },
     "metadata": {},
     "output_type": "display_data"
    },
    {
     "data": {
      "text/html": [
       " View project at <a href='https://wandb.ai/rajpal906/pc_hyperparameter_optimization' target=\"_blank\">https://wandb.ai/rajpal906/pc_hyperparameter_optimization</a>"
      ],
      "text/plain": [
       "<IPython.core.display.HTML object>"
      ]
     },
     "metadata": {},
     "output_type": "display_data"
    },
    {
     "data": {
      "text/html": [
       " View sweep at <a href='https://wandb.ai/rajpal906/pc_hyperparameter_optimization/sweeps/spvvkf25' target=\"_blank\">https://wandb.ai/rajpal906/pc_hyperparameter_optimization/sweeps/spvvkf25</a>"
      ],
      "text/plain": [
       "<IPython.core.display.HTML object>"
      ]
     },
     "metadata": {},
     "output_type": "display_data"
    },
    {
     "data": {
      "text/html": [
       " View run at <a href='https://wandb.ai/rajpal906/pc_hyperparameter_optimization/runs/ofvqtmgw' target=\"_blank\">https://wandb.ai/rajpal906/pc_hyperparameter_optimization/runs/ofvqtmgw</a>"
      ],
      "text/plain": [
       "<IPython.core.display.HTML object>"
      ]
     },
     "metadata": {},
     "output_type": "display_data"
    },
    {
     "name": "stdout",
     "output_type": "stream",
     "text": [
      "Average test LL: 919.904\n",
      "Bits per dimension: 1.6927814432168602\n",
      "Epoch: 0, train nll=933.9168090820312, val nll=919.90380078125\n",
      "saved!\n",
      "Average test LL: 915.395\n",
      "Bits per dimension: 1.684484783325975\n",
      "FINAL LOSS: nll=915.3951685546875\n"
     ]
    },
    {
     "data": {
      "application/vnd.jupyter.widget-view+json": {
       "model_id": "f3d0d4eef5dd4ffb86828907b7b5299a",
       "version_major": 2,
       "version_minor": 0
      },
      "text/plain": [
       "VBox(children=(Label(value='0.001 MB of 0.001 MB uploaded\\r'), FloatProgress(value=1.0, max=1.0)))"
      ]
     },
     "metadata": {},
     "output_type": "display_data"
    },
    {
     "data": {
      "text/html": [
       "<style>\n",
       "    table.wandb td:nth-child(1) { padding: 0 10px; text-align: left ; width: auto;} td:nth-child(2) {text-align: left ; width: 100%}\n",
       "    .wandb-row { display: flex; flex-direction: row; flex-wrap: wrap; justify-content: flex-start; width: 100% }\n",
       "    .wandb-col { display: flex; flex-direction: column; flex-basis: 100%; flex: 1; padding: 10px; }\n",
       "    </style>\n",
       "<div class=\"wandb-row\"><div class=\"wandb-col\"><h3>Run history:</h3><br/><table class=\"wandb\"><tr><td>test_bpd</td><td>▁</td></tr></table><br/></div><div class=\"wandb-col\"><h3>Run summary:</h3><br/><table class=\"wandb\"><tr><td>test_bpd</td><td>1.68448</td></tr></table><br/></div></div>"
      ],
      "text/plain": [
       "<IPython.core.display.HTML object>"
      ]
     },
     "metadata": {},
     "output_type": "display_data"
    },
    {
     "data": {
      "text/html": [
       " View run <strong style=\"color:#cdcd00\">neat-sweep-10</strong> at: <a href='https://wandb.ai/rajpal906/pc_hyperparameter_optimization/runs/ofvqtmgw' target=\"_blank\">https://wandb.ai/rajpal906/pc_hyperparameter_optimization/runs/ofvqtmgw</a><br/> View project at: <a href='https://wandb.ai/rajpal906/pc_hyperparameter_optimization' target=\"_blank\">https://wandb.ai/rajpal906/pc_hyperparameter_optimization</a><br/>Synced 5 W&B file(s), 0 media file(s), 0 artifact file(s) and 0 other file(s)"
      ],
      "text/plain": [
       "<IPython.core.display.HTML object>"
      ]
     },
     "metadata": {},
     "output_type": "display_data"
    },
    {
     "data": {
      "text/html": [
       "Find logs at: <code>./wandb/run-20240630_231718-ofvqtmgw/logs</code>"
      ],
      "text/plain": [
       "<IPython.core.display.HTML object>"
      ]
     },
     "metadata": {},
     "output_type": "display_data"
    },
    {
     "name": "stderr",
     "output_type": "stream",
     "text": [
      "\u001b[34m\u001b[1mwandb\u001b[0m: Agent Starting Run: d4zdl0en with config:\n",
      "\u001b[34m\u001b[1mwandb\u001b[0m: \tbatch_size: 128\n",
      "\u001b[34m\u001b[1mwandb\u001b[0m: \tinput_dim: 784\n",
      "\u001b[34m\u001b[1mwandb\u001b[0m: \tlam: 0.1\n",
      "\u001b[34m\u001b[1mwandb\u001b[0m: \tlr: 0.01\n",
      "\u001b[34m\u001b[1mwandb\u001b[0m: \tmax_patience: 30\n",
      "\u001b[34m\u001b[1mwandb\u001b[0m: \tnum_epochs: 1\n",
      "\u001b[34m\u001b[1mwandb\u001b[0m: \tnum_input_units: 8\n",
      "\u001b[34m\u001b[1mwandb\u001b[0m: \tnum_sum_units: 8\n"
     ]
    },
    {
     "data": {
      "text/html": [
       "wandb version 0.17.3 is available!  To upgrade, please run:\n",
       " $ pip install wandb --upgrade"
      ],
      "text/plain": [
       "<IPython.core.display.HTML object>"
      ]
     },
     "metadata": {},
     "output_type": "display_data"
    },
    {
     "data": {
      "text/html": [
       "Tracking run with wandb version 0.17.0"
      ],
      "text/plain": [
       "<IPython.core.display.HTML object>"
      ]
     },
     "metadata": {},
     "output_type": "display_data"
    },
    {
     "data": {
      "text/html": [
       "Run data is saved locally in <code>/Users/rajit906/Downloads/Dissertation/Symmetry-invariant-Tractable-Generative-Models/src/wandb/run-20240630_232227-d4zdl0en</code>"
      ],
      "text/plain": [
       "<IPython.core.display.HTML object>"
      ]
     },
     "metadata": {},
     "output_type": "display_data"
    },
    {
     "data": {
      "text/html": [
       "Syncing run <strong><a href='https://wandb.ai/rajpal906/pc_hyperparameter_optimization/runs/d4zdl0en' target=\"_blank\">wise-sweep-11</a></strong> to <a href='https://wandb.ai/rajpal906/pc_hyperparameter_optimization' target=\"_blank\">Weights & Biases</a> (<a href='https://wandb.me/run' target=\"_blank\">docs</a>)<br/>Sweep page: <a href='https://wandb.ai/rajpal906/pc_hyperparameter_optimization/sweeps/spvvkf25' target=\"_blank\">https://wandb.ai/rajpal906/pc_hyperparameter_optimization/sweeps/spvvkf25</a>"
      ],
      "text/plain": [
       "<IPython.core.display.HTML object>"
      ]
     },
     "metadata": {},
     "output_type": "display_data"
    },
    {
     "data": {
      "text/html": [
       " View project at <a href='https://wandb.ai/rajpal906/pc_hyperparameter_optimization' target=\"_blank\">https://wandb.ai/rajpal906/pc_hyperparameter_optimization</a>"
      ],
      "text/plain": [
       "<IPython.core.display.HTML object>"
      ]
     },
     "metadata": {},
     "output_type": "display_data"
    },
    {
     "data": {
      "text/html": [
       " View sweep at <a href='https://wandb.ai/rajpal906/pc_hyperparameter_optimization/sweeps/spvvkf25' target=\"_blank\">https://wandb.ai/rajpal906/pc_hyperparameter_optimization/sweeps/spvvkf25</a>"
      ],
      "text/plain": [
       "<IPython.core.display.HTML object>"
      ]
     },
     "metadata": {},
     "output_type": "display_data"
    },
    {
     "data": {
      "text/html": [
       " View run at <a href='https://wandb.ai/rajpal906/pc_hyperparameter_optimization/runs/d4zdl0en' target=\"_blank\">https://wandb.ai/rajpal906/pc_hyperparameter_optimization/runs/d4zdl0en</a>"
      ],
      "text/plain": [
       "<IPython.core.display.HTML object>"
      ]
     },
     "metadata": {},
     "output_type": "display_data"
    },
    {
     "name": "stdout",
     "output_type": "stream",
     "text": [
      "Average test LL: 1179.482\n",
      "Bits per dimension: 2.1704504532160374\n",
      "Epoch: 0, train nll=1183.0758056640625, val nll=1179.4822239583334\n",
      "saved!\n",
      "Average test LL: 1179.570\n",
      "Bits per dimension: 2.170611064072646\n",
      "FINAL LOSS: nll=1179.569504296875\n"
     ]
    },
    {
     "data": {
      "application/vnd.jupyter.widget-view+json": {
       "model_id": "9578b8cee1834a22a7e24320d8f2cab6",
       "version_major": 2,
       "version_minor": 0
      },
      "text/plain": [
       "VBox(children=(Label(value='0.001 MB of 0.001 MB uploaded\\r'), FloatProgress(value=1.0, max=1.0)))"
      ]
     },
     "metadata": {},
     "output_type": "display_data"
    },
    {
     "data": {
      "text/html": [
       "<style>\n",
       "    table.wandb td:nth-child(1) { padding: 0 10px; text-align: left ; width: auto;} td:nth-child(2) {text-align: left ; width: 100%}\n",
       "    .wandb-row { display: flex; flex-direction: row; flex-wrap: wrap; justify-content: flex-start; width: 100% }\n",
       "    .wandb-col { display: flex; flex-direction: column; flex-basis: 100%; flex: 1; padding: 10px; }\n",
       "    </style>\n",
       "<div class=\"wandb-row\"><div class=\"wandb-col\"><h3>Run history:</h3><br/><table class=\"wandb\"><tr><td>test_bpd</td><td>▁</td></tr></table><br/></div><div class=\"wandb-col\"><h3>Run summary:</h3><br/><table class=\"wandb\"><tr><td>test_bpd</td><td>2.17061</td></tr></table><br/></div></div>"
      ],
      "text/plain": [
       "<IPython.core.display.HTML object>"
      ]
     },
     "metadata": {},
     "output_type": "display_data"
    },
    {
     "data": {
      "text/html": [
       " View run <strong style=\"color:#cdcd00\">wise-sweep-11</strong> at: <a href='https://wandb.ai/rajpal906/pc_hyperparameter_optimization/runs/d4zdl0en' target=\"_blank\">https://wandb.ai/rajpal906/pc_hyperparameter_optimization/runs/d4zdl0en</a><br/> View project at: <a href='https://wandb.ai/rajpal906/pc_hyperparameter_optimization' target=\"_blank\">https://wandb.ai/rajpal906/pc_hyperparameter_optimization</a><br/>Synced 5 W&B file(s), 0 media file(s), 0 artifact file(s) and 0 other file(s)"
      ],
      "text/plain": [
       "<IPython.core.display.HTML object>"
      ]
     },
     "metadata": {},
     "output_type": "display_data"
    },
    {
     "data": {
      "text/html": [
       "Find logs at: <code>./wandb/run-20240630_232227-d4zdl0en/logs</code>"
      ],
      "text/plain": [
       "<IPython.core.display.HTML object>"
      ]
     },
     "metadata": {},
     "output_type": "display_data"
    },
    {
     "name": "stderr",
     "output_type": "stream",
     "text": [
      "\u001b[34m\u001b[1mwandb\u001b[0m: Agent Starting Run: ilsl3w4s with config:\n",
      "\u001b[34m\u001b[1mwandb\u001b[0m: \tbatch_size: 128\n",
      "\u001b[34m\u001b[1mwandb\u001b[0m: \tinput_dim: 784\n",
      "\u001b[34m\u001b[1mwandb\u001b[0m: \tlam: 0.1\n",
      "\u001b[34m\u001b[1mwandb\u001b[0m: \tlr: 0.001\n",
      "\u001b[34m\u001b[1mwandb\u001b[0m: \tmax_patience: 30\n",
      "\u001b[34m\u001b[1mwandb\u001b[0m: \tnum_epochs: 1\n",
      "\u001b[34m\u001b[1mwandb\u001b[0m: \tnum_input_units: 8\n",
      "\u001b[34m\u001b[1mwandb\u001b[0m: \tnum_sum_units: 8\n"
     ]
    },
    {
     "data": {
      "text/html": [
       "wandb version 0.17.3 is available!  To upgrade, please run:\n",
       " $ pip install wandb --upgrade"
      ],
      "text/plain": [
       "<IPython.core.display.HTML object>"
      ]
     },
     "metadata": {},
     "output_type": "display_data"
    },
    {
     "data": {
      "text/html": [
       "Tracking run with wandb version 0.17.0"
      ],
      "text/plain": [
       "<IPython.core.display.HTML object>"
      ]
     },
     "metadata": {},
     "output_type": "display_data"
    },
    {
     "data": {
      "text/html": [
       "Run data is saved locally in <code>/Users/rajit906/Downloads/Dissertation/Symmetry-invariant-Tractable-Generative-Models/src/wandb/run-20240630_232742-ilsl3w4s</code>"
      ],
      "text/plain": [
       "<IPython.core.display.HTML object>"
      ]
     },
     "metadata": {},
     "output_type": "display_data"
    },
    {
     "data": {
      "text/html": [
       "Syncing run <strong><a href='https://wandb.ai/rajpal906/pc_hyperparameter_optimization/runs/ilsl3w4s' target=\"_blank\">lilac-sweep-12</a></strong> to <a href='https://wandb.ai/rajpal906/pc_hyperparameter_optimization' target=\"_blank\">Weights & Biases</a> (<a href='https://wandb.me/run' target=\"_blank\">docs</a>)<br/>Sweep page: <a href='https://wandb.ai/rajpal906/pc_hyperparameter_optimization/sweeps/spvvkf25' target=\"_blank\">https://wandb.ai/rajpal906/pc_hyperparameter_optimization/sweeps/spvvkf25</a>"
      ],
      "text/plain": [
       "<IPython.core.display.HTML object>"
      ]
     },
     "metadata": {},
     "output_type": "display_data"
    },
    {
     "data": {
      "text/html": [
       " View project at <a href='https://wandb.ai/rajpal906/pc_hyperparameter_optimization' target=\"_blank\">https://wandb.ai/rajpal906/pc_hyperparameter_optimization</a>"
      ],
      "text/plain": [
       "<IPython.core.display.HTML object>"
      ]
     },
     "metadata": {},
     "output_type": "display_data"
    },
    {
     "data": {
      "text/html": [
       " View sweep at <a href='https://wandb.ai/rajpal906/pc_hyperparameter_optimization/sweeps/spvvkf25' target=\"_blank\">https://wandb.ai/rajpal906/pc_hyperparameter_optimization/sweeps/spvvkf25</a>"
      ],
      "text/plain": [
       "<IPython.core.display.HTML object>"
      ]
     },
     "metadata": {},
     "output_type": "display_data"
    },
    {
     "data": {
      "text/html": [
       " View run at <a href='https://wandb.ai/rajpal906/pc_hyperparameter_optimization/runs/ilsl3w4s' target=\"_blank\">https://wandb.ai/rajpal906/pc_hyperparameter_optimization/runs/ilsl3w4s</a>"
      ],
      "text/plain": [
       "<IPython.core.display.HTML object>"
      ]
     },
     "metadata": {},
     "output_type": "display_data"
    },
    {
     "name": "stdout",
     "output_type": "stream",
     "text": [
      "Average test LL: 3789.037\n",
      "Bits per dimension: 6.972480285713149\n",
      "Epoch: 0, train nll=3790.16650390625, val nll=3789.0367604166668\n",
      "saved!\n",
      "Average test LL: 3789.092\n",
      "Bits per dimension: 6.972581550775217\n",
      "FINAL LOSS: nll=3789.091790625\n"
     ]
    },
    {
     "data": {
      "application/vnd.jupyter.widget-view+json": {
       "model_id": "5fa5d70060ec422b8ad3a6fd2976a4ed",
       "version_major": 2,
       "version_minor": 0
      },
      "text/plain": [
       "VBox(children=(Label(value='0.001 MB of 0.001 MB uploaded\\r'), FloatProgress(value=1.0, max=1.0)))"
      ]
     },
     "metadata": {},
     "output_type": "display_data"
    },
    {
     "data": {
      "text/html": [
       "<style>\n",
       "    table.wandb td:nth-child(1) { padding: 0 10px; text-align: left ; width: auto;} td:nth-child(2) {text-align: left ; width: 100%}\n",
       "    .wandb-row { display: flex; flex-direction: row; flex-wrap: wrap; justify-content: flex-start; width: 100% }\n",
       "    .wandb-col { display: flex; flex-direction: column; flex-basis: 100%; flex: 1; padding: 10px; }\n",
       "    </style>\n",
       "<div class=\"wandb-row\"><div class=\"wandb-col\"><h3>Run history:</h3><br/><table class=\"wandb\"><tr><td>test_bpd</td><td>▁</td></tr></table><br/></div><div class=\"wandb-col\"><h3>Run summary:</h3><br/><table class=\"wandb\"><tr><td>test_bpd</td><td>6.97258</td></tr></table><br/></div></div>"
      ],
      "text/plain": [
       "<IPython.core.display.HTML object>"
      ]
     },
     "metadata": {},
     "output_type": "display_data"
    },
    {
     "data": {
      "text/html": [
       " View run <strong style=\"color:#cdcd00\">lilac-sweep-12</strong> at: <a href='https://wandb.ai/rajpal906/pc_hyperparameter_optimization/runs/ilsl3w4s' target=\"_blank\">https://wandb.ai/rajpal906/pc_hyperparameter_optimization/runs/ilsl3w4s</a><br/> View project at: <a href='https://wandb.ai/rajpal906/pc_hyperparameter_optimization' target=\"_blank\">https://wandb.ai/rajpal906/pc_hyperparameter_optimization</a><br/>Synced 5 W&B file(s), 0 media file(s), 0 artifact file(s) and 0 other file(s)"
      ],
      "text/plain": [
       "<IPython.core.display.HTML object>"
      ]
     },
     "metadata": {},
     "output_type": "display_data"
    },
    {
     "data": {
      "text/html": [
       "Find logs at: <code>./wandb/run-20240630_232742-ilsl3w4s/logs</code>"
      ],
      "text/plain": [
       "<IPython.core.display.HTML object>"
      ]
     },
     "metadata": {},
     "output_type": "display_data"
    },
    {
     "name": "stderr",
     "output_type": "stream",
     "text": [
      "\u001b[34m\u001b[1mwandb\u001b[0m: Agent Starting Run: 2ryhc3uh with config:\n",
      "\u001b[34m\u001b[1mwandb\u001b[0m: \tbatch_size: 128\n",
      "\u001b[34m\u001b[1mwandb\u001b[0m: \tinput_dim: 784\n",
      "\u001b[34m\u001b[1mwandb\u001b[0m: \tlam: 0.5\n",
      "\u001b[34m\u001b[1mwandb\u001b[0m: \tlr: 0.1\n",
      "\u001b[34m\u001b[1mwandb\u001b[0m: \tmax_patience: 30\n",
      "\u001b[34m\u001b[1mwandb\u001b[0m: \tnum_epochs: 1\n",
      "\u001b[34m\u001b[1mwandb\u001b[0m: \tnum_input_units: 8\n",
      "\u001b[34m\u001b[1mwandb\u001b[0m: \tnum_sum_units: 8\n"
     ]
    },
    {
     "data": {
      "text/html": [
       "wandb version 0.17.3 is available!  To upgrade, please run:\n",
       " $ pip install wandb --upgrade"
      ],
      "text/plain": [
       "<IPython.core.display.HTML object>"
      ]
     },
     "metadata": {},
     "output_type": "display_data"
    },
    {
     "data": {
      "text/html": [
       "Tracking run with wandb version 0.17.0"
      ],
      "text/plain": [
       "<IPython.core.display.HTML object>"
      ]
     },
     "metadata": {},
     "output_type": "display_data"
    },
    {
     "data": {
      "text/html": [
       "Run data is saved locally in <code>/Users/rajit906/Downloads/Dissertation/Symmetry-invariant-Tractable-Generative-Models/src/wandb/run-20240630_233256-2ryhc3uh</code>"
      ],
      "text/plain": [
       "<IPython.core.display.HTML object>"
      ]
     },
     "metadata": {},
     "output_type": "display_data"
    },
    {
     "data": {
      "text/html": [
       "Syncing run <strong><a href='https://wandb.ai/rajpal906/pc_hyperparameter_optimization/runs/2ryhc3uh' target=\"_blank\">golden-sweep-13</a></strong> to <a href='https://wandb.ai/rajpal906/pc_hyperparameter_optimization' target=\"_blank\">Weights & Biases</a> (<a href='https://wandb.me/run' target=\"_blank\">docs</a>)<br/>Sweep page: <a href='https://wandb.ai/rajpal906/pc_hyperparameter_optimization/sweeps/spvvkf25' target=\"_blank\">https://wandb.ai/rajpal906/pc_hyperparameter_optimization/sweeps/spvvkf25</a>"
      ],
      "text/plain": [
       "<IPython.core.display.HTML object>"
      ]
     },
     "metadata": {},
     "output_type": "display_data"
    },
    {
     "data": {
      "text/html": [
       " View project at <a href='https://wandb.ai/rajpal906/pc_hyperparameter_optimization' target=\"_blank\">https://wandb.ai/rajpal906/pc_hyperparameter_optimization</a>"
      ],
      "text/plain": [
       "<IPython.core.display.HTML object>"
      ]
     },
     "metadata": {},
     "output_type": "display_data"
    },
    {
     "data": {
      "text/html": [
       " View sweep at <a href='https://wandb.ai/rajpal906/pc_hyperparameter_optimization/sweeps/spvvkf25' target=\"_blank\">https://wandb.ai/rajpal906/pc_hyperparameter_optimization/sweeps/spvvkf25</a>"
      ],
      "text/plain": [
       "<IPython.core.display.HTML object>"
      ]
     },
     "metadata": {},
     "output_type": "display_data"
    },
    {
     "data": {
      "text/html": [
       " View run at <a href='https://wandb.ai/rajpal906/pc_hyperparameter_optimization/runs/2ryhc3uh' target=\"_blank\">https://wandb.ai/rajpal906/pc_hyperparameter_optimization/runs/2ryhc3uh</a>"
      ],
      "text/plain": [
       "<IPython.core.display.HTML object>"
      ]
     },
     "metadata": {},
     "output_type": "display_data"
    },
    {
     "name": "stdout",
     "output_type": "stream",
     "text": [
      "Average test LL: 919.329\n",
      "Bits per dimension: 1.6917232555212602\n",
      "Epoch: 0, train nll=937.5757446289062, val nll=919.3287526041667\n",
      "saved!\n",
      "Average test LL: 916.501\n",
      "Bits per dimension: 1.6865205245497663\n",
      "FINAL LOSS: nll=916.50144609375\n"
     ]
    },
    {
     "data": {
      "application/vnd.jupyter.widget-view+json": {
       "model_id": "43418c7fca23458191e8738dc2bbb823",
       "version_major": 2,
       "version_minor": 0
      },
      "text/plain": [
       "VBox(children=(Label(value='0.001 MB of 0.001 MB uploaded\\r'), FloatProgress(value=1.0, max=1.0)))"
      ]
     },
     "metadata": {},
     "output_type": "display_data"
    },
    {
     "data": {
      "text/html": [
       "<style>\n",
       "    table.wandb td:nth-child(1) { padding: 0 10px; text-align: left ; width: auto;} td:nth-child(2) {text-align: left ; width: 100%}\n",
       "    .wandb-row { display: flex; flex-direction: row; flex-wrap: wrap; justify-content: flex-start; width: 100% }\n",
       "    .wandb-col { display: flex; flex-direction: column; flex-basis: 100%; flex: 1; padding: 10px; }\n",
       "    </style>\n",
       "<div class=\"wandb-row\"><div class=\"wandb-col\"><h3>Run history:</h3><br/><table class=\"wandb\"><tr><td>test_bpd</td><td>▁</td></tr></table><br/></div><div class=\"wandb-col\"><h3>Run summary:</h3><br/><table class=\"wandb\"><tr><td>test_bpd</td><td>1.68652</td></tr></table><br/></div></div>"
      ],
      "text/plain": [
       "<IPython.core.display.HTML object>"
      ]
     },
     "metadata": {},
     "output_type": "display_data"
    },
    {
     "data": {
      "text/html": [
       " View run <strong style=\"color:#cdcd00\">golden-sweep-13</strong> at: <a href='https://wandb.ai/rajpal906/pc_hyperparameter_optimization/runs/2ryhc3uh' target=\"_blank\">https://wandb.ai/rajpal906/pc_hyperparameter_optimization/runs/2ryhc3uh</a><br/> View project at: <a href='https://wandb.ai/rajpal906/pc_hyperparameter_optimization' target=\"_blank\">https://wandb.ai/rajpal906/pc_hyperparameter_optimization</a><br/>Synced 5 W&B file(s), 0 media file(s), 0 artifact file(s) and 0 other file(s)"
      ],
      "text/plain": [
       "<IPython.core.display.HTML object>"
      ]
     },
     "metadata": {},
     "output_type": "display_data"
    },
    {
     "data": {
      "text/html": [
       "Find logs at: <code>./wandb/run-20240630_233256-2ryhc3uh/logs</code>"
      ],
      "text/plain": [
       "<IPython.core.display.HTML object>"
      ]
     },
     "metadata": {},
     "output_type": "display_data"
    },
    {
     "name": "stderr",
     "output_type": "stream",
     "text": [
      "\u001b[34m\u001b[1mwandb\u001b[0m: Sweep Agent: Waiting for job.\n",
      "\u001b[34m\u001b[1mwandb\u001b[0m: Network error (ConnectionError), entering retry loop.\n",
      "\u001b[34m\u001b[1mwandb\u001b[0m: Job received.\n",
      "\u001b[34m\u001b[1mwandb\u001b[0m: Agent Starting Run: oxk48vx2 with config:\n",
      "\u001b[34m\u001b[1mwandb\u001b[0m: \tbatch_size: 128\n",
      "\u001b[34m\u001b[1mwandb\u001b[0m: \tinput_dim: 784\n",
      "\u001b[34m\u001b[1mwandb\u001b[0m: \tlam: 0.5\n",
      "\u001b[34m\u001b[1mwandb\u001b[0m: \tlr: 0.01\n",
      "\u001b[34m\u001b[1mwandb\u001b[0m: \tmax_patience: 30\n",
      "\u001b[34m\u001b[1mwandb\u001b[0m: \tnum_epochs: 1\n",
      "\u001b[34m\u001b[1mwandb\u001b[0m: \tnum_input_units: 8\n",
      "\u001b[34m\u001b[1mwandb\u001b[0m: \tnum_sum_units: 8\n"
     ]
    },
    {
     "data": {
      "text/html": [
       "wandb version 0.17.3 is available!  To upgrade, please run:\n",
       " $ pip install wandb --upgrade"
      ],
      "text/plain": [
       "<IPython.core.display.HTML object>"
      ]
     },
     "metadata": {},
     "output_type": "display_data"
    },
    {
     "data": {
      "text/html": [
       "Tracking run with wandb version 0.17.0"
      ],
      "text/plain": [
       "<IPython.core.display.HTML object>"
      ]
     },
     "metadata": {},
     "output_type": "display_data"
    },
    {
     "data": {
      "text/html": [
       "Run data is saved locally in <code>/Users/rajit906/Downloads/Dissertation/Symmetry-invariant-Tractable-Generative-Models/src/wandb/run-20240701_103002-oxk48vx2</code>"
      ],
      "text/plain": [
       "<IPython.core.display.HTML object>"
      ]
     },
     "metadata": {},
     "output_type": "display_data"
    },
    {
     "data": {
      "text/html": [
       "Syncing run <strong><a href='https://wandb.ai/rajpal906/pc_hyperparameter_optimization/runs/oxk48vx2' target=\"_blank\">polar-sweep-14</a></strong> to <a href='https://wandb.ai/rajpal906/pc_hyperparameter_optimization' target=\"_blank\">Weights & Biases</a> (<a href='https://wandb.me/run' target=\"_blank\">docs</a>)<br/>Sweep page: <a href='https://wandb.ai/rajpal906/pc_hyperparameter_optimization/sweeps/spvvkf25' target=\"_blank\">https://wandb.ai/rajpal906/pc_hyperparameter_optimization/sweeps/spvvkf25</a>"
      ],
      "text/plain": [
       "<IPython.core.display.HTML object>"
      ]
     },
     "metadata": {},
     "output_type": "display_data"
    },
    {
     "data": {
      "text/html": [
       " View project at <a href='https://wandb.ai/rajpal906/pc_hyperparameter_optimization' target=\"_blank\">https://wandb.ai/rajpal906/pc_hyperparameter_optimization</a>"
      ],
      "text/plain": [
       "<IPython.core.display.HTML object>"
      ]
     },
     "metadata": {},
     "output_type": "display_data"
    },
    {
     "data": {
      "text/html": [
       " View sweep at <a href='https://wandb.ai/rajpal906/pc_hyperparameter_optimization/sweeps/spvvkf25' target=\"_blank\">https://wandb.ai/rajpal906/pc_hyperparameter_optimization/sweeps/spvvkf25</a>"
      ],
      "text/plain": [
       "<IPython.core.display.HTML object>"
      ]
     },
     "metadata": {},
     "output_type": "display_data"
    },
    {
     "data": {
      "text/html": [
       " View run at <a href='https://wandb.ai/rajpal906/pc_hyperparameter_optimization/runs/oxk48vx2' target=\"_blank\">https://wandb.ai/rajpal906/pc_hyperparameter_optimization/runs/oxk48vx2</a>"
      ],
      "text/plain": [
       "<IPython.core.display.HTML object>"
      ]
     },
     "metadata": {},
     "output_type": "display_data"
    },
    {
     "name": "stdout",
     "output_type": "stream",
     "text": [
      "Average test LL: 1180.663\n",
      "Bits per dimension: 2.172623071267564\n",
      "Epoch: 0, train nll=1193.571533203125, val nll=1180.6628841145832\n",
      "saved!\n",
      "Average test LL: 1182.473\n",
      "Bits per dimension: 2.175953614590032\n",
      "FINAL LOSS: nll=1182.472792578125\n"
     ]
    },
    {
     "data": {
      "application/vnd.jupyter.widget-view+json": {
       "model_id": "3ed17e2f4ee2487dbb3eccd3e24ba18a",
       "version_major": 2,
       "version_minor": 0
      },
      "text/plain": [
       "VBox(children=(Label(value='0.001 MB of 0.001 MB uploaded\\r'), FloatProgress(value=1.0, max=1.0)))"
      ]
     },
     "metadata": {},
     "output_type": "display_data"
    },
    {
     "data": {
      "text/html": [
       "<style>\n",
       "    table.wandb td:nth-child(1) { padding: 0 10px; text-align: left ; width: auto;} td:nth-child(2) {text-align: left ; width: 100%}\n",
       "    .wandb-row { display: flex; flex-direction: row; flex-wrap: wrap; justify-content: flex-start; width: 100% }\n",
       "    .wandb-col { display: flex; flex-direction: column; flex-basis: 100%; flex: 1; padding: 10px; }\n",
       "    </style>\n",
       "<div class=\"wandb-row\"><div class=\"wandb-col\"><h3>Run history:</h3><br/><table class=\"wandb\"><tr><td>test_bpd</td><td>▁</td></tr></table><br/></div><div class=\"wandb-col\"><h3>Run summary:</h3><br/><table class=\"wandb\"><tr><td>test_bpd</td><td>2.17595</td></tr></table><br/></div></div>"
      ],
      "text/plain": [
       "<IPython.core.display.HTML object>"
      ]
     },
     "metadata": {},
     "output_type": "display_data"
    },
    {
     "data": {
      "text/html": [
       " View run <strong style=\"color:#cdcd00\">polar-sweep-14</strong> at: <a href='https://wandb.ai/rajpal906/pc_hyperparameter_optimization/runs/oxk48vx2' target=\"_blank\">https://wandb.ai/rajpal906/pc_hyperparameter_optimization/runs/oxk48vx2</a><br/> View project at: <a href='https://wandb.ai/rajpal906/pc_hyperparameter_optimization' target=\"_blank\">https://wandb.ai/rajpal906/pc_hyperparameter_optimization</a><br/>Synced 5 W&B file(s), 0 media file(s), 0 artifact file(s) and 0 other file(s)"
      ],
      "text/plain": [
       "<IPython.core.display.HTML object>"
      ]
     },
     "metadata": {},
     "output_type": "display_data"
    },
    {
     "data": {
      "text/html": [
       "Find logs at: <code>./wandb/run-20240701_103002-oxk48vx2/logs</code>"
      ],
      "text/plain": [
       "<IPython.core.display.HTML object>"
      ]
     },
     "metadata": {},
     "output_type": "display_data"
    },
    {
     "name": "stderr",
     "output_type": "stream",
     "text": [
      "\u001b[34m\u001b[1mwandb\u001b[0m: Agent Starting Run: efti0fdm with config:\n",
      "\u001b[34m\u001b[1mwandb\u001b[0m: \tbatch_size: 128\n",
      "\u001b[34m\u001b[1mwandb\u001b[0m: \tinput_dim: 784\n",
      "\u001b[34m\u001b[1mwandb\u001b[0m: \tlam: 0.5\n",
      "\u001b[34m\u001b[1mwandb\u001b[0m: \tlr: 0.001\n",
      "\u001b[34m\u001b[1mwandb\u001b[0m: \tmax_patience: 30\n",
      "\u001b[34m\u001b[1mwandb\u001b[0m: \tnum_epochs: 1\n",
      "\u001b[34m\u001b[1mwandb\u001b[0m: \tnum_input_units: 8\n",
      "\u001b[34m\u001b[1mwandb\u001b[0m: \tnum_sum_units: 8\n"
     ]
    },
    {
     "data": {
      "application/vnd.jupyter.widget-view+json": {
       "model_id": "cc80ac2e16ea4cf2bc144ec193b35d4f",
       "version_major": 2,
       "version_minor": 0
      },
      "text/plain": [
       "VBox(children=(Label(value='Waiting for wandb.init()...\\r'), FloatProgress(value=0.011168429633330056, max=1.0…"
      ]
     },
     "metadata": {},
     "output_type": "display_data"
    },
    {
     "data": {
      "text/html": [
       "wandb version 0.17.3 is available!  To upgrade, please run:\n",
       " $ pip install wandb --upgrade"
      ],
      "text/plain": [
       "<IPython.core.display.HTML object>"
      ]
     },
     "metadata": {},
     "output_type": "display_data"
    },
    {
     "data": {
      "text/html": [
       "Tracking run with wandb version 0.17.0"
      ],
      "text/plain": [
       "<IPython.core.display.HTML object>"
      ]
     },
     "metadata": {},
     "output_type": "display_data"
    },
    {
     "data": {
      "text/html": [
       "Run data is saved locally in <code>/Users/rajit906/Downloads/Dissertation/Symmetry-invariant-Tractable-Generative-Models/src/wandb/run-20240701_150635-efti0fdm</code>"
      ],
      "text/plain": [
       "<IPython.core.display.HTML object>"
      ]
     },
     "metadata": {},
     "output_type": "display_data"
    },
    {
     "data": {
      "text/html": [
       "Syncing run <strong><a href='https://wandb.ai/rajpal906/pc_hyperparameter_optimization/runs/efti0fdm' target=\"_blank\">colorful-sweep-15</a></strong> to <a href='https://wandb.ai/rajpal906/pc_hyperparameter_optimization' target=\"_blank\">Weights & Biases</a> (<a href='https://wandb.me/run' target=\"_blank\">docs</a>)<br/>Sweep page: <a href='https://wandb.ai/rajpal906/pc_hyperparameter_optimization/sweeps/spvvkf25' target=\"_blank\">https://wandb.ai/rajpal906/pc_hyperparameter_optimization/sweeps/spvvkf25</a>"
      ],
      "text/plain": [
       "<IPython.core.display.HTML object>"
      ]
     },
     "metadata": {},
     "output_type": "display_data"
    },
    {
     "data": {
      "text/html": [
       " View project at <a href='https://wandb.ai/rajpal906/pc_hyperparameter_optimization' target=\"_blank\">https://wandb.ai/rajpal906/pc_hyperparameter_optimization</a>"
      ],
      "text/plain": [
       "<IPython.core.display.HTML object>"
      ]
     },
     "metadata": {},
     "output_type": "display_data"
    },
    {
     "data": {
      "text/html": [
       " View sweep at <a href='https://wandb.ai/rajpal906/pc_hyperparameter_optimization/sweeps/spvvkf25' target=\"_blank\">https://wandb.ai/rajpal906/pc_hyperparameter_optimization/sweeps/spvvkf25</a>"
      ],
      "text/plain": [
       "<IPython.core.display.HTML object>"
      ]
     },
     "metadata": {},
     "output_type": "display_data"
    },
    {
     "data": {
      "text/html": [
       " View run at <a href='https://wandb.ai/rajpal906/pc_hyperparameter_optimization/runs/efti0fdm' target=\"_blank\">https://wandb.ai/rajpal906/pc_hyperparameter_optimization/runs/efti0fdm</a>"
      ],
      "text/plain": [
       "<IPython.core.display.HTML object>"
      ]
     },
     "metadata": {},
     "output_type": "display_data"
    },
    {
     "name": "stdout",
     "output_type": "stream",
     "text": [
      "Average test LL: 3789.869\n",
      "Bits per dimension: 6.974011922412596\n",
      "Epoch: 0, train nll=3796.458740234375, val nll=3789.86909375\n",
      "saved!\n",
      "Average test LL: 3790.395\n",
      "Bits per dimension: 6.974980152041998\n",
      "FINAL LOSS: nll=3790.39525625\n"
     ]
    },
    {
     "data": {
      "application/vnd.jupyter.widget-view+json": {
       "model_id": "5b386c113ad440778f45952e62842601",
       "version_major": 2,
       "version_minor": 0
      },
      "text/plain": [
       "VBox(children=(Label(value='0.001 MB of 0.001 MB uploaded\\r'), FloatProgress(value=1.0, max=1.0)))"
      ]
     },
     "metadata": {},
     "output_type": "display_data"
    },
    {
     "data": {
      "text/html": [
       "<style>\n",
       "    table.wandb td:nth-child(1) { padding: 0 10px; text-align: left ; width: auto;} td:nth-child(2) {text-align: left ; width: 100%}\n",
       "    .wandb-row { display: flex; flex-direction: row; flex-wrap: wrap; justify-content: flex-start; width: 100% }\n",
       "    .wandb-col { display: flex; flex-direction: column; flex-basis: 100%; flex: 1; padding: 10px; }\n",
       "    </style>\n",
       "<div class=\"wandb-row\"><div class=\"wandb-col\"><h3>Run history:</h3><br/><table class=\"wandb\"><tr><td>test_bpd</td><td>▁</td></tr></table><br/></div><div class=\"wandb-col\"><h3>Run summary:</h3><br/><table class=\"wandb\"><tr><td>test_bpd</td><td>6.97498</td></tr></table><br/></div></div>"
      ],
      "text/plain": [
       "<IPython.core.display.HTML object>"
      ]
     },
     "metadata": {},
     "output_type": "display_data"
    },
    {
     "data": {
      "text/html": [
       " View run <strong style=\"color:#cdcd00\">colorful-sweep-15</strong> at: <a href='https://wandb.ai/rajpal906/pc_hyperparameter_optimization/runs/efti0fdm' target=\"_blank\">https://wandb.ai/rajpal906/pc_hyperparameter_optimization/runs/efti0fdm</a><br/> View project at: <a href='https://wandb.ai/rajpal906/pc_hyperparameter_optimization' target=\"_blank\">https://wandb.ai/rajpal906/pc_hyperparameter_optimization</a><br/>Synced 5 W&B file(s), 0 media file(s), 0 artifact file(s) and 0 other file(s)"
      ],
      "text/plain": [
       "<IPython.core.display.HTML object>"
      ]
     },
     "metadata": {},
     "output_type": "display_data"
    },
    {
     "data": {
      "text/html": [
       "Find logs at: <code>./wandb/run-20240701_150635-efti0fdm/logs</code>"
      ],
      "text/plain": [
       "<IPython.core.display.HTML object>"
      ]
     },
     "metadata": {},
     "output_type": "display_data"
    },
    {
     "name": "stderr",
     "output_type": "stream",
     "text": [
      "\u001b[34m\u001b[1mwandb\u001b[0m: Agent Starting Run: ujrjd5mz with config:\n",
      "\u001b[34m\u001b[1mwandb\u001b[0m: \tbatch_size: 128\n",
      "\u001b[34m\u001b[1mwandb\u001b[0m: \tinput_dim: 784\n",
      "\u001b[34m\u001b[1mwandb\u001b[0m: \tlam: 1\n",
      "\u001b[34m\u001b[1mwandb\u001b[0m: \tlr: 0.1\n",
      "\u001b[34m\u001b[1mwandb\u001b[0m: \tmax_patience: 30\n",
      "\u001b[34m\u001b[1mwandb\u001b[0m: \tnum_epochs: 1\n",
      "\u001b[34m\u001b[1mwandb\u001b[0m: \tnum_input_units: 8\n",
      "\u001b[34m\u001b[1mwandb\u001b[0m: \tnum_sum_units: 8\n"
     ]
    },
    {
     "data": {
      "text/html": [
       "wandb version 0.17.3 is available!  To upgrade, please run:\n",
       " $ pip install wandb --upgrade"
      ],
      "text/plain": [
       "<IPython.core.display.HTML object>"
      ]
     },
     "metadata": {},
     "output_type": "display_data"
    },
    {
     "data": {
      "text/html": [
       "Tracking run with wandb version 0.17.0"
      ],
      "text/plain": [
       "<IPython.core.display.HTML object>"
      ]
     },
     "metadata": {},
     "output_type": "display_data"
    },
    {
     "data": {
      "text/html": [
       "Run data is saved locally in <code>/Users/rajit906/Downloads/Dissertation/Symmetry-invariant-Tractable-Generative-Models/src/wandb/run-20240701_151133-ujrjd5mz</code>"
      ],
      "text/plain": [
       "<IPython.core.display.HTML object>"
      ]
     },
     "metadata": {},
     "output_type": "display_data"
    },
    {
     "data": {
      "text/html": [
       "Syncing run <strong><a href='https://wandb.ai/rajpal906/pc_hyperparameter_optimization/runs/ujrjd5mz' target=\"_blank\">copper-sweep-16</a></strong> to <a href='https://wandb.ai/rajpal906/pc_hyperparameter_optimization' target=\"_blank\">Weights & Biases</a> (<a href='https://wandb.me/run' target=\"_blank\">docs</a>)<br/>Sweep page: <a href='https://wandb.ai/rajpal906/pc_hyperparameter_optimization/sweeps/spvvkf25' target=\"_blank\">https://wandb.ai/rajpal906/pc_hyperparameter_optimization/sweeps/spvvkf25</a>"
      ],
      "text/plain": [
       "<IPython.core.display.HTML object>"
      ]
     },
     "metadata": {},
     "output_type": "display_data"
    },
    {
     "data": {
      "text/html": [
       " View project at <a href='https://wandb.ai/rajpal906/pc_hyperparameter_optimization' target=\"_blank\">https://wandb.ai/rajpal906/pc_hyperparameter_optimization</a>"
      ],
      "text/plain": [
       "<IPython.core.display.HTML object>"
      ]
     },
     "metadata": {},
     "output_type": "display_data"
    },
    {
     "data": {
      "text/html": [
       " View sweep at <a href='https://wandb.ai/rajpal906/pc_hyperparameter_optimization/sweeps/spvvkf25' target=\"_blank\">https://wandb.ai/rajpal906/pc_hyperparameter_optimization/sweeps/spvvkf25</a>"
      ],
      "text/plain": [
       "<IPython.core.display.HTML object>"
      ]
     },
     "metadata": {},
     "output_type": "display_data"
    },
    {
     "data": {
      "text/html": [
       " View run at <a href='https://wandb.ai/rajpal906/pc_hyperparameter_optimization/runs/ujrjd5mz' target=\"_blank\">https://wandb.ai/rajpal906/pc_hyperparameter_optimization/runs/ujrjd5mz</a>"
      ],
      "text/plain": [
       "<IPython.core.display.HTML object>"
      ]
     },
     "metadata": {},
     "output_type": "display_data"
    },
    {
     "name": "stdout",
     "output_type": "stream",
     "text": [
      "Average test LL: 926.360\n",
      "Bits per dimension: 1.7046616263859908\n",
      "Epoch: 0, train nll=931.0908203125, val nll=926.3598177083334\n",
      "saved!\n",
      "Average test LL: 922.403\n",
      "Bits per dimension: 1.6973811805326697\n",
      "FINAL LOSS: nll=922.4034240234375\n"
     ]
    },
    {
     "data": {
      "application/vnd.jupyter.widget-view+json": {
       "model_id": "38630a6ae504434484b6aaaf82014c27",
       "version_major": 2,
       "version_minor": 0
      },
      "text/plain": [
       "VBox(children=(Label(value='0.001 MB of 0.001 MB uploaded\\r'), FloatProgress(value=1.0, max=1.0)))"
      ]
     },
     "metadata": {},
     "output_type": "display_data"
    },
    {
     "data": {
      "text/html": [
       "<style>\n",
       "    table.wandb td:nth-child(1) { padding: 0 10px; text-align: left ; width: auto;} td:nth-child(2) {text-align: left ; width: 100%}\n",
       "    .wandb-row { display: flex; flex-direction: row; flex-wrap: wrap; justify-content: flex-start; width: 100% }\n",
       "    .wandb-col { display: flex; flex-direction: column; flex-basis: 100%; flex: 1; padding: 10px; }\n",
       "    </style>\n",
       "<div class=\"wandb-row\"><div class=\"wandb-col\"><h3>Run history:</h3><br/><table class=\"wandb\"><tr><td>test_bpd</td><td>▁</td></tr></table><br/></div><div class=\"wandb-col\"><h3>Run summary:</h3><br/><table class=\"wandb\"><tr><td>test_bpd</td><td>1.69738</td></tr></table><br/></div></div>"
      ],
      "text/plain": [
       "<IPython.core.display.HTML object>"
      ]
     },
     "metadata": {},
     "output_type": "display_data"
    },
    {
     "data": {
      "text/html": [
       " View run <strong style=\"color:#cdcd00\">copper-sweep-16</strong> at: <a href='https://wandb.ai/rajpal906/pc_hyperparameter_optimization/runs/ujrjd5mz' target=\"_blank\">https://wandb.ai/rajpal906/pc_hyperparameter_optimization/runs/ujrjd5mz</a><br/> View project at: <a href='https://wandb.ai/rajpal906/pc_hyperparameter_optimization' target=\"_blank\">https://wandb.ai/rajpal906/pc_hyperparameter_optimization</a><br/>Synced 5 W&B file(s), 0 media file(s), 0 artifact file(s) and 0 other file(s)"
      ],
      "text/plain": [
       "<IPython.core.display.HTML object>"
      ]
     },
     "metadata": {},
     "output_type": "display_data"
    },
    {
     "data": {
      "text/html": [
       "Find logs at: <code>./wandb/run-20240701_151133-ujrjd5mz/logs</code>"
      ],
      "text/plain": [
       "<IPython.core.display.HTML object>"
      ]
     },
     "metadata": {},
     "output_type": "display_data"
    },
    {
     "name": "stderr",
     "output_type": "stream",
     "text": [
      "\u001b[34m\u001b[1mwandb\u001b[0m: Agent Starting Run: se5ymi4s with config:\n",
      "\u001b[34m\u001b[1mwandb\u001b[0m: \tbatch_size: 128\n",
      "\u001b[34m\u001b[1mwandb\u001b[0m: \tinput_dim: 784\n",
      "\u001b[34m\u001b[1mwandb\u001b[0m: \tlam: 1\n",
      "\u001b[34m\u001b[1mwandb\u001b[0m: \tlr: 0.01\n",
      "\u001b[34m\u001b[1mwandb\u001b[0m: \tmax_patience: 30\n",
      "\u001b[34m\u001b[1mwandb\u001b[0m: \tnum_epochs: 1\n",
      "\u001b[34m\u001b[1mwandb\u001b[0m: \tnum_input_units: 8\n",
      "\u001b[34m\u001b[1mwandb\u001b[0m: \tnum_sum_units: 8\n"
     ]
    },
    {
     "data": {
      "text/html": [
       "wandb version 0.17.3 is available!  To upgrade, please run:\n",
       " $ pip install wandb --upgrade"
      ],
      "text/plain": [
       "<IPython.core.display.HTML object>"
      ]
     },
     "metadata": {},
     "output_type": "display_data"
    },
    {
     "data": {
      "text/html": [
       "Tracking run with wandb version 0.17.0"
      ],
      "text/plain": [
       "<IPython.core.display.HTML object>"
      ]
     },
     "metadata": {},
     "output_type": "display_data"
    },
    {
     "data": {
      "text/html": [
       "Run data is saved locally in <code>/Users/rajit906/Downloads/Dissertation/Symmetry-invariant-Tractable-Generative-Models/src/wandb/run-20240701_151636-se5ymi4s</code>"
      ],
      "text/plain": [
       "<IPython.core.display.HTML object>"
      ]
     },
     "metadata": {},
     "output_type": "display_data"
    },
    {
     "data": {
      "text/html": [
       "Syncing run <strong><a href='https://wandb.ai/rajpal906/pc_hyperparameter_optimization/runs/se5ymi4s' target=\"_blank\">royal-sweep-17</a></strong> to <a href='https://wandb.ai/rajpal906/pc_hyperparameter_optimization' target=\"_blank\">Weights & Biases</a> (<a href='https://wandb.me/run' target=\"_blank\">docs</a>)<br/>Sweep page: <a href='https://wandb.ai/rajpal906/pc_hyperparameter_optimization/sweeps/spvvkf25' target=\"_blank\">https://wandb.ai/rajpal906/pc_hyperparameter_optimization/sweeps/spvvkf25</a>"
      ],
      "text/plain": [
       "<IPython.core.display.HTML object>"
      ]
     },
     "metadata": {},
     "output_type": "display_data"
    },
    {
     "data": {
      "text/html": [
       " View project at <a href='https://wandb.ai/rajpal906/pc_hyperparameter_optimization' target=\"_blank\">https://wandb.ai/rajpal906/pc_hyperparameter_optimization</a>"
      ],
      "text/plain": [
       "<IPython.core.display.HTML object>"
      ]
     },
     "metadata": {},
     "output_type": "display_data"
    },
    {
     "data": {
      "text/html": [
       " View sweep at <a href='https://wandb.ai/rajpal906/pc_hyperparameter_optimization/sweeps/spvvkf25' target=\"_blank\">https://wandb.ai/rajpal906/pc_hyperparameter_optimization/sweeps/spvvkf25</a>"
      ],
      "text/plain": [
       "<IPython.core.display.HTML object>"
      ]
     },
     "metadata": {},
     "output_type": "display_data"
    },
    {
     "data": {
      "text/html": [
       " View run at <a href='https://wandb.ai/rajpal906/pc_hyperparameter_optimization/runs/se5ymi4s' target=\"_blank\">https://wandb.ai/rajpal906/pc_hyperparameter_optimization/runs/se5ymi4s</a>"
      ],
      "text/plain": [
       "<IPython.core.display.HTML object>"
      ]
     },
     "metadata": {},
     "output_type": "display_data"
    },
    {
     "name": "stdout",
     "output_type": "stream",
     "text": [
      "Average test LL: 1182.025\n",
      "Bits per dimension: 2.17512892342754\n",
      "Epoch: 0, train nll=1166.64306640625, val nll=1182.0246328125\n",
      "saved!\n",
      "Average test LL: 1181.733\n",
      "Bits per dimension: 2.174593169498002\n",
      "FINAL LOSS: nll=1181.733489453125\n"
     ]
    },
    {
     "data": {
      "application/vnd.jupyter.widget-view+json": {
       "model_id": "b2e2dfe426234bc78bc763dae9d333c1",
       "version_major": 2,
       "version_minor": 0
      },
      "text/plain": [
       "VBox(children=(Label(value='0.001 MB of 0.001 MB uploaded\\r'), FloatProgress(value=1.0, max=1.0)))"
      ]
     },
     "metadata": {},
     "output_type": "display_data"
    },
    {
     "data": {
      "text/html": [
       "<style>\n",
       "    table.wandb td:nth-child(1) { padding: 0 10px; text-align: left ; width: auto;} td:nth-child(2) {text-align: left ; width: 100%}\n",
       "    .wandb-row { display: flex; flex-direction: row; flex-wrap: wrap; justify-content: flex-start; width: 100% }\n",
       "    .wandb-col { display: flex; flex-direction: column; flex-basis: 100%; flex: 1; padding: 10px; }\n",
       "    </style>\n",
       "<div class=\"wandb-row\"><div class=\"wandb-col\"><h3>Run history:</h3><br/><table class=\"wandb\"><tr><td>test_bpd</td><td>▁</td></tr></table><br/></div><div class=\"wandb-col\"><h3>Run summary:</h3><br/><table class=\"wandb\"><tr><td>test_bpd</td><td>2.17459</td></tr></table><br/></div></div>"
      ],
      "text/plain": [
       "<IPython.core.display.HTML object>"
      ]
     },
     "metadata": {},
     "output_type": "display_data"
    },
    {
     "data": {
      "text/html": [
       " View run <strong style=\"color:#cdcd00\">royal-sweep-17</strong> at: <a href='https://wandb.ai/rajpal906/pc_hyperparameter_optimization/runs/se5ymi4s' target=\"_blank\">https://wandb.ai/rajpal906/pc_hyperparameter_optimization/runs/se5ymi4s</a><br/> View project at: <a href='https://wandb.ai/rajpal906/pc_hyperparameter_optimization' target=\"_blank\">https://wandb.ai/rajpal906/pc_hyperparameter_optimization</a><br/>Synced 5 W&B file(s), 0 media file(s), 0 artifact file(s) and 0 other file(s)"
      ],
      "text/plain": [
       "<IPython.core.display.HTML object>"
      ]
     },
     "metadata": {},
     "output_type": "display_data"
    },
    {
     "data": {
      "text/html": [
       "Find logs at: <code>./wandb/run-20240701_151636-se5ymi4s/logs</code>"
      ],
      "text/plain": [
       "<IPython.core.display.HTML object>"
      ]
     },
     "metadata": {},
     "output_type": "display_data"
    },
    {
     "name": "stderr",
     "output_type": "stream",
     "text": [
      "\u001b[34m\u001b[1mwandb\u001b[0m: Agent Starting Run: r8j83iab with config:\n",
      "\u001b[34m\u001b[1mwandb\u001b[0m: \tbatch_size: 128\n",
      "\u001b[34m\u001b[1mwandb\u001b[0m: \tinput_dim: 784\n",
      "\u001b[34m\u001b[1mwandb\u001b[0m: \tlam: 1\n",
      "\u001b[34m\u001b[1mwandb\u001b[0m: \tlr: 0.001\n",
      "\u001b[34m\u001b[1mwandb\u001b[0m: \tmax_patience: 30\n",
      "\u001b[34m\u001b[1mwandb\u001b[0m: \tnum_epochs: 1\n",
      "\u001b[34m\u001b[1mwandb\u001b[0m: \tnum_input_units: 8\n",
      "\u001b[34m\u001b[1mwandb\u001b[0m: \tnum_sum_units: 8\n"
     ]
    },
    {
     "data": {
      "text/html": [
       "wandb version 0.17.3 is available!  To upgrade, please run:\n",
       " $ pip install wandb --upgrade"
      ],
      "text/plain": [
       "<IPython.core.display.HTML object>"
      ]
     },
     "metadata": {},
     "output_type": "display_data"
    },
    {
     "data": {
      "text/html": [
       "Tracking run with wandb version 0.17.0"
      ],
      "text/plain": [
       "<IPython.core.display.HTML object>"
      ]
     },
     "metadata": {},
     "output_type": "display_data"
    },
    {
     "data": {
      "text/html": [
       "Run data is saved locally in <code>/Users/rajit906/Downloads/Dissertation/Symmetry-invariant-Tractable-Generative-Models/src/wandb/run-20240701_152131-r8j83iab</code>"
      ],
      "text/plain": [
       "<IPython.core.display.HTML object>"
      ]
     },
     "metadata": {},
     "output_type": "display_data"
    },
    {
     "data": {
      "text/html": [
       "Syncing run <strong><a href='https://wandb.ai/rajpal906/pc_hyperparameter_optimization/runs/r8j83iab' target=\"_blank\">expert-sweep-18</a></strong> to <a href='https://wandb.ai/rajpal906/pc_hyperparameter_optimization' target=\"_blank\">Weights & Biases</a> (<a href='https://wandb.me/run' target=\"_blank\">docs</a>)<br/>Sweep page: <a href='https://wandb.ai/rajpal906/pc_hyperparameter_optimization/sweeps/spvvkf25' target=\"_blank\">https://wandb.ai/rajpal906/pc_hyperparameter_optimization/sweeps/spvvkf25</a>"
      ],
      "text/plain": [
       "<IPython.core.display.HTML object>"
      ]
     },
     "metadata": {},
     "output_type": "display_data"
    },
    {
     "data": {
      "text/html": [
       " View project at <a href='https://wandb.ai/rajpal906/pc_hyperparameter_optimization' target=\"_blank\">https://wandb.ai/rajpal906/pc_hyperparameter_optimization</a>"
      ],
      "text/plain": [
       "<IPython.core.display.HTML object>"
      ]
     },
     "metadata": {},
     "output_type": "display_data"
    },
    {
     "data": {
      "text/html": [
       " View sweep at <a href='https://wandb.ai/rajpal906/pc_hyperparameter_optimization/sweeps/spvvkf25' target=\"_blank\">https://wandb.ai/rajpal906/pc_hyperparameter_optimization/sweeps/spvvkf25</a>"
      ],
      "text/plain": [
       "<IPython.core.display.HTML object>"
      ]
     },
     "metadata": {},
     "output_type": "display_data"
    },
    {
     "data": {
      "text/html": [
       " View run at <a href='https://wandb.ai/rajpal906/pc_hyperparameter_optimization/runs/r8j83iab' target=\"_blank\">https://wandb.ai/rajpal906/pc_hyperparameter_optimization/runs/r8j83iab</a>"
      ],
      "text/plain": [
       "<IPython.core.display.HTML object>"
      ]
     },
     "metadata": {},
     "output_type": "display_data"
    },
    {
     "name": "stdout",
     "output_type": "stream",
     "text": [
      "Average test LL: 3791.691\n",
      "Bits per dimension: 6.9773648791767835\n",
      "Epoch: 0, train nll=3798.048095703125, val nll=3791.691182291667\n",
      "saved!\n",
      "Average test LL: 3791.842\n",
      "Bits per dimension: 6.977641748425968\n",
      "FINAL LOSS: nll=3791.841640625\n"
     ]
    },
    {
     "data": {
      "application/vnd.jupyter.widget-view+json": {
       "model_id": "06fe2b08c59d41208bde5f72daf8a3e2",
       "version_major": 2,
       "version_minor": 0
      },
      "text/plain": [
       "VBox(children=(Label(value='0.001 MB of 0.001 MB uploaded\\r'), FloatProgress(value=1.0, max=1.0)))"
      ]
     },
     "metadata": {},
     "output_type": "display_data"
    },
    {
     "data": {
      "text/html": [
       "<style>\n",
       "    table.wandb td:nth-child(1) { padding: 0 10px; text-align: left ; width: auto;} td:nth-child(2) {text-align: left ; width: 100%}\n",
       "    .wandb-row { display: flex; flex-direction: row; flex-wrap: wrap; justify-content: flex-start; width: 100% }\n",
       "    .wandb-col { display: flex; flex-direction: column; flex-basis: 100%; flex: 1; padding: 10px; }\n",
       "    </style>\n",
       "<div class=\"wandb-row\"><div class=\"wandb-col\"><h3>Run history:</h3><br/><table class=\"wandb\"><tr><td>test_bpd</td><td>▁</td></tr></table><br/></div><div class=\"wandb-col\"><h3>Run summary:</h3><br/><table class=\"wandb\"><tr><td>test_bpd</td><td>6.97764</td></tr></table><br/></div></div>"
      ],
      "text/plain": [
       "<IPython.core.display.HTML object>"
      ]
     },
     "metadata": {},
     "output_type": "display_data"
    },
    {
     "data": {
      "text/html": [
       " View run <strong style=\"color:#cdcd00\">expert-sweep-18</strong> at: <a href='https://wandb.ai/rajpal906/pc_hyperparameter_optimization/runs/r8j83iab' target=\"_blank\">https://wandb.ai/rajpal906/pc_hyperparameter_optimization/runs/r8j83iab</a><br/> View project at: <a href='https://wandb.ai/rajpal906/pc_hyperparameter_optimization' target=\"_blank\">https://wandb.ai/rajpal906/pc_hyperparameter_optimization</a><br/>Synced 5 W&B file(s), 0 media file(s), 0 artifact file(s) and 0 other file(s)"
      ],
      "text/plain": [
       "<IPython.core.display.HTML object>"
      ]
     },
     "metadata": {},
     "output_type": "display_data"
    },
    {
     "data": {
      "text/html": [
       "Find logs at: <code>./wandb/run-20240701_152131-r8j83iab/logs</code>"
      ],
      "text/plain": [
       "<IPython.core.display.HTML object>"
      ]
     },
     "metadata": {},
     "output_type": "display_data"
    },
    {
     "name": "stderr",
     "output_type": "stream",
     "text": [
      "\u001b[34m\u001b[1mwandb\u001b[0m: Sweep Agent: Waiting for job.\n",
      "\u001b[34m\u001b[1mwandb\u001b[0m: Job received.\n",
      "\u001b[34m\u001b[1mwandb\u001b[0m: Agent Starting Run: rv0rvoh8 with config:\n",
      "\u001b[34m\u001b[1mwandb\u001b[0m: \tbatch_size: 256\n",
      "\u001b[34m\u001b[1mwandb\u001b[0m: \tinput_dim: 784\n",
      "\u001b[34m\u001b[1mwandb\u001b[0m: \tlam: 0.1\n",
      "\u001b[34m\u001b[1mwandb\u001b[0m: \tlr: 0.1\n",
      "\u001b[34m\u001b[1mwandb\u001b[0m: \tmax_patience: 30\n",
      "\u001b[34m\u001b[1mwandb\u001b[0m: \tnum_epochs: 1\n",
      "\u001b[34m\u001b[1mwandb\u001b[0m: \tnum_input_units: 8\n",
      "\u001b[34m\u001b[1mwandb\u001b[0m: \tnum_sum_units: 8\n"
     ]
    },
    {
     "data": {
      "text/html": [
       "wandb version 0.17.3 is available!  To upgrade, please run:\n",
       " $ pip install wandb --upgrade"
      ],
      "text/plain": [
       "<IPython.core.display.HTML object>"
      ]
     },
     "metadata": {},
     "output_type": "display_data"
    },
    {
     "data": {
      "text/html": [
       "Tracking run with wandb version 0.17.0"
      ],
      "text/plain": [
       "<IPython.core.display.HTML object>"
      ]
     },
     "metadata": {},
     "output_type": "display_data"
    },
    {
     "data": {
      "text/html": [
       "Run data is saved locally in <code>/Users/rajit906/Downloads/Dissertation/Symmetry-invariant-Tractable-Generative-Models/src/wandb/run-20240701_152654-rv0rvoh8</code>"
      ],
      "text/plain": [
       "<IPython.core.display.HTML object>"
      ]
     },
     "metadata": {},
     "output_type": "display_data"
    },
    {
     "data": {
      "text/html": [
       "Syncing run <strong><a href='https://wandb.ai/rajpal906/pc_hyperparameter_optimization/runs/rv0rvoh8' target=\"_blank\">dashing-sweep-19</a></strong> to <a href='https://wandb.ai/rajpal906/pc_hyperparameter_optimization' target=\"_blank\">Weights & Biases</a> (<a href='https://wandb.me/run' target=\"_blank\">docs</a>)<br/>Sweep page: <a href='https://wandb.ai/rajpal906/pc_hyperparameter_optimization/sweeps/spvvkf25' target=\"_blank\">https://wandb.ai/rajpal906/pc_hyperparameter_optimization/sweeps/spvvkf25</a>"
      ],
      "text/plain": [
       "<IPython.core.display.HTML object>"
      ]
     },
     "metadata": {},
     "output_type": "display_data"
    },
    {
     "data": {
      "text/html": [
       " View project at <a href='https://wandb.ai/rajpal906/pc_hyperparameter_optimization' target=\"_blank\">https://wandb.ai/rajpal906/pc_hyperparameter_optimization</a>"
      ],
      "text/plain": [
       "<IPython.core.display.HTML object>"
      ]
     },
     "metadata": {},
     "output_type": "display_data"
    },
    {
     "data": {
      "text/html": [
       " View sweep at <a href='https://wandb.ai/rajpal906/pc_hyperparameter_optimization/sweeps/spvvkf25' target=\"_blank\">https://wandb.ai/rajpal906/pc_hyperparameter_optimization/sweeps/spvvkf25</a>"
      ],
      "text/plain": [
       "<IPython.core.display.HTML object>"
      ]
     },
     "metadata": {},
     "output_type": "display_data"
    },
    {
     "data": {
      "text/html": [
       " View run at <a href='https://wandb.ai/rajpal906/pc_hyperparameter_optimization/runs/rv0rvoh8' target=\"_blank\">https://wandb.ai/rajpal906/pc_hyperparameter_optimization/runs/rv0rvoh8</a>"
      ],
      "text/plain": [
       "<IPython.core.display.HTML object>"
      ]
     },
     "metadata": {},
     "output_type": "display_data"
    },
    {
     "name": "stdout",
     "output_type": "stream",
     "text": [
      "Average test LL: 945.279\n",
      "Bits per dimension: 1.739476295567498\n",
      "Epoch: 0, train nll=975.5731811523438, val nll=945.2790625\n",
      "saved!\n",
      "Average test LL: 947.771\n",
      "Bits per dimension: 1.7440611055641877\n",
      "FINAL LOSS: nll=947.770573828125\n"
     ]
    },
    {
     "data": {
      "application/vnd.jupyter.widget-view+json": {
       "model_id": "8cd2fcc24cc348f6b80bf9fa2dbc7685",
       "version_major": 2,
       "version_minor": 0
      },
      "text/plain": [
       "VBox(children=(Label(value='0.001 MB of 0.001 MB uploaded\\r'), FloatProgress(value=1.0, max=1.0)))"
      ]
     },
     "metadata": {},
     "output_type": "display_data"
    },
    {
     "data": {
      "text/html": [
       "<style>\n",
       "    table.wandb td:nth-child(1) { padding: 0 10px; text-align: left ; width: auto;} td:nth-child(2) {text-align: left ; width: 100%}\n",
       "    .wandb-row { display: flex; flex-direction: row; flex-wrap: wrap; justify-content: flex-start; width: 100% }\n",
       "    .wandb-col { display: flex; flex-direction: column; flex-basis: 100%; flex: 1; padding: 10px; }\n",
       "    </style>\n",
       "<div class=\"wandb-row\"><div class=\"wandb-col\"><h3>Run history:</h3><br/><table class=\"wandb\"><tr><td>test_bpd</td><td>▁</td></tr></table><br/></div><div class=\"wandb-col\"><h3>Run summary:</h3><br/><table class=\"wandb\"><tr><td>test_bpd</td><td>1.74406</td></tr></table><br/></div></div>"
      ],
      "text/plain": [
       "<IPython.core.display.HTML object>"
      ]
     },
     "metadata": {},
     "output_type": "display_data"
    },
    {
     "data": {
      "text/html": [
       " View run <strong style=\"color:#cdcd00\">dashing-sweep-19</strong> at: <a href='https://wandb.ai/rajpal906/pc_hyperparameter_optimization/runs/rv0rvoh8' target=\"_blank\">https://wandb.ai/rajpal906/pc_hyperparameter_optimization/runs/rv0rvoh8</a><br/> View project at: <a href='https://wandb.ai/rajpal906/pc_hyperparameter_optimization' target=\"_blank\">https://wandb.ai/rajpal906/pc_hyperparameter_optimization</a><br/>Synced 5 W&B file(s), 0 media file(s), 0 artifact file(s) and 0 other file(s)"
      ],
      "text/plain": [
       "<IPython.core.display.HTML object>"
      ]
     },
     "metadata": {},
     "output_type": "display_data"
    },
    {
     "data": {
      "text/html": [
       "Find logs at: <code>./wandb/run-20240701_152654-rv0rvoh8/logs</code>"
      ],
      "text/plain": [
       "<IPython.core.display.HTML object>"
      ]
     },
     "metadata": {},
     "output_type": "display_data"
    },
    {
     "name": "stderr",
     "output_type": "stream",
     "text": [
      "\u001b[34m\u001b[1mwandb\u001b[0m: Agent Starting Run: e0i1c51u with config:\n",
      "\u001b[34m\u001b[1mwandb\u001b[0m: \tbatch_size: 256\n",
      "\u001b[34m\u001b[1mwandb\u001b[0m: \tinput_dim: 784\n",
      "\u001b[34m\u001b[1mwandb\u001b[0m: \tlam: 0.1\n",
      "\u001b[34m\u001b[1mwandb\u001b[0m: \tlr: 0.01\n",
      "\u001b[34m\u001b[1mwandb\u001b[0m: \tmax_patience: 30\n",
      "\u001b[34m\u001b[1mwandb\u001b[0m: \tnum_epochs: 1\n",
      "\u001b[34m\u001b[1mwandb\u001b[0m: \tnum_input_units: 8\n",
      "\u001b[34m\u001b[1mwandb\u001b[0m: \tnum_sum_units: 8\n"
     ]
    },
    {
     "data": {
      "text/html": [
       "wandb version 0.17.3 is available!  To upgrade, please run:\n",
       " $ pip install wandb --upgrade"
      ],
      "text/plain": [
       "<IPython.core.display.HTML object>"
      ]
     },
     "metadata": {},
     "output_type": "display_data"
    },
    {
     "data": {
      "text/html": [
       "Tracking run with wandb version 0.17.0"
      ],
      "text/plain": [
       "<IPython.core.display.HTML object>"
      ]
     },
     "metadata": {},
     "output_type": "display_data"
    },
    {
     "data": {
      "text/html": [
       "Run data is saved locally in <code>/Users/rajit906/Downloads/Dissertation/Symmetry-invariant-Tractable-Generative-Models/src/wandb/run-20240701_153206-e0i1c51u</code>"
      ],
      "text/plain": [
       "<IPython.core.display.HTML object>"
      ]
     },
     "metadata": {},
     "output_type": "display_data"
    },
    {
     "data": {
      "text/html": [
       "Syncing run <strong><a href='https://wandb.ai/rajpal906/pc_hyperparameter_optimization/runs/e0i1c51u' target=\"_blank\">efficient-sweep-20</a></strong> to <a href='https://wandb.ai/rajpal906/pc_hyperparameter_optimization' target=\"_blank\">Weights & Biases</a> (<a href='https://wandb.me/run' target=\"_blank\">docs</a>)<br/>Sweep page: <a href='https://wandb.ai/rajpal906/pc_hyperparameter_optimization/sweeps/spvvkf25' target=\"_blank\">https://wandb.ai/rajpal906/pc_hyperparameter_optimization/sweeps/spvvkf25</a>"
      ],
      "text/plain": [
       "<IPython.core.display.HTML object>"
      ]
     },
     "metadata": {},
     "output_type": "display_data"
    },
    {
     "data": {
      "text/html": [
       " View project at <a href='https://wandb.ai/rajpal906/pc_hyperparameter_optimization' target=\"_blank\">https://wandb.ai/rajpal906/pc_hyperparameter_optimization</a>"
      ],
      "text/plain": [
       "<IPython.core.display.HTML object>"
      ]
     },
     "metadata": {},
     "output_type": "display_data"
    },
    {
     "data": {
      "text/html": [
       " View sweep at <a href='https://wandb.ai/rajpal906/pc_hyperparameter_optimization/sweeps/spvvkf25' target=\"_blank\">https://wandb.ai/rajpal906/pc_hyperparameter_optimization/sweeps/spvvkf25</a>"
      ],
      "text/plain": [
       "<IPython.core.display.HTML object>"
      ]
     },
     "metadata": {},
     "output_type": "display_data"
    },
    {
     "data": {
      "text/html": [
       " View run at <a href='https://wandb.ai/rajpal906/pc_hyperparameter_optimization/runs/e0i1c51u' target=\"_blank\">https://wandb.ai/rajpal906/pc_hyperparameter_optimization/runs/e0i1c51u</a>"
      ],
      "text/plain": [
       "<IPython.core.display.HTML object>"
      ]
     },
     "metadata": {},
     "output_type": "display_data"
    },
    {
     "name": "stdout",
     "output_type": "stream",
     "text": [
      "Average test LL: 1862.467\n",
      "Bits per dimension: 3.4272598477365395\n",
      "Epoch: 0, train nll=1880.457763671875, val nll=1862.4668723958334\n",
      "saved!\n",
      "Average test LL: 1864.549\n",
      "Bits per dimension: 3.4310913750777194\n",
      "FINAL LOSS: nll=1864.549029296875\n"
     ]
    },
    {
     "data": {
      "application/vnd.jupyter.widget-view+json": {
       "model_id": "ae8b421fb95c4df5b19f1d80f134f369",
       "version_major": 2,
       "version_minor": 0
      },
      "text/plain": [
       "VBox(children=(Label(value='0.001 MB of 0.001 MB uploaded\\r'), FloatProgress(value=1.0, max=1.0)))"
      ]
     },
     "metadata": {},
     "output_type": "display_data"
    },
    {
     "data": {
      "text/html": [
       "<style>\n",
       "    table.wandb td:nth-child(1) { padding: 0 10px; text-align: left ; width: auto;} td:nth-child(2) {text-align: left ; width: 100%}\n",
       "    .wandb-row { display: flex; flex-direction: row; flex-wrap: wrap; justify-content: flex-start; width: 100% }\n",
       "    .wandb-col { display: flex; flex-direction: column; flex-basis: 100%; flex: 1; padding: 10px; }\n",
       "    </style>\n",
       "<div class=\"wandb-row\"><div class=\"wandb-col\"><h3>Run history:</h3><br/><table class=\"wandb\"><tr><td>test_bpd</td><td>▁</td></tr></table><br/></div><div class=\"wandb-col\"><h3>Run summary:</h3><br/><table class=\"wandb\"><tr><td>test_bpd</td><td>3.43109</td></tr></table><br/></div></div>"
      ],
      "text/plain": [
       "<IPython.core.display.HTML object>"
      ]
     },
     "metadata": {},
     "output_type": "display_data"
    },
    {
     "data": {
      "text/html": [
       " View run <strong style=\"color:#cdcd00\">efficient-sweep-20</strong> at: <a href='https://wandb.ai/rajpal906/pc_hyperparameter_optimization/runs/e0i1c51u' target=\"_blank\">https://wandb.ai/rajpal906/pc_hyperparameter_optimization/runs/e0i1c51u</a><br/> View project at: <a href='https://wandb.ai/rajpal906/pc_hyperparameter_optimization' target=\"_blank\">https://wandb.ai/rajpal906/pc_hyperparameter_optimization</a><br/>Synced 5 W&B file(s), 0 media file(s), 0 artifact file(s) and 0 other file(s)"
      ],
      "text/plain": [
       "<IPython.core.display.HTML object>"
      ]
     },
     "metadata": {},
     "output_type": "display_data"
    },
    {
     "data": {
      "text/html": [
       "Find logs at: <code>./wandb/run-20240701_153206-e0i1c51u/logs</code>"
      ],
      "text/plain": [
       "<IPython.core.display.HTML object>"
      ]
     },
     "metadata": {},
     "output_type": "display_data"
    },
    {
     "name": "stderr",
     "output_type": "stream",
     "text": [
      "\u001b[34m\u001b[1mwandb\u001b[0m: Agent Starting Run: zythikhj with config:\n",
      "\u001b[34m\u001b[1mwandb\u001b[0m: \tbatch_size: 256\n",
      "\u001b[34m\u001b[1mwandb\u001b[0m: \tinput_dim: 784\n",
      "\u001b[34m\u001b[1mwandb\u001b[0m: \tlam: 0.1\n",
      "\u001b[34m\u001b[1mwandb\u001b[0m: \tlr: 0.001\n",
      "\u001b[34m\u001b[1mwandb\u001b[0m: \tmax_patience: 30\n",
      "\u001b[34m\u001b[1mwandb\u001b[0m: \tnum_epochs: 1\n",
      "\u001b[34m\u001b[1mwandb\u001b[0m: \tnum_input_units: 8\n",
      "\u001b[34m\u001b[1mwandb\u001b[0m: \tnum_sum_units: 8\n"
     ]
    },
    {
     "data": {
      "text/html": [
       "wandb version 0.17.3 is available!  To upgrade, please run:\n",
       " $ pip install wandb --upgrade"
      ],
      "text/plain": [
       "<IPython.core.display.HTML object>"
      ]
     },
     "metadata": {},
     "output_type": "display_data"
    },
    {
     "data": {
      "text/html": [
       "Tracking run with wandb version 0.17.0"
      ],
      "text/plain": [
       "<IPython.core.display.HTML object>"
      ]
     },
     "metadata": {},
     "output_type": "display_data"
    },
    {
     "data": {
      "text/html": [
       "Run data is saved locally in <code>/Users/rajit906/Downloads/Dissertation/Symmetry-invariant-Tractable-Generative-Models/src/wandb/run-20240701_153722-zythikhj</code>"
      ],
      "text/plain": [
       "<IPython.core.display.HTML object>"
      ]
     },
     "metadata": {},
     "output_type": "display_data"
    },
    {
     "data": {
      "text/html": [
       "Syncing run <strong><a href='https://wandb.ai/rajpal906/pc_hyperparameter_optimization/runs/zythikhj' target=\"_blank\">fresh-sweep-21</a></strong> to <a href='https://wandb.ai/rajpal906/pc_hyperparameter_optimization' target=\"_blank\">Weights & Biases</a> (<a href='https://wandb.me/run' target=\"_blank\">docs</a>)<br/>Sweep page: <a href='https://wandb.ai/rajpal906/pc_hyperparameter_optimization/sweeps/spvvkf25' target=\"_blank\">https://wandb.ai/rajpal906/pc_hyperparameter_optimization/sweeps/spvvkf25</a>"
      ],
      "text/plain": [
       "<IPython.core.display.HTML object>"
      ]
     },
     "metadata": {},
     "output_type": "display_data"
    },
    {
     "data": {
      "text/html": [
       " View project at <a href='https://wandb.ai/rajpal906/pc_hyperparameter_optimization' target=\"_blank\">https://wandb.ai/rajpal906/pc_hyperparameter_optimization</a>"
      ],
      "text/plain": [
       "<IPython.core.display.HTML object>"
      ]
     },
     "metadata": {},
     "output_type": "display_data"
    },
    {
     "data": {
      "text/html": [
       " View sweep at <a href='https://wandb.ai/rajpal906/pc_hyperparameter_optimization/sweeps/spvvkf25' target=\"_blank\">https://wandb.ai/rajpal906/pc_hyperparameter_optimization/sweeps/spvvkf25</a>"
      ],
      "text/plain": [
       "<IPython.core.display.HTML object>"
      ]
     },
     "metadata": {},
     "output_type": "display_data"
    },
    {
     "data": {
      "text/html": [
       " View run at <a href='https://wandb.ai/rajpal906/pc_hyperparameter_optimization/runs/zythikhj' target=\"_blank\">https://wandb.ai/rajpal906/pc_hyperparameter_optimization/runs/zythikhj</a>"
      ],
      "text/plain": [
       "<IPython.core.display.HTML object>"
      ]
     },
     "metadata": {},
     "output_type": "display_data"
    },
    {
     "name": "stdout",
     "output_type": "stream",
     "text": [
      "Average test LL: 4080.765\n",
      "Bits per dimension: 7.50930971925546\n",
      "Epoch: 0, train nll=4083.606689453125, val nll=4080.764578125\n",
      "saved!\n",
      "Average test LL: 4080.957\n",
      "Bits per dimension: 7.509663631820312\n",
      "FINAL LOSS: nll=4080.95690390625\n"
     ]
    },
    {
     "data": {
      "application/vnd.jupyter.widget-view+json": {
       "model_id": "20a1d16e623a47f4b10c7b2e56e31c61",
       "version_major": 2,
       "version_minor": 0
      },
      "text/plain": [
       "VBox(children=(Label(value='0.001 MB of 0.001 MB uploaded\\r'), FloatProgress(value=1.0, max=1.0)))"
      ]
     },
     "metadata": {},
     "output_type": "display_data"
    },
    {
     "data": {
      "text/html": [
       "<style>\n",
       "    table.wandb td:nth-child(1) { padding: 0 10px; text-align: left ; width: auto;} td:nth-child(2) {text-align: left ; width: 100%}\n",
       "    .wandb-row { display: flex; flex-direction: row; flex-wrap: wrap; justify-content: flex-start; width: 100% }\n",
       "    .wandb-col { display: flex; flex-direction: column; flex-basis: 100%; flex: 1; padding: 10px; }\n",
       "    </style>\n",
       "<div class=\"wandb-row\"><div class=\"wandb-col\"><h3>Run history:</h3><br/><table class=\"wandb\"><tr><td>test_bpd</td><td>▁</td></tr></table><br/></div><div class=\"wandb-col\"><h3>Run summary:</h3><br/><table class=\"wandb\"><tr><td>test_bpd</td><td>7.50966</td></tr></table><br/></div></div>"
      ],
      "text/plain": [
       "<IPython.core.display.HTML object>"
      ]
     },
     "metadata": {},
     "output_type": "display_data"
    },
    {
     "data": {
      "text/html": [
       " View run <strong style=\"color:#cdcd00\">fresh-sweep-21</strong> at: <a href='https://wandb.ai/rajpal906/pc_hyperparameter_optimization/runs/zythikhj' target=\"_blank\">https://wandb.ai/rajpal906/pc_hyperparameter_optimization/runs/zythikhj</a><br/> View project at: <a href='https://wandb.ai/rajpal906/pc_hyperparameter_optimization' target=\"_blank\">https://wandb.ai/rajpal906/pc_hyperparameter_optimization</a><br/>Synced 5 W&B file(s), 0 media file(s), 0 artifact file(s) and 0 other file(s)"
      ],
      "text/plain": [
       "<IPython.core.display.HTML object>"
      ]
     },
     "metadata": {},
     "output_type": "display_data"
    },
    {
     "data": {
      "text/html": [
       "Find logs at: <code>./wandb/run-20240701_153722-zythikhj/logs</code>"
      ],
      "text/plain": [
       "<IPython.core.display.HTML object>"
      ]
     },
     "metadata": {},
     "output_type": "display_data"
    },
    {
     "name": "stderr",
     "output_type": "stream",
     "text": [
      "\u001b[34m\u001b[1mwandb\u001b[0m: Agent Starting Run: e4i6twat with config:\n",
      "\u001b[34m\u001b[1mwandb\u001b[0m: \tbatch_size: 256\n",
      "\u001b[34m\u001b[1mwandb\u001b[0m: \tinput_dim: 784\n",
      "\u001b[34m\u001b[1mwandb\u001b[0m: \tlam: 0.5\n",
      "\u001b[34m\u001b[1mwandb\u001b[0m: \tlr: 0.1\n",
      "\u001b[34m\u001b[1mwandb\u001b[0m: \tmax_patience: 30\n",
      "\u001b[34m\u001b[1mwandb\u001b[0m: \tnum_epochs: 1\n",
      "\u001b[34m\u001b[1mwandb\u001b[0m: \tnum_input_units: 8\n",
      "\u001b[34m\u001b[1mwandb\u001b[0m: \tnum_sum_units: 8\n"
     ]
    },
    {
     "data": {
      "text/html": [
       "wandb version 0.17.3 is available!  To upgrade, please run:\n",
       " $ pip install wandb --upgrade"
      ],
      "text/plain": [
       "<IPython.core.display.HTML object>"
      ]
     },
     "metadata": {},
     "output_type": "display_data"
    },
    {
     "data": {
      "text/html": [
       "Tracking run with wandb version 0.17.0"
      ],
      "text/plain": [
       "<IPython.core.display.HTML object>"
      ]
     },
     "metadata": {},
     "output_type": "display_data"
    },
    {
     "data": {
      "text/html": [
       "Run data is saved locally in <code>/Users/rajit906/Downloads/Dissertation/Symmetry-invariant-Tractable-Generative-Models/src/wandb/run-20240701_154234-e4i6twat</code>"
      ],
      "text/plain": [
       "<IPython.core.display.HTML object>"
      ]
     },
     "metadata": {},
     "output_type": "display_data"
    },
    {
     "data": {
      "text/html": [
       "Syncing run <strong><a href='https://wandb.ai/rajpal906/pc_hyperparameter_optimization/runs/e4i6twat' target=\"_blank\">fast-sweep-22</a></strong> to <a href='https://wandb.ai/rajpal906/pc_hyperparameter_optimization' target=\"_blank\">Weights & Biases</a> (<a href='https://wandb.me/run' target=\"_blank\">docs</a>)<br/>Sweep page: <a href='https://wandb.ai/rajpal906/pc_hyperparameter_optimization/sweeps/spvvkf25' target=\"_blank\">https://wandb.ai/rajpal906/pc_hyperparameter_optimization/sweeps/spvvkf25</a>"
      ],
      "text/plain": [
       "<IPython.core.display.HTML object>"
      ]
     },
     "metadata": {},
     "output_type": "display_data"
    },
    {
     "data": {
      "text/html": [
       " View project at <a href='https://wandb.ai/rajpal906/pc_hyperparameter_optimization' target=\"_blank\">https://wandb.ai/rajpal906/pc_hyperparameter_optimization</a>"
      ],
      "text/plain": [
       "<IPython.core.display.HTML object>"
      ]
     },
     "metadata": {},
     "output_type": "display_data"
    },
    {
     "data": {
      "text/html": [
       " View sweep at <a href='https://wandb.ai/rajpal906/pc_hyperparameter_optimization/sweeps/spvvkf25' target=\"_blank\">https://wandb.ai/rajpal906/pc_hyperparameter_optimization/sweeps/spvvkf25</a>"
      ],
      "text/plain": [
       "<IPython.core.display.HTML object>"
      ]
     },
     "metadata": {},
     "output_type": "display_data"
    },
    {
     "data": {
      "text/html": [
       " View run at <a href='https://wandb.ai/rajpal906/pc_hyperparameter_optimization/runs/e4i6twat' target=\"_blank\">https://wandb.ai/rajpal906/pc_hyperparameter_optimization/runs/e4i6twat</a>"
      ],
      "text/plain": [
       "<IPython.core.display.HTML object>"
      ]
     },
     "metadata": {},
     "output_type": "display_data"
    },
    {
     "name": "stdout",
     "output_type": "stream",
     "text": [
      "Average test LL: 947.009\n",
      "Bits per dimension: 1.7426589836856603\n",
      "Epoch: 0, train nll=943.08056640625, val nll=947.0086223958333\n",
      "saved!\n",
      "Average test LL: 950.055\n",
      "Bits per dimension: 1.7482650049376698\n",
      "FINAL LOSS: nll=950.055087890625\n"
     ]
    },
    {
     "data": {
      "application/vnd.jupyter.widget-view+json": {
       "model_id": "0bb8492d505545849c64bfd4621de01a",
       "version_major": 2,
       "version_minor": 0
      },
      "text/plain": [
       "VBox(children=(Label(value='0.001 MB of 0.001 MB uploaded\\r'), FloatProgress(value=1.0, max=1.0)))"
      ]
     },
     "metadata": {},
     "output_type": "display_data"
    },
    {
     "data": {
      "text/html": [
       "<style>\n",
       "    table.wandb td:nth-child(1) { padding: 0 10px; text-align: left ; width: auto;} td:nth-child(2) {text-align: left ; width: 100%}\n",
       "    .wandb-row { display: flex; flex-direction: row; flex-wrap: wrap; justify-content: flex-start; width: 100% }\n",
       "    .wandb-col { display: flex; flex-direction: column; flex-basis: 100%; flex: 1; padding: 10px; }\n",
       "    </style>\n",
       "<div class=\"wandb-row\"><div class=\"wandb-col\"><h3>Run history:</h3><br/><table class=\"wandb\"><tr><td>test_bpd</td><td>▁</td></tr></table><br/></div><div class=\"wandb-col\"><h3>Run summary:</h3><br/><table class=\"wandb\"><tr><td>test_bpd</td><td>1.74827</td></tr></table><br/></div></div>"
      ],
      "text/plain": [
       "<IPython.core.display.HTML object>"
      ]
     },
     "metadata": {},
     "output_type": "display_data"
    },
    {
     "data": {
      "text/html": [
       " View run <strong style=\"color:#cdcd00\">fast-sweep-22</strong> at: <a href='https://wandb.ai/rajpal906/pc_hyperparameter_optimization/runs/e4i6twat' target=\"_blank\">https://wandb.ai/rajpal906/pc_hyperparameter_optimization/runs/e4i6twat</a><br/> View project at: <a href='https://wandb.ai/rajpal906/pc_hyperparameter_optimization' target=\"_blank\">https://wandb.ai/rajpal906/pc_hyperparameter_optimization</a><br/>Synced 5 W&B file(s), 0 media file(s), 0 artifact file(s) and 0 other file(s)"
      ],
      "text/plain": [
       "<IPython.core.display.HTML object>"
      ]
     },
     "metadata": {},
     "output_type": "display_data"
    },
    {
     "data": {
      "text/html": [
       "Find logs at: <code>./wandb/run-20240701_154234-e4i6twat/logs</code>"
      ],
      "text/plain": [
       "<IPython.core.display.HTML object>"
      ]
     },
     "metadata": {},
     "output_type": "display_data"
    },
    {
     "name": "stderr",
     "output_type": "stream",
     "text": [
      "\u001b[34m\u001b[1mwandb\u001b[0m: Sweep Agent: Waiting for job.\n",
      "\u001b[34m\u001b[1mwandb\u001b[0m: Job received.\n",
      "\u001b[34m\u001b[1mwandb\u001b[0m: Agent Starting Run: hu6avx3y with config:\n",
      "\u001b[34m\u001b[1mwandb\u001b[0m: \tbatch_size: 256\n",
      "\u001b[34m\u001b[1mwandb\u001b[0m: \tinput_dim: 784\n",
      "\u001b[34m\u001b[1mwandb\u001b[0m: \tlam: 0.5\n",
      "\u001b[34m\u001b[1mwandb\u001b[0m: \tlr: 0.01\n",
      "\u001b[34m\u001b[1mwandb\u001b[0m: \tmax_patience: 30\n",
      "\u001b[34m\u001b[1mwandb\u001b[0m: \tnum_epochs: 1\n",
      "\u001b[34m\u001b[1mwandb\u001b[0m: \tnum_input_units: 8\n",
      "\u001b[34m\u001b[1mwandb\u001b[0m: \tnum_sum_units: 8\n"
     ]
    },
    {
     "data": {
      "text/html": [
       "wandb version 0.17.3 is available!  To upgrade, please run:\n",
       " $ pip install wandb --upgrade"
      ],
      "text/plain": [
       "<IPython.core.display.HTML object>"
      ]
     },
     "metadata": {},
     "output_type": "display_data"
    },
    {
     "data": {
      "text/html": [
       "Tracking run with wandb version 0.17.0"
      ],
      "text/plain": [
       "<IPython.core.display.HTML object>"
      ]
     },
     "metadata": {},
     "output_type": "display_data"
    },
    {
     "data": {
      "text/html": [
       "Run data is saved locally in <code>/Users/rajit906/Downloads/Dissertation/Symmetry-invariant-Tractable-Generative-Models/src/wandb/run-20240701_154733-hu6avx3y</code>"
      ],
      "text/plain": [
       "<IPython.core.display.HTML object>"
      ]
     },
     "metadata": {},
     "output_type": "display_data"
    },
    {
     "data": {
      "text/html": [
       "Syncing run <strong><a href='https://wandb.ai/rajpal906/pc_hyperparameter_optimization/runs/hu6avx3y' target=\"_blank\">radiant-sweep-23</a></strong> to <a href='https://wandb.ai/rajpal906/pc_hyperparameter_optimization' target=\"_blank\">Weights & Biases</a> (<a href='https://wandb.me/run' target=\"_blank\">docs</a>)<br/>Sweep page: <a href='https://wandb.ai/rajpal906/pc_hyperparameter_optimization/sweeps/spvvkf25' target=\"_blank\">https://wandb.ai/rajpal906/pc_hyperparameter_optimization/sweeps/spvvkf25</a>"
      ],
      "text/plain": [
       "<IPython.core.display.HTML object>"
      ]
     },
     "metadata": {},
     "output_type": "display_data"
    },
    {
     "data": {
      "text/html": [
       " View project at <a href='https://wandb.ai/rajpal906/pc_hyperparameter_optimization' target=\"_blank\">https://wandb.ai/rajpal906/pc_hyperparameter_optimization</a>"
      ],
      "text/plain": [
       "<IPython.core.display.HTML object>"
      ]
     },
     "metadata": {},
     "output_type": "display_data"
    },
    {
     "data": {
      "text/html": [
       " View sweep at <a href='https://wandb.ai/rajpal906/pc_hyperparameter_optimization/sweeps/spvvkf25' target=\"_blank\">https://wandb.ai/rajpal906/pc_hyperparameter_optimization/sweeps/spvvkf25</a>"
      ],
      "text/plain": [
       "<IPython.core.display.HTML object>"
      ]
     },
     "metadata": {},
     "output_type": "display_data"
    },
    {
     "data": {
      "text/html": [
       " View run at <a href='https://wandb.ai/rajpal906/pc_hyperparameter_optimization/runs/hu6avx3y' target=\"_blank\">https://wandb.ai/rajpal906/pc_hyperparameter_optimization/runs/hu6avx3y</a>"
      ],
      "text/plain": [
       "<IPython.core.display.HTML object>"
      ]
     },
     "metadata": {},
     "output_type": "display_data"
    },
    {
     "name": "stderr",
     "output_type": "stream",
     "text": [
      "\u001b[34m\u001b[1mwandb\u001b[0m: Ctrl + C detected. Stopping sweep.\n"
     ]
    }
   ],
   "source": [
    "import os\n",
    "import random\n",
    "import torch\n",
    "from torch.utils.data import DataLoader\n",
    "import torch.optim.lr_scheduler as lr_scheduler\n",
    "import ssl\n",
    "ssl._create_default_https_context = ssl._create_unverified_context\n",
    "import models\n",
    "import wandb\n",
    "from train import evaluation, training \n",
    "from data import load_data\n",
    "import numpy as np\n",
    "from util import categorical_layer_factory, hadamard_layer_factory, dense_layer_factory, mixing_layer_factory\n",
    "\n",
    "from Cirkit.cirkit.templates.region_graph import QuadTree\n",
    "from Cirkit.cirkit.symbolic.circuit import Circuit\n",
    "from Cirkit.cirkit.pipeline import PipelineContext\n",
    "\n",
    "random.seed(42)\n",
    "np.random.seed(42)\n",
    "os.environ['WANDB_NOTEBOOK_NAME'] = 'hyperparameter_optimization.ipynb'\n",
    "device = torch.device(\"cuda\" if torch.cuda.is_available() else \"cpu\")\n",
    "\n",
    "result_dir = 'models'\n",
    "if not(os.path.exists(result_dir)):\n",
    "    os.mkdir(result_dir)\n",
    "name = 'pc'#Change to regularized\n",
    "\n",
    "sweep_config = {\n",
    "    'method': 'grid'\n",
    "    }\n",
    "metric = {\n",
    "'name': 'test_bpd',\n",
    "'goal': 'minimize'   \n",
    "}\n",
    "\n",
    "sweep_config['metric'] = metric\n",
    "\n",
    "#TODO: add momentum?\n",
    "parameters_dict = {\n",
    "'input_dim': {\n",
    "    'value': 784\n",
    "    },\n",
    "'lam': {\n",
    "    'values': [0.1, 0.5, 1.0]\n",
    "    },\n",
    "'num_epochs': {\n",
    "    'value': 1\n",
    "    },\n",
    "'lr': {\n",
    "    'values': [1e-1, 1e-2, 1e-3]\n",
    "    },\n",
    "'batch_size': {\n",
    "    'values': [64, 128, 256]\n",
    "    },\n",
    "'num_input_units': {\n",
    "    'value': 8\n",
    "    },\n",
    "'num_sum_units': {\n",
    "    'value': 8\n",
    "    },\n",
    "'max_patience': {\n",
    "    'value': 30 # No patience for now, add momentum?\n",
    "    },\n",
    "}\n",
    "\n",
    "\n",
    "sweep_config['parameters'] = parameters_dict\n",
    "sweep_id = wandb.sweep(sweep_config, project=\"pc_hyperparameter_optimization\")\n",
    "\n",
    "def hyperparameter_sweep(config=None):\n",
    "    with wandb.init(config=config):\n",
    "        config = wandb.config\n",
    "        train_data, val_data, test_data = load_data('mnist', binarize = False)\n",
    "        train_loader = DataLoader(train_data, batch_size=config.batch_size, shuffle=True, num_workers=os.cpu_count())\n",
    "        val_loader = DataLoader(val_data, batch_size=config.batch_size, shuffle=False, num_workers=os.cpu_count())\n",
    "        test_loader = DataLoader(test_data, batch_size=config.batch_size, shuffle=False, num_workers=os.cpu_count())\n",
    "        region_graph = QuadTree(shape=(28, 28))\n",
    "        symbolic_circuit = Circuit.from_region_graph(region_graph,\n",
    "                                                    num_input_units=config.num_input_units,\n",
    "                                                    num_sum_units=config.num_sum_units,\n",
    "                                                    input_factory=categorical_layer_factory,\n",
    "                                                    sum_factory=dense_layer_factory,\n",
    "                                                    prod_factory=hadamard_layer_factory,\n",
    "                                                    mixing_factory=mixing_layer_factory)\n",
    "\n",
    "        ctx = PipelineContext(\n",
    "            backend='torch',   # Choose the torch compilation backend\n",
    "            fold=True,         # Fold the circuit, this is a backend-specific compilation flag\n",
    "            semiring='lse-sum' # Use the (R, +, *) semiring, where + is the log-sum-exp and * is the sum\n",
    "        )\n",
    "        circuit = ctx.compile(symbolic_circuit).to(device)\n",
    "        pf_circuit = ctx.integrate(circuit).to(device)\n",
    "        model = (circuit, pf_circuit)\n",
    "        optimizer = torch.optim.SGD([p for p in circuit.parameters() if p.requires_grad == True], lr=config.lr, momentum=0.95)\n",
    "        scheduler = lr_scheduler.StepLR(optimizer, step_size=100, gamma=0.5)\n",
    "        _, _, model_best = training(name=name, result_dir=result_dir, max_patience=config.max_patience, num_epochs=config.num_epochs, \n",
    "                   model=model, optimizer=optimizer, scheduler=scheduler, training_loader=train_loader, \n",
    "                   val_loader=val_loader, device=device, lam=config.lam, batch_size = config.batch_size)\n",
    "        test_nll, test_bpd = evaluation(test_loader, device, model_best=model_best)\n",
    "        wandb.log({\"test_bpd\": test_bpd})\n",
    "\n",
    "wandb.agent(sweep_id, hyperparameter_sweep)"
   ]
  },
  {
   "cell_type": "code",
   "execution_count": null,
   "metadata": {},
   "outputs": [],
   "source": [
    "# TODO: Convert hyperparameter opt to .py, Figure out how to parallelize, Run on Eddie\n",
    "# TODO: Meantime - write overleaf, figure out how to evaluate FID, sampling from PC"
   ]
  }
 ],
 "metadata": {
  "kernelspec": {
   "display_name": "Python 3",
   "language": "python",
   "name": "python3"
  },
  "language_info": {
   "codemirror_mode": {
    "name": "ipython",
    "version": 3
   },
   "file_extension": ".py",
   "mimetype": "text/x-python",
   "name": "python",
   "nbconvert_exporter": "python",
   "pygments_lexer": "ipython3",
   "version": "3.11.4"
  }
 },
 "nbformat": 4,
 "nbformat_minor": 2
}
