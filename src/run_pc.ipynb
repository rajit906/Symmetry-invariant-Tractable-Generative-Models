{
 "cells": [
  {
   "cell_type": "code",
   "execution_count": 1,
   "metadata": {},
   "outputs": [],
   "source": [
    "import os\n",
    "import torch\n",
    "from torch.utils.data import DataLoader\n",
    "import torch.optim.lr_scheduler as lr_scheduler\n",
    "import ssl\n",
    "ssl._create_default_https_context = ssl._create_unverified_context\n",
    "import models\n",
    "import wandb\n",
    "from train_pc import evaluation, training \n",
    "from data import load_data\n",
    "import numpy as np\n",
    "from util import categorical_layer_factory, hadamard_layer_factory, dense_layer_factory, mixing_layer_factory\n",
    "\n",
    "from Cirkit.cirkit.templates.region_graph import QuadTree\n",
    "from Cirkit.cirkit.symbolic.circuit import Circuit\n",
    "from Cirkit.cirkit.pipeline import PipelineContext\n",
    "\n",
    "np.random.seed(42)\n",
    "device = torch.device(\"cuda\" if torch.cuda.is_available() else \"cpu\")\n",
    "\n",
    "height = 28\n",
    "input_dim = 784\n",
    "batch_size = 256\n",
    "region_graph = QuadTree(shape=(height, height))\n",
    "result_dir = 'model'\n",
    "name = 'pc'\n",
    "max_patience = 20\n",
    "num_epochs = 3\n",
    "lam = 1.0\n",
    "lr = 0.1\n",
    "num_input_units = 8\n",
    "num_sum_units = 8\n",
    "\n",
    "symbolic_circuit = Circuit.from_region_graph(\n",
    "    region_graph,\n",
    "    num_input_units=num_input_units,\n",
    "    num_sum_units=num_sum_units,\n",
    "    input_factory=categorical_layer_factory,\n",
    "    sum_factory=dense_layer_factory,\n",
    "    prod_factory=hadamard_layer_factory,\n",
    "    mixing_factory=mixing_layer_factory\n",
    ")\n",
    "\n",
    "ctx = PipelineContext(\n",
    "    backend='torch',   # Choose the torch compilation backend\n",
    "    fold=True,         # Fold the circuit, this is a backend-specific compilation flag\n",
    "    semiring='lse-sum' # Use the (R, +, *) semiring, where + is the log-sum-exp and * is the sum\n",
    ")\n",
    "circuit = ctx.compile(symbolic_circuit).to(device)\n",
    "pf_circuit = ctx.integrate(circuit).to(device)\n",
    "model = (circuit, pf_circuit)\n",
    "\n",
    "train_data, val_data, test_data = load_data('mnist', binarize = False)\n",
    "train_loader = DataLoader(train_data, batch_size=batch_size, shuffle=True, num_workers=os.cpu_count())\n",
    "val_loader = DataLoader(val_data, batch_size=batch_size, shuffle=False, num_workers=os.cpu_count())\n",
    "test_loader = DataLoader(test_data, batch_size=batch_size, shuffle=False, num_workers=os.cpu_count())\n",
    "optimizer = torch.optim.Adam([p for p in circuit.parameters() if p.requires_grad == True], lr = lr)\n",
    "scheduler = lr_scheduler.StepLR(optimizer, step_size=100, gamma=0.5)"
   ]
  },
  {
   "cell_type": "code",
   "execution_count": 3,
   "metadata": {},
   "outputs": [
    {
     "name": "stdout",
     "output_type": "stream",
     "text": [
      "Average test LL: 63.554\n",
      "Bits per dimension: 0.11695029445732037\n",
      "Epoch: 0, train nll=56.70426940917969, val nll=63.553993225097656\n",
      "saved!\n",
      "Average test LL: 63.206\n",
      "Bits per dimension: 0.11630964654767778\n",
      "Epoch: 1, train nll=51.171173095703125, val nll=63.20584760393415\n",
      "saved!\n",
      "Average test LL: 63.156\n",
      "Bits per dimension: 0.11621876683685042\n",
      "Epoch: 2, train nll=46.05095672607422, val nll=63.15646107991537\n",
      "saved!\n"
     ]
    }
   ],
   "source": [
    "nll_val = training(name=name, result_dir=result_dir, max_patience=max_patience, num_epochs=num_epochs, \n",
    "                   model=model, optimizer=optimizer, scheduler=scheduler, \n",
    "                   training_loader=train_loader, val_loader=val_loader, device=device, lam=lam, batch_size = batch_size)"
   ]
  },
  {
   "cell_type": "code",
   "execution_count": 4,
   "metadata": {},
   "outputs": [],
   "source": [
    "#TODO: validate losses, figure out how to save models, integrate wandb, \n",
    "# validate, change translations, hyperparameter optimization on Eddie, sample and validate"
   ]
  }
 ],
 "metadata": {
  "kernelspec": {
   "display_name": "Python 3",
   "language": "python",
   "name": "python3"
  },
  "language_info": {
   "codemirror_mode": {
    "name": "ipython",
    "version": 3
   },
   "file_extension": ".py",
   "mimetype": "text/x-python",
   "name": "python",
   "nbconvert_exporter": "python",
   "pygments_lexer": "ipython3",
   "version": "3.11.4"
  }
 },
 "nbformat": 4,
 "nbformat_minor": 2
}
