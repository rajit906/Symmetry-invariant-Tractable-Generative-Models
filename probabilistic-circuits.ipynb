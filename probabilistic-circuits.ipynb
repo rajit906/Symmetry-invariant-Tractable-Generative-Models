{
 "cells": [
  {
   "cell_type": "code",
   "execution_count": 3,
   "metadata": {},
   "outputs": [
    {
     "ename": "ModuleNotFoundError",
     "evalue": "No module named 'numpy'",
     "output_type": "error",
     "traceback": [
      "\u001b[0;31m---------------------------------------------------------------------------\u001b[0m",
      "\u001b[0;31mModuleNotFoundError\u001b[0m                       Traceback (most recent call last)",
      "Cell \u001b[0;32mIn[3], line 1\u001b[0m\n\u001b[0;32m----> 1\u001b[0m \u001b[38;5;28;01mimport\u001b[39;00m \u001b[38;5;21;01mnumpy\u001b[39;00m \u001b[38;5;28;01mas\u001b[39;00m \u001b[38;5;21;01mnp\u001b[39;00m\n\u001b[1;32m      2\u001b[0m SKLEARN_ALLOW_DEPRECATED_SKLEARN_PACKAGE_INSTALL\u001b[38;5;241m=\u001b[39m\u001b[38;5;28;01mTrue\u001b[39;00m\n\u001b[1;32m      4\u001b[0m np\u001b[38;5;241m.\u001b[39mrandom\u001b[38;5;241m.\u001b[39mseed(\u001b[38;5;241m123\u001b[39m)\n",
      "\u001b[0;31mModuleNotFoundError\u001b[0m: No module named 'numpy'"
     ]
    }
   ],
   "source": [
    "import numpy as np\n",
    "SKLEARN_ALLOW_DEPRECATED_SKLEARN_PACKAGE_INSTALL=True\n",
    "\n",
    "np.random.seed(123)\n",
    "\n",
    "from spn.algorithms.LearningWrappers import learn_mspn\n",
    "from spn.structure.Base import Context\n",
    "from spn.structure.StatisticalTypes import MetaType\n",
    "\n",
    "spn = 0.4 * (Categorical(p=[0.2, 0.8], scope=0) *\n",
    "             (0.3 * (Categorical(p=[0.3, 0.7], scope=1) *\n",
    "                     Categorical(p=[0.4, 0.6], scope=2))\n",
    "            + 0.7 * (Categorical(p=[0.5, 0.5], scope=1) *\n",
    "                     Categorical(p=[0.6, 0.4], scope=2)))) \\\n",
    "    + 0.6 * (Categorical(p=[0.2, 0.8], scope=0) *\n",
    "             Categorical(p=[0.3, 0.7], scope=1) *\n",
    "             Categorical(p=[0.4, 0.6], scope=2))"
   ]
  },
  {
   "cell_type": "code",
   "execution_count": null,
   "metadata": {},
   "outputs": [],
   "source": []
  }
 ],
 "metadata": {
  "kernelspec": {
   "display_name": "Python 3",
   "language": "python",
   "name": "python3"
  },
  "language_info": {
   "codemirror_mode": {
    "name": "ipython",
    "version": 3
   },
   "file_extension": ".py",
   "mimetype": "text/x-python",
   "name": "python",
   "nbconvert_exporter": "python",
   "pygments_lexer": "ipython3",
   "version": "3.9.6"
  }
 },
 "nbformat": 4,
 "nbformat_minor": 2
}
